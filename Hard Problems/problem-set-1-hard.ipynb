{
 "cells": [
  {
   "cell_type": "code",
   "execution_count": null,
   "metadata": {},
   "outputs": [],
   "source": [
    "# 4. Median of two sorted arrays:\n",
    "# Given two sorted arrays nums1 and nums2 of size m and n respectively, return the median of the two sorted arrays.\n",
    "# The overall run time complexity should be O(log (m+n)).\n",
    "\n",
    "def find_median_sorted_array(arr1, arr2):\n",
    "  merged_arr = sorted(arr1 + arr2)\n",
    "  len_of_merged_arr = len(merged_arr)\n",
    "  middle = len_of_merged_arr // 2\n",
    "  \n",
    "  if (len_of_merged_arr % 2) == 0:\n",
    "    sum_of_middle_integers = merged_arr[middle] = merged_arr[middle - 1]\n",
    "    median = sum_of_middle_integers / 2\n",
    "    return median\n",
    "  else:\n",
    "    median = merged_arr[middle]\n",
    "    return median\n",
    "  \n",
    "\n",
    "# runtime: 90ms, beats 97%\n",
    "# memory: 14MB, beats 67%"
   ]
  },
  {
   "cell_type": "code",
   "execution_count": 1,
   "metadata": {},
   "outputs": [
    {
     "ename": "IndentationError",
     "evalue": "expected an indented block (4217676356.py, line 29)",
     "output_type": "error",
     "traceback": [
      "\u001b[0;36m  File \u001b[0;32m\"/var/folders/2c/zq_c4fzs13d88rhgpk2tytjw0000gn/T/ipykernel_15641/4217676356.py\"\u001b[0;36m, line \u001b[0;32m29\u001b[0m\n\u001b[0;31m    \u001b[0m\n\u001b[0m    ^\u001b[0m\n\u001b[0;31mIndentationError\u001b[0m\u001b[0;31m:\u001b[0m expected an indented block\n"
     ]
    }
   ],
   "source": [
    "# 5.Longest Palindromic substring\n",
    "# Given a string s, return the longest palindromic substrin in s.\n",
    "\n",
    "\n",
    "input = \"ababd\"\n",
    "input = \"abbd\"\n",
    "\n",
    "def longest_palindromic_substring(s):\n",
    "  longest_palindrome = \"\"\n",
    "  \n",
    "  for center_index in range(len(s)):\n",
    "    temp_palindrome = s[center_index]\n",
    "    \n",
    "    right_index = 1\n",
    "    left_index = 1\n",
    "    \n",
    "    # while (s[left_index] == s[right_index]) and ((center_index - left_index >= 0) and (center_index + right_index < len(s))):\n",
    "    # while (s[left_index] == s[right_index]):\n",
    "    while (left_index == right_index):\n",
    "      if (center_index + right_index) < len(s):\n",
    "        right_index += 1\n",
    "        temp_palindrome = s[center_index : center_index + right_index]\n",
    "      \n",
    "      if temp_palindrome == temp_palindrome[::-1]:\n",
    "        if len(longest_palindrome) < temp_palindrome:\n",
    "          longest_palindrome = temp_palindrome\n",
    "      \n",
    "      if (center_index - left_index) >= 0:\n",
    "        temp_palindrome = s[center_index - left_index: center_index + right_index]\n",
    "        left_index += 1\n",
    "      \n",
    "      if temp_palindrome == temp_palindrome[::-1]:\n",
    "        if len(longest_palindrome) < temp_palindrome:\n",
    "          longest_palindrome = temp_palindrome\n",
    "          \n",
    "          \n",
    "      # if (center_index + right_index) < len(s):\n",
    "              \n",
    "      # left_index += 1\n",
    "      # right_index += 1\n",
    "      \n",
    "      "
   ]
  },
  {
   "cell_type": "code",
   "execution_count": null,
   "metadata": {},
   "outputs": [],
   "source": []
  }
 ],
 "metadata": {
  "kernelspec": {
   "display_name": "base",
   "language": "python",
   "name": "python3"
  },
  "language_info": {
   "codemirror_mode": {
    "name": "ipython",
    "version": 3
   },
   "file_extension": ".py",
   "mimetype": "text/x-python",
   "name": "python",
   "nbconvert_exporter": "python",
   "pygments_lexer": "ipython3",
   "version": "3.9.13"
  },
  "orig_nbformat": 4,
  "vscode": {
   "interpreter": {
    "hash": "40d3a090f54c6569ab1632332b64b2c03c39dcf918b08424e98f38b5ae0af88f"
   }
  }
 },
 "nbformat": 4,
 "nbformat_minor": 2
}
