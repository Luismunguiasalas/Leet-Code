{
 "cells": [
  {
   "cell_type": "code",
   "execution_count": null,
   "metadata": {},
   "outputs": [],
   "source": [
    "# 4. Median of two sorted arrays:\n",
    "# Given two sorted arrays nums1 and nums2 of size m and n respectively, return the median of the two sorted arrays.\n",
    "# The overall run time complexity should be O(log (m+n)).\n",
    "\n",
    "def find_median_sorted_array(arr1, arr2):\n",
    "  merged_arr = sorted(arr1 + arr2)\n",
    "  len_of_merged_arr = len(merged_arr)\n",
    "  middle = len_of_merged_arr // 2\n",
    "  \n",
    "  if (len_of_merged_arr % 2) == 0:\n",
    "    sum_of_middle_integers = merged_arr[middle] = merged_arr[middle - 1]\n",
    "    median = sum_of_middle_integers / 2\n",
    "    return median\n",
    "  else:\n",
    "    median = merged_arr[middle]\n",
    "    return median\n",
    "  \n",
    "\n",
    "# runtime: 90ms, beats 97%\n",
    "# memory: 14MB, beats 67%"
   ]
  }
 ],
 "metadata": {
  "language_info": {
   "name": "python"
  },
  "orig_nbformat": 4
 },
 "nbformat": 4,
 "nbformat_minor": 2
}
