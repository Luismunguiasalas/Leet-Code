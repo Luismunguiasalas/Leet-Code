{
 "cells": [
  {
   "cell_type": "code",
   "execution_count": null,
   "metadata": {},
   "outputs": [],
   "source": [
    "# 4. Median of two sorted arrays:\n",
    "# Given two sorted arrays nums1 and nums2 of size m and n respectively, return the median of the two sorted arrays.\n",
    "# The overall run time complexity should be O(log (m+n)).\n",
    "\n",
    "def find_median_sorted_array(arr1, arr2):\n",
    "  merged_arr = sorted(arr1 + arr2)\n",
    "  len_of_merged_arr = len(merged_arr)\n",
    "  middle = len_of_merged_arr // 2\n",
    "  \n",
    "  if (len_of_merged_arr % 2) == 0:\n",
    "    sum_of_middle_integers = merged_arr[middle] = merged_arr[middle - 1]\n",
    "    median = sum_of_middle_integers / 2\n",
    "    return median\n",
    "  else:\n",
    "    median = merged_arr[middle]\n",
    "    return median\n",
    "  \n",
    "\n",
    "# runtime: 90ms, beats 97%\n",
    "# memory: 14MB, beats 67%"
   ]
  },
  {
   "cell_type": "code",
   "execution_count": null,
   "metadata": {},
   "outputs": [],
   "source": [
    "# 5.Longest Palindromic substring\n",
    "# Given a string s, return the longest palindromic substrin in s.\n",
    "\n",
    "      \n",
    "def longest_palindrome(s):\n",
    "  # string\n",
    "  palindrome_radii = [0 for i in range(len(s))]\n",
    "  \n",
    "  center = 0\n",
    "  radius = 0\n",
    "  \n",
    "  while center < len(s):\n",
    "    \n",
    "    while center - (radius + 1) >= 0 and center + (radius + 1) < len(s) and s[center - (radius + 1)]  == s[center + (radius + 1)]:\n",
    "      radius += 1\n",
    "    \n",
    "    palindrome_radii[center] = radius\n",
    "    \n",
    "    old_center = center\n",
    "    old_radius = radius\n",
    "    center += 1\n",
    "    radius = 0\n",
    "    while center <= old_center + old_radius:\n",
    "      mirrored_center = old_center - (center - old_center)\n",
    "      max_mirrored_radius = old_center + old_radius - center\n",
    "      \n",
    "      if palindrome_radii[mirrored_center] < max_mirrored_radius:\n",
    "        palindrome_radii[center] = palindrome_radii[mirrored_center]\n",
    "        center += 1\n",
    "        \n",
    "      elif palindrome_radii[mirrored_center] > max_mirrored_radius:\n",
    "        palindrome_radii[center] = max_mirrored_radius\n",
    "        center += 1\n",
    "      else:\n",
    "        radius = max_mirrored_radius\n",
    "        break\n",
    "  \n",
    "  longest_palindrome_in_s = max(palindrome_radii)\n",
    "  return longest_palindrome_in_s\n",
    "      "
   ]
  },
  {
   "cell_type": "code",
   "execution_count": null,
   "metadata": {},
   "outputs": [],
   "source": []
  }
 ],
 "metadata": {
  "kernelspec": {
   "display_name": "base",
   "language": "python",
   "name": "python3"
  },
  "language_info": {
   "codemirror_mode": {
    "name": "ipython",
    "version": 3
   },
   "file_extension": ".py",
   "mimetype": "text/x-python",
   "name": "python",
   "nbconvert_exporter": "python",
   "pygments_lexer": "ipython3",
   "version": "3.9.13 (main, Aug 25 2022, 18:29:29) \n[Clang 12.0.0 ]"
  },
  "orig_nbformat": 4,
  "vscode": {
   "interpreter": {
    "hash": "40d3a090f54c6569ab1632332b64b2c03c39dcf918b08424e98f38b5ae0af88f"
   }
  }
 },
 "nbformat": 4,
 "nbformat_minor": 2
}
