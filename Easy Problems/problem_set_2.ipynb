{
 "cells": [
  {
   "cell_type": "markdown",
   "metadata": {},
   "source": [
    "# 860. Lemonade Change\n",
    "\n",
    "**Description:**\n",
    "\n",
    "At a lemonade stand, each lemonade costs $5. Customers are standing in a queue to buy from you and order one at a time (in the order specified by bills). Each customer will only buy one lemonade and pay with either a $5, $10, or $20 bill. You must provide the correct change to each customer so that the net transaction is that the customer pays $5.\n",
    "\n",
    "Note that you do not have any change in hand at first.\n",
    "\n",
    "Given an integer array bills where bills[i] is the bill the ith customer pays, return true if you can provide every customer with the correct change, or false otherwise.\n",
    "\n",
    "**Runtime Data:**\n",
    "\n",
    "<img src=\"problem-set-2-img/380.png\" style='height: 400px; width: auto;'>"
   ]
  },
  {
   "cell_type": "code",
   "execution_count": null,
   "metadata": {},
   "outputs": [],
   "source": [
    "class Solution:\n",
    "    def lemonadeChange(self, bills: List[int]) -> bool:\n",
    "        five = 0\n",
    "        ten = 0\n",
    "        twenty = 0\n",
    "        for dollar in bills:\n",
    "            if dollar == 10:\n",
    "                if five > 0:\n",
    "                    five -= 1\n",
    "                    ten += 1\n",
    "                else:\n",
    "                    return False\n",
    "            elif dollar == 20:\n",
    "                if ten > 0 and five > 0:\n",
    "                    ten -= 1\n",
    "                    five -= 1\n",
    "                    twenty += 1\n",
    "                elif five > 2:\n",
    "                    five -= 3\n",
    "                    twenty += 1\n",
    "                else:\n",
    "                    return False\n",
    "            else:\n",
    "                five += 1\n",
    "        return True"
   ]
  },
  {
   "cell_type": "markdown",
   "metadata": {},
   "source": [
    "# 976. Largest Perimeter Triangle\n",
    "\n",
    "Given an integer array nums, return the largest perimeter of a triangle with a non-zero area, formed from three of these lengths. \n",
    "\n",
    "If it is impossible to form any triangle of a non-zero area, return 0.\n",
    "\n",
    "<img src=\"problem-set-2-img/976.png\" style='height: 400px; width: auto;'>"
   ]
  },
  {
   "cell_type": "code",
   "execution_count": null,
   "metadata": {},
   "outputs": [],
   "source": [
    "class Solution:\n",
    "    def largestPerimeter(self, nums: List[int]) -> int:\n",
    "        nums.sort()\n",
    "        # find 2 sides that are greater than the 3rd:  a + b > c\n",
    "        for i in range(len(nums) - 3, -1, -1):\n",
    "            x = nums[i]\n",
    "            y = nums[i+1]\n",
    "            z = nums[i+2]\n",
    "            if x + y > z:\n",
    "                return x+y+z\n",
    "        return 0"
   ]
  },
  {
   "cell_type": "markdown",
   "metadata": {},
   "source": [
    "# 1232. Check If It Is a Straight Line\n",
    "\n",
    "You are given an array coordinates, coordinates[i] = [x, y], where [x, y] represents the coordinate of a point. Check if these points make a straight line in the XY plane.\n",
    "\n",
    "<img src=\"problem-set-2-img/1232.png\" style='height: 400px; width: auto;'>"
   ]
  },
  {
   "cell_type": "code",
   "execution_count": null,
   "metadata": {},
   "outputs": [],
   "source": [
    "class Solution:\n",
    "    def checkStraightLine(self, coordinates: List[List[int]]) -> bool:\n",
    "        x1,y1 = coordinates[0]\n",
    "        x2,y2 = coordinates[1]\n",
    "        # s = y2 - y1 / x2 - x1 you may calculate slope this way, but the denominator may be zero\n",
    "        for arr in coordinates[2:]:\n",
    "            x3,y3 = arr\n",
    "            # Use the equality equation delta y1 * delta x2 = delta y2 * delta x1\n",
    "            if (x2 - x1) * (y3 - y2) != (x3 - x2) * (y2 - y1):\n",
    "                return False\n",
    "        return True"
   ]
  },
  {
   "cell_type": "markdown",
   "metadata": {},
   "source": [
    "# 67. Add Binary\n",
    "\n",
    "Given two binary strings a and b, return their sum as a binary string.\n",
    "\n",
    "<img src=\"problem-set-2-img/67.png\" style='height: 400px; width: auto;'>"
   ]
  },
  {
   "cell_type": "code",
   "execution_count": null,
   "metadata": {},
   "outputs": [],
   "source": [
    "class Solution:\n",
    "    def addBinary(self, a: str, b: str) -> str:\n",
    "        # convert each binary into it's integer equivalent\n",
    "        # Then sum each, and then reconvert the sum into binary \n",
    "        return bin(int(a,2) + int(b,2))[2:]"
   ]
  },
  {
   "cell_type": "markdown",
   "metadata": {},
   "source": [
    "# 2798. Number of Employees Who Met the Target\n",
    "\n",
    "There are n employees in a company, numbered from 0 to n - 1. Each employee i has worked for hours[i] hours in the company.\n",
    "\n",
    "The company requires each employee to work for at least target hours.\n",
    "\n",
    "You are given a 0-indexed array of non-negative integers hours of length n and a non-negative integer target.\n",
    "\n",
    "Return the integer denoting the number of employees who worked at least target hours.\n",
    "\n",
    "<img src=\"problem-set-2-img/2798.png\" style='height: 400px; width: auto;'>"
   ]
  },
  {
   "cell_type": "code",
   "execution_count": null,
   "metadata": {},
   "outputs": [],
   "source": [
    "class Solution:\n",
    "    def numberOfEmployeesWhoMetTarget(self, hours: List[int], target: int) -> int:\n",
    "        count = 0\n",
    "        for hour in hours:\n",
    "            if hour >= target:\n",
    "                count += 1\n",
    "        return count"
   ]
  },
  {
   "cell_type": "markdown",
   "metadata": {},
   "source": [
    "# 1913. Maximum Product Difference Between Two Pairs\n",
    "\n",
    "The product difference between two pairs (a, b) and (c, d) is defined as (a * b) - (c * d).\n",
    "\n",
    "For example, the product difference between (5, 6) and (2, 7) is (5 * 6) - (2 * 7) = 16.\n",
    "Given an integer array nums, choose four distinct indices w, x, y, and z such that the product difference between pairs (nums[w], nums[x]) and (nums[y], nums[z]) is maximized.\n",
    "\n",
    "Return the maximum such product difference.\n",
    "\n",
    "<img src=\"problem-set-2-img/1913.png\" style='height: 400px; width: auto;'>"
   ]
  },
  {
   "cell_type": "code",
   "execution_count": null,
   "metadata": {},
   "outputs": [],
   "source": [
    "class Solution:\n",
    "    def maxProductDifference(self, nums: List[int]) -> int:\n",
    "        mx_heap=[0,0]\n",
    "        mn_heap=[10**4,10**4]\n",
    "        for n in nums:\n",
    "            if mx_heap[0] < n:\n",
    "                temp = mx_heap[0]\n",
    "                mx_heap[0] = n\n",
    "                if temp > mx_heap[1]:\n",
    "                    mx_heap[1] = temp\n",
    "            elif mx_heap[1] < n:\n",
    "                mx_heap[1] = n\n",
    "        for n in nums:\n",
    "            if mn_heap[0] > n:\n",
    "                temp = mn_heap[0]\n",
    "                mn_heap[0] = n\n",
    "                if temp < mn_heap[1]:\n",
    "                    mn_heap[1] = temp\n",
    "            elif mn_heap[1] > n:\n",
    "                mn_heap[1] = n\n",
    "        return (mx_heap[0]*mx_heap[1]) - (mn_heap[0]*mn_heap[1])"
   ]
  },
  {
   "cell_type": "markdown",
   "metadata": {},
   "source": [
    "# 1266. Minimum Time Visiting All Points\n",
    "\n",
    "On a 2D plane, there are n points with integer coordinates points[i] = [xi, yi]. Return the minimum time in seconds to visit all the points in the order given by points.\n",
    "\n",
    "You can move according to these rules:\n",
    "\n",
    "In 1 second, you can either:\n",
    "\n",
    "move vertically by one unit,\n",
    "\n",
    "move horizontally by one unit, or\n",
    "\n",
    "move diagonally sqrt(2) units (in other words, move one unit vertically then one unit horizontally in 1 second).\n",
    "\n",
    "You have to visit the points in the same order as they appear in the array.\n",
    "\n",
    "You are allowed to pass through points that appear later in the order, but these do not count as visits.\n",
    "\n",
    "<img src=\"problem-set-2-img/1266.png\" style='height: 400px; width: auto;'>"
   ]
  },
  {
   "cell_type": "code",
   "execution_count": null,
   "metadata": {},
   "outputs": [],
   "source": [
    "class Solution:\n",
    "    def minTimeToVisitAllPoints(self, points: List[List[int]]) -> int:\n",
    "        ans=0\n",
    "        for i in range(len(points)-1):\n",
    "            curr_x,curr_y=points[i]\n",
    "            next_x,next_y=points[i+1]\n",
    "            ans += max(abs(next_x-curr_x),abs(next_y-curr_y))\n",
    "        return ans"
   ]
  },
  {
   "cell_type": "markdown",
   "metadata": {},
   "source": [
    "# 1464. Maximum Product of Two Elements in an Array\n",
    "\n",
    "Given the array of integers nums, you will choose two different indices i and j of that array. Return the maximum value of (nums[i]-1)*(nums[j]-1).\n",
    "\n",
    "<img src=\"problem-set-2-img/1464.png\" style='height: 400px; width: auto;'>"
   ]
  },
  {
   "cell_type": "code",
   "execution_count": null,
   "metadata": {},
   "outputs": [],
   "source": [
    "class Solution:\n",
    "    def maxProduct(self, nums: List[int]) -> int:\n",
    "        mx_heap=[0,0]\n",
    "        for n in nums:\n",
    "            if n > mx_heap[0]:\n",
    "                temp=mx_heap[0]\n",
    "                mx_heap[0] = n\n",
    "                if temp > mx_heap[1]:\n",
    "                    mx_heap[1]=temp\n",
    "            elif n > mx_heap[1]:\n",
    "                mx_heap[1]=n\n",
    "        return (mx_heap[0]-1)*(mx_heap[1]-1)"
   ]
  },
  {
   "cell_type": "markdown",
   "metadata": {},
   "source": [
    "# 1436. Destination City\n",
    "\n",
    "You are given the array paths, where paths[i] = [cityAi, cityBi] means there exists a direct path going from cityAi to cityBi. Return the destination city, that is, the city without any path outgoing to another city.\n",
    "\n",
    "It is guaranteed that the graph of paths forms a line without any loop, therefore, there will be exactly one destination city.\n",
    "\n",
    "<img src=\"problem-set-2-img/1436.png\" style='height: 400px; width: auto;'>"
   ]
  },
  {
   "cell_type": "code",
   "execution_count": null,
   "metadata": {},
   "outputs": [],
   "source": [
    "class Solution:\n",
    "    def destCity(self, paths: List[List[str]]) -> str:\n",
    "        bag=set()\n",
    "        for origin,destination in paths:\n",
    "            if origin not in bag:\n",
    "                bag.add(origin)\n",
    "        for origin,destination in paths:\n",
    "            if destination not in bag:\n",
    "                return destination"
   ]
  },
  {
   "cell_type": "markdown",
   "metadata": {},
   "source": [
    "# 867. Transpose Matrix\n",
    "\n",
    "Given a 2D integer array matrix, return the transpose of matrix.\n",
    "\n",
    "The transpose of a matrix is the matrix flipped over its main diagonal, switching the matrix's row and column indices.\n",
    "\n",
    "<img src=\"problem-set-2-img/867.png\" style='height: 400px; width: auto;'>"
   ]
  },
  {
   "cell_type": "code",
   "execution_count": null,
   "metadata": {},
   "outputs": [],
   "source": [
    "class Solution:\n",
    "    def transpose(self, matrix: List[List[int]]) -> List[List[int]]:\n",
    "        n = len(matrix[0])\n",
    "        output = [[] for i in range(n)]\n",
    "        for arr in matrix:\n",
    "            for i in range(n):\n",
    "                output[i].append(arr[i])\n",
    "        return output"
   ]
  },
  {
   "cell_type": "markdown",
   "metadata": {},
   "source": [
    "# 2574. Left and Right Sum Differences\n",
    "\n",
    "Given a 0-indexed integer array nums, find a 0-indexed integer array answer where:\n",
    "\n",
    "answer.length == nums.length.\n",
    "answer[i] = |leftSum[i] - rightSum[i]|.\n",
    "Where:\n",
    "\n",
    "leftSum[i] is the sum of elements to the left of the index i in the array nums. If there is no such element, leftSum[i] = 0.\n",
    "rightSum[i] is the sum of elements to the right of the index i in the array nums. If there is no such element, rightSum[i] = 0.\n",
    "Return the array answer.\n",
    "\n",
    "<img src=\"problem-set-2-img/2574.png\" style='height: 400px; width: auto;'>"
   ]
  },
  {
   "cell_type": "code",
   "execution_count": null,
   "metadata": {},
   "outputs": [],
   "source": [
    "class Solution:\n",
    "    def leftRightDifference(self, nums: List[int]) -> List[int]:\n",
    "        out = []\n",
    "        left_sum = []\n",
    "        right_sum = []\n",
    "        n = len(nums)\n",
    "        prv = 0\n",
    "        for i in range(n):\n",
    "            left_sum.append(prv)\n",
    "            prv += nums[i]\n",
    "        prv = 0\n",
    "        for i in range(n-1,-1,-1):\n",
    "            right_sum.insert(0,prv)\n",
    "            prv += nums[i]\n",
    "        for i in range(n):\n",
    "            out.append(abs(left_sum[i] - right_sum[i]))\n",
    "        return out"
   ]
  },
  {
   "cell_type": "markdown",
   "metadata": {},
   "source": [
    "# 2974. Minimum Number Game\n",
    "\n",
    "You are given a 0-indexed integer array nums of even length and there is also an empty array arr. Alice and Bob decided to play a game where in every round Alice and Bob will do one move. The rules of the game are as follows:\n",
    "\n",
    "Every round, first Alice will remove the minimum element from nums, and then Bob does the same.\n",
    "Now, first Bob will append the removed element in the array arr, and then Alice does the same.\n",
    "The game continues until nums becomes empty.\n",
    "Return the resulting array arr.\n",
    "\n",
    "<img src=\"problem-set-2-img/2974.png\" style='height: 400px; width: auto;'>"
   ]
  },
  {
   "cell_type": "code",
   "execution_count": null,
   "metadata": {},
   "outputs": [],
   "source": [
    "class Solution:\n",
    "    def numberGame(self, nums: List[int]) -> List[int]:\n",
    "        out=[]\n",
    "        nums.sort()\n",
    "        while len(nums) > 1:\n",
    "            a = nums.pop(0)\n",
    "            b = nums.pop(0)\n",
    "            out.append(b)\n",
    "            out.append(a)\n",
    "        return out"
   ]
  },
  {
   "cell_type": "markdown",
   "metadata": {},
   "source": [
    "# 1662. Check If Two String Arrays are Equivalent\n",
    "\n",
    "Given two string arrays word1 and word2, return true if the two arrays represent the same string, and false otherwise.\n",
    "\n",
    "A string is represented by an array if the array elements concatenated in order forms the string.\n",
    "\n",
    "<img src=\"problem-set-2-img/1662.png\" style='height: 400px; width: auto;'>"
   ]
  },
  {
   "cell_type": "code",
   "execution_count": null,
   "metadata": {},
   "outputs": [],
   "source": [
    "class Solution:\n",
    "    def arrayStringsAreEqual(self, word1: List[str], word2: List[str]) -> bool:\n",
    "        return ''.join(word1) == ''.join(word2)"
   ]
  },
  {
   "cell_type": "markdown",
   "metadata": {},
   "source": [
    "# 1773. Count Items Matching a Rule\n",
    "\n",
    "You are given an array items, where each items[i] = [typei, colori, namei] describes the type, color, and name of the ith item. You are also given a rule represented by two strings, ruleKey and ruleValue.\n",
    "\n",
    "The ith item is said to match the rule if one of the following is true:\n",
    "\n",
    "ruleKey == \"type\" and ruleValue == typei.\n",
    "ruleKey == \"color\" and ruleValue == colori.\n",
    "ruleKey == \"name\" and ruleValue == namei.\n",
    "Return the number of items that match the given rule.\n",
    "\n",
    "<img src=\"problem-set-2-img/1773.png\" style='height: 400px; width: auto;'>"
   ]
  },
  {
   "cell_type": "code",
   "execution_count": null,
   "metadata": {},
   "outputs": [],
   "source": [
    "class Solution:\n",
    "    def countMatches(self, items: List[List[str]], ruleKey: str, ruleValue: str) -> int:\n",
    "        cnt = 0\n",
    "        for item in items:\n",
    "            typpe, color, name = item\n",
    "            if ruleKey == \"type\" and ruleValue == typpe:\n",
    "                cnt += 1\n",
    "            elif ruleKey == \"color\" and ruleValue == color:\n",
    "                cnt += 1\n",
    "            elif ruleKey == \"name\" and ruleValue == name:\n",
    "                cnt += 1\n",
    "        return cnt"
   ]
  },
  {
   "cell_type": "markdown",
   "metadata": {},
   "source": [
    "# 1816. Truncate Sentence\n",
    "\n",
    "A sentence is a list of words that are separated by a single space with no leading or trailing spaces. Each of the words consists of only uppercase and lowercase English letters (no punctuation).\n",
    "\n",
    "For example, \"Hello World\", \"HELLO\", and \"hello world hello world\" are all sentences.\n",
    "You are given a sentence s​​​​​​ and an integer k​​​​​​. You want to truncate s​​​​​​ such that it contains only the first k​​​​​​ words. Return s​​​​​​ after truncating it.\n",
    "\n",
    "<img src=\"problem-set-2-img/1816.png\" style='height: 400px; width: auto;'>"
   ]
  },
  {
   "cell_type": "code",
   "execution_count": null,
   "metadata": {},
   "outputs": [],
   "source": [
    "class Solution:\n",
    "    def truncateSentence(self, s: str, k: int) -> str:\n",
    "        s = s.split(' ')\n",
    "        return ' '.join(s[:k])"
   ]
  },
  {
   "cell_type": "markdown",
   "metadata": {},
   "source": [
    "# 2108. Find First Palindromic String in the Array\n",
    "\n",
    "Given an array of strings words, return the first palindromic string in the array. If there is no such string, return an empty string \"\".\n",
    "\n",
    "A string is palindromic if it reads the same forward and backward.\n",
    "\n",
    "<img src=\"problem-set-2-img/2108.png\" style='height: 400px; width: auto;'>"
   ]
  },
  {
   "cell_type": "code",
   "execution_count": null,
   "metadata": {},
   "outputs": [],
   "source": [
    "class Solution:\n",
    "    def firstPalindrome(self, words: List[str]) -> str:\n",
    "        for word in words:\n",
    "            if word == word[::-1]:\n",
    "                return word\n",
    "        return \"\""
   ]
  },
  {
   "cell_type": "markdown",
   "metadata": {},
   "source": [
    "# 2367. Number of Arithmetic Triplets\n",
    "\n",
    "You are given a 0-indexed, strictly increasing integer array nums and a positive integer diff. A triplet (i, j, k) is an arithmetic triplet if the following conditions are met:\n",
    "\n",
    "i < j < k,\n",
    "nums[j] - nums[i] == diff, and\n",
    "nums[k] - nums[j] == diff.\n",
    "Return the number of unique arithmetic triplets.\n",
    "\n",
    "<img src=\"problem-set-2-img/2367.png\" style='height: 400px; width: auto;'>"
   ]
  },
  {
   "cell_type": "code",
   "execution_count": null,
   "metadata": {},
   "outputs": [],
   "source": [
    "class Solution:\n",
    "    def arithmeticTriplets(self, nums: List[int], diff: int) -> int:\n",
    "        bag = set()\n",
    "        out = 0\n",
    "        for n in nums:\n",
    "            bag.add(n)\n",
    "            if n-diff in bag and n - diff - diff in bag:\n",
    "                out += 1\n",
    "        return out"
   ]
  },
  {
   "cell_type": "code",
   "execution_count": null,
   "metadata": {},
   "outputs": [],
   "source": []
  },
  {
   "cell_type": "code",
   "execution_count": null,
   "metadata": {},
   "outputs": [],
   "source": []
  },
  {
   "cell_type": "code",
   "execution_count": null,
   "metadata": {},
   "outputs": [],
   "source": [
    "# <img src=\"problem-set-2-img/2798.png\" style='height: 400px; width: auto;'>"
   ]
  }
 ],
 "metadata": {
  "kernelspec": {
   "display_name": "Python 3",
   "language": "python",
   "name": "python3"
  },
  "language_info": {
   "codemirror_mode": {
    "name": "ipython",
    "version": 3
   },
   "file_extension": ".py",
   "mimetype": "text/x-python",
   "name": "python",
   "nbconvert_exporter": "python",
   "pygments_lexer": "ipython3",
   "version": "3.12.1"
  },
  "orig_nbformat": 4
 },
 "nbformat": 4,
 "nbformat_minor": 2
}
