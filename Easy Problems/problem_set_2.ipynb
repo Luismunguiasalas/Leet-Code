{
 "cells": [
  {
   "cell_type": "markdown",
   "metadata": {},
   "source": [
    "# 860. Lemonade Change\n",
    "\n",
    "**Description:**\n",
    "\n",
    "At a lemonade stand, each lemonade costs $5. Customers are standing in a queue to buy from you and order one at a time (in the order specified by bills). Each customer will only buy one lemonade and pay with either a $5, $10, or $20 bill. You must provide the correct change to each customer so that the net transaction is that the customer pays $5.\n",
    "\n",
    "Note that you do not have any change in hand at first.\n",
    "\n",
    "Given an integer array bills where bills[i] is the bill the ith customer pays, return true if you can provide every customer with the correct change, or false otherwise.\n",
    "\n",
    "**Runtime Data:**\n",
    "\n",
    "<img src=\"problem-set-2-img/380.png\" style='height: 400px; width: auto;'>"
   ]
  },
  {
   "cell_type": "code",
   "execution_count": null,
   "metadata": {},
   "outputs": [],
   "source": [
    "class Solution:\n",
    "    def lemonadeChange(self, bills: List[int]) -> bool:\n",
    "        five = 0\n",
    "        ten = 0\n",
    "        twenty = 0\n",
    "        for dollar in bills:\n",
    "            if dollar == 10:\n",
    "                if five > 0:\n",
    "                    five -= 1\n",
    "                    ten += 1\n",
    "                else:\n",
    "                    return False\n",
    "            elif dollar == 20:\n",
    "                if ten > 0 and five > 0:\n",
    "                    ten -= 1\n",
    "                    five -= 1\n",
    "                    twenty += 1\n",
    "                elif five > 2:\n",
    "                    five -= 3\n",
    "                    twenty += 1\n",
    "                else:\n",
    "                    return False\n",
    "            else:\n",
    "                five += 1\n",
    "        return True"
   ]
  },
  {
   "cell_type": "markdown",
   "metadata": {},
   "source": [
    "# 976. Largest Perimeter Triangle\n",
    "\n",
    "Given an integer array nums, return the largest perimeter of a triangle with a non-zero area, formed from three of these lengths. \n",
    "\n",
    "If it is impossible to form any triangle of a non-zero area, return 0.\n",
    "\n",
    "<img src=\"problem-set-2-img/976.png\" style='height: 400px; width: auto;'>"
   ]
  },
  {
   "cell_type": "code",
   "execution_count": null,
   "metadata": {},
   "outputs": [],
   "source": [
    "class Solution:\n",
    "    def largestPerimeter(self, nums: List[int]) -> int:\n",
    "        nums.sort()\n",
    "        # find 2 sides that are greater than the 3rd:  a + b > c\n",
    "        for i in range(len(nums) - 3, -1, -1):\n",
    "            x = nums[i]\n",
    "            y = nums[i+1]\n",
    "            z = nums[i+2]\n",
    "            if x + y > z:\n",
    "                return x+y+z\n",
    "        return 0"
   ]
  },
  {
   "cell_type": "markdown",
   "metadata": {},
   "source": [
    "# 1232. Check If It Is a Straight Line\n",
    "\n",
    "You are given an array coordinates, coordinates[i] = [x, y], where [x, y] represents the coordinate of a point. Check if these points make a straight line in the XY plane.\n",
    "\n",
    "<img src=\"problem-set-2-img/1232.png\" style='height: 400px; width: auto;'>"
   ]
  },
  {
   "cell_type": "code",
   "execution_count": null,
   "metadata": {},
   "outputs": [],
   "source": [
    "class Solution:\n",
    "    def checkStraightLine(self, coordinates: List[List[int]]) -> bool:\n",
    "        x1,y1 = coordinates[0]\n",
    "        x2,y2 = coordinates[1]\n",
    "        # s = y2 - y1 / x2 - x1 you may calculate slope this way, but the denominator may be zero\n",
    "        for arr in coordinates[2:]:\n",
    "            x3,y3 = arr\n",
    "            # Use the equality equation delta y1 * delta x2 = delta y2 * delta x1\n",
    "            if (x2 - x1) * (y3 - y2) != (x3 - x2) * (y2 - y1):\n",
    "                return False\n",
    "        return True"
   ]
  },
  {
   "cell_type": "markdown",
   "metadata": {},
   "source": [
    "# 67. Add Binary\n",
    "\n",
    "Given two binary strings a and b, return their sum as a binary string.\n",
    "\n",
    "<img src=\"problem-set-2-img/67.png\" style='height: 400px; width: auto;'>"
   ]
  },
  {
   "cell_type": "code",
   "execution_count": 1,
   "metadata": {},
   "outputs": [],
   "source": [
    "class Solution:\n",
    "    def addBinary(self, a: str, b: str) -> str:\n",
    "        # convert each binary into it's integer equivalent\n",
    "        # Then sum each, and then reconvert the sum into binary \n",
    "        return bin(int(a,2) + int(b,2))[2:]"
   ]
  },
  {
   "cell_type": "markdown",
   "metadata": {},
   "source": []
  },
  {
   "cell_type": "code",
   "execution_count": null,
   "metadata": {},
   "outputs": [],
   "source": []
  },
  {
   "cell_type": "markdown",
   "metadata": {},
   "source": []
  },
  {
   "cell_type": "code",
   "execution_count": null,
   "metadata": {},
   "outputs": [],
   "source": []
  }
 ],
 "metadata": {
  "kernelspec": {
   "display_name": "Python 3",
   "language": "python",
   "name": "python3"
  },
  "language_info": {
   "codemirror_mode": {
    "name": "ipython",
    "version": 3
   },
   "file_extension": ".py",
   "mimetype": "text/x-python",
   "name": "python",
   "nbconvert_exporter": "python",
   "pygments_lexer": "ipython3",
   "version": "3.12.1"
  },
  "orig_nbformat": 4
 },
 "nbformat": 4,
 "nbformat_minor": 2
}
