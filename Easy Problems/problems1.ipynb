{
 "cells": [
  {
   "cell_type": "code",
   "execution_count": 3,
   "metadata": {},
   "outputs": [
    {
     "data": {
      "text/plain": [
       "[1, 0]"
      ]
     },
     "execution_count": 3,
     "metadata": {},
     "output_type": "execute_result"
    }
   ],
   "source": [
    "# 1. Two sum\n",
    "\"\"\"\n",
    "Given an array of integers nums and an integer target, return indices of the two numbers\n",
    "such that they add up to target\n",
    "\n",
    "You may assume that each input would have exactly one solution, and you may not use the same element\n",
    "twice\n",
    "\n",
    "You can return the answer in any order\n",
    "\"\"\"\n",
    "# [2, 7, 11, 15]\n",
    "def two_sum(nums, target):\n",
    "    bag_of_numbers = dict()\n",
    "    for i,n in enumerate(nums):\n",
    "        if target - n in bag_of_numbers:\n",
    "            return [i, bag_of_numbers[target-n]]\n",
    "        else:\n",
    "            if n not in bag_of_numbers:\n",
    "                bag_of_numbers[n]=i\n",
    "\n",
    "\n",
    "input = [2, 7, 11, 15]\n",
    "input = [3, 2, 4]\n",
    "input = [3, 3]\n",
    "\n",
    "two_sum(input, 6)\n",
    "\n",
    "# runtime: 75ms, faster than 82.63% of python3 online submissions for two sum.\n",
    "# memory usage: 15.1 mb, less than 50.46% of python3 online submissions for two sum\n",
    "\n",
    "\n"
   ]
  },
  {
   "cell_type": "code",
   "execution_count": 14,
   "metadata": {},
   "outputs": [
    {
     "data": {
      "text/plain": [
       "True"
      ]
     },
     "execution_count": 14,
     "metadata": {},
     "output_type": "execute_result"
    }
   ],
   "source": [
    "# 9. Palindrome Number\n",
    "\"\"\"\n",
    "given an integer x, return true if x is palindrome integer.\n",
    "\n",
    "An integer is a palindrome when it reads the same backward as forward.\n",
    "for example, 121 is a palindrome while 123 is not\n",
    "\"\"\"\n",
    "\n",
    "def is_palindrome(x):\n",
    "    palindrome_list = [x for x in str(x)]\n",
    "    s=0\n",
    "    e=len(palindrome_list) - 1\n",
    "    while s <= e:\n",
    "        if (s == e) and (palindrome_list[s] == palindrome_list[e]):\n",
    "            return True\n",
    "        else:\n",
    "            if palindrome_list[s] != palindrome_list[e]:\n",
    "                return False\n",
    "        s+=1\n",
    "        e-=1\n",
    "    return True\n",
    "\n",
    "x = 121\n",
    "x = -12\n",
    "x = 10\n",
    "x = 1\n",
    "\n",
    "is_palindrome(x)\n",
    "\n",
    "# runtime: 68ms, faster than 87.67% of python3 submissions\n",
    "# memory usage: 13.8mb, less than 58.82%``"
   ]
  },
  {
   "cell_type": "code",
   "execution_count": 27,
   "metadata": {},
   "outputs": [
    {
     "data": {
      "text/plain": [
       "27"
      ]
     },
     "execution_count": 27,
     "metadata": {},
     "output_type": "execute_result"
    }
   ],
   "source": [
    "# 13. Roman to integer\n",
    "\"\"\"\n",
    "Roman numberals are represented by seven different sumbols: I, V, X, L, C, D, M\n",
    "I = 1\n",
    "V = 5\n",
    "X = 10\n",
    "L = 50\n",
    "C = 100\n",
    "D = 500\n",
    "M = 1000\n",
    "\n",
    "given a roman numeral, convert it to an integer\n",
    "\"\"\"\n",
    "\n",
    "def roman_to_int(string):\n",
    "    roman_dictionary = {'I': 1, 'V':5, 'X':10, 'L':50, 'C':100, 'D':500, 'M':1000}\n",
    "    total = 0\n",
    "    current = string[0]\n",
    "    prev = None\n",
    "    for roman_numeral in string[1:]:\n",
    "        prev = current\n",
    "        current = roman_numeral\n",
    "        if roman_dictionary[prev] < roman_dictionary[current]:\n",
    "            total -= roman_dictionary[prev]\n",
    "        else:\n",
    "            total += roman_dictionary[prev]\n",
    "    total += roman_dictionary[current]\n",
    "    return total\n",
    "        \n",
    "\n",
    "# string = 'III'\n",
    "# string = 'LVIII'\n",
    "# string = 'MCMXCIV'\n",
    "string= 'IXIXIX'\n",
    "\n",
    "roman_to_int(string)\n",
    "\n",
    "# runtime: 50ms, faster than 91:81% of python3 submissions\n",
    "# memory usage: 13.9 mb, less than 30.61%"
   ]
  },
  {
   "cell_type": "code",
   "execution_count": 51,
   "metadata": {},
   "outputs": [
    {
     "name": "stdout",
     "output_type": "stream",
     "text": [
      "0 d\n"
     ]
    },
    {
     "data": {
      "text/plain": [
       "''"
      ]
     },
     "execution_count": 51,
     "metadata": {},
     "output_type": "execute_result"
    }
   ],
   "source": [
    "# 14. Longest common prefix\n",
    "\"\"\"\n",
    "write a function to find the longest common prefix string amongst an array of strings.\n",
    "\n",
    "if there is no common prefix, return an emptry string \"\"\n",
    "\"\"\"\n",
    "\n",
    "def longest_common_prefix(string):\n",
    "    e=0  # index of last common prefix\n",
    "    for i in range(len(string[0])):\n",
    "        letter = string[0][i] # loops through letters of first word\n",
    "        for word in string[1:]:\n",
    "            if (i == len(word)) or (word[i]) != letter: #\n",
    "                return string[0][0:e] \n",
    "        e += 1\n",
    "    return string[0][0:e]\n",
    "\n",
    "string = [\"flower\", \"flow\", \"flight\"]\n",
    "string = [\"dog\", \"racecar\", \"car\"]\n",
    "longest_common_prefix(string)\n",
    "        \n",
    "# Runtime: 51ms, faster than 83.69% of python3 submissions\n",
    "# memory usage: 14.1 mb, less than 88.15%"
   ]
  },
  {
   "cell_type": "code",
   "execution_count": 69,
   "metadata": {},
   "outputs": [
    {
     "data": {
      "text/plain": [
       "True"
      ]
     },
     "execution_count": 69,
     "metadata": {},
     "output_type": "execute_result"
    }
   ],
   "source": [
    "# 20. Valid parentheses\n",
    "\n",
    "\"\"\"\n",
    "given a string s containing just the characters () {} [].\n",
    "determine if the input string is valid.\n",
    "\n",
    "the input string is valid if :\n",
    "open brackets must be closed by the same type of brackets\n",
    "open brackets must be closed in the correct order.\n",
    "\"\"\"\n",
    "\n",
    "def is_valid(string):\n",
    "    bracket_list = []\n",
    "    for bracket in string:\n",
    "        if bracket == \"{\":\n",
    "            bracket_list.append(\"}\")\n",
    "        elif bracket == \"[\":\n",
    "            bracket_list.append(\"]\")\n",
    "        elif bracket == \"(\":\n",
    "            bracket_list.append(\")\")\n",
    "        else:\n",
    "            if len(bracket_list) == 0 or bracket != bracket_list[-1]:\n",
    "                return False\n",
    "            else:\n",
    "                bracket_list.pop()\n",
    "    if len(bracket_list) == 0:\n",
    "        return True\n",
    "    return False\n",
    "\n",
    "\n",
    "string = \"({{[[(())]]}})\"\n",
    "\n",
    "is_valid(string)\n",
    "\n",
    "\n",
    "# runtime: faster than 88.65% of python3 submissions\n",
    "# memory usage: 13.9 mb, less than 24.32%"
   ]
  },
  {
   "cell_type": "code",
   "execution_count": null,
   "metadata": {},
   "outputs": [],
   "source": [
    "# 21. Merge two sorted lists\n",
    "\n",
    "\"\"\"\n",
    "You are given the heads of two sroted linked lists list1 and list2.\n",
    "\n",
    "Merge the two lists in a one sorted list. The list should be made by splicing\n",
    "together the nodes of the first two lists\n",
    "\n",
    "return the head of the merged linked list\n",
    "\"\"\"\n",
    "\n",
    "def merge_two_lists(list1, list2):\n",
    "    if list1 is None and list2 is None:return list1\n",
    "    if list1 is None and list2 is not None: return list2\n",
    "    if list1 is not None and list2 is None: return list1\n",
    "    head = None\n",
    "    if list.val <= list2.val:\n",
    "        head = list1\n",
    "        list1 = list1.next\n",
    "    elif list1.val > list2.val:\n",
    "        head = list2\n",
    "        list2 = list2.next\n",
    "    current = head\n",
    "    while list1 is not None and list2 is not None:\n",
    "        if list1.val <= list2.val:\n",
    "            current.next = list1\n",
    "            list1 = list1.next\n",
    "        elif list1.val > list2.val:\n",
    "            current.next = list2\n",
    "            list2 = list2.next\n",
    "        current = current.next\n",
    "    if list1 is not None:\n",
    "        current.next = list1\n",
    "    if list2 is not None:\n",
    "        current.next = list2\n",
    "    return head\n",
    "\n",
    "\n",
    "# runtime: 47ms, faster than 74.76% of python3 submissions\n",
    "# memory usage: 13.9 mb, less than 32.33% "
   ]
  }
 ],
 "metadata": {
  "kernelspec": {
   "display_name": "Python 3.10.5 64-bit",
   "language": "python",
   "name": "python3"
  },
  "language_info": {
   "codemirror_mode": {
    "name": "ipython",
    "version": 3
   },
   "file_extension": ".py",
   "mimetype": "text/x-python",
   "name": "python",
   "nbconvert_exporter": "python",
   "pygments_lexer": "ipython3",
   "version": "3.10.5"
  },
  "orig_nbformat": 4,
  "vscode": {
   "interpreter": {
    "hash": "aee8b7b246df8f9039afb4144a1f6fd8d2ca17a180786b69acc140d282b71a49"
   }
  }
 },
 "nbformat": 4,
 "nbformat_minor": 2
}
