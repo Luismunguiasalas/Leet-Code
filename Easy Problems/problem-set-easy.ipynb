{
 "cells": [
  {
   "cell_type": "markdown",
   "metadata": {},
   "source": [
    "# 1. Two Sum\n",
    "\n",
    "Given an array of integers nums and an integer target, return indices of the two numbers such that they add up to target\n",
    "\n",
    "You may assume that each input would exactly one solution, and you may not use the same element twice\n",
    "\n",
    "You can return the answer in any order"
   ]
  },
  {
   "cell_type": "code",
   "execution_count": null,
   "metadata": {},
   "outputs": [],
   "source": [
    "# 1. Two sum\n",
    "\n",
    "def two_sum(nums, target):\n",
    "    bag_of_numbers = dict()\n",
    "    for i,n in enumerate(nums):\n",
    "        if target - n in bag_of_numbers:\n",
    "            return [i, bag_of_numbers[target-n]]\n",
    "        else:\n",
    "            if n not in bag_of_numbers:\n",
    "                bag_of_numbers[n]=i\n",
    "\n",
    "\n",
    "input = [2, 7, 11, 15]\n",
    "input = [3, 2, 4]\n",
    "input = [3, 3]\n",
    "\n",
    "two_sum(input, 6)\n",
    "\n",
    "# runtime: 75ms, faster than 82.63% of python3 online submissions for two sum.\n",
    "# memory usage: 15.1 mb, less than 50.46% of python3 online submissions for two sum\n",
    "\n",
    "\n"
   ]
  },
  {
   "cell_type": "markdown",
   "metadata": {},
   "source": [
    "# 9. Palindrome Number\n",
    "Given an integer x, return true if x is palindrome integer.\n",
    "\n",
    "An integer is a palindrome when it reads the same backward as forward.\n",
    "For example, 121 is a palindrome while 123 is not"
   ]
  },
  {
   "cell_type": "code",
   "execution_count": null,
   "metadata": {},
   "outputs": [],
   "source": [
    "# 9. Palindrome Number\n",
    "\n",
    "def is_palindrome(x):\n",
    "    palindrome_list = [x for x in str(x)]\n",
    "    s=0\n",
    "    e=len(palindrome_list) - 1\n",
    "    while s <= e:\n",
    "        if (s == e) and (palindrome_list[s] == palindrome_list[e]):\n",
    "            return True\n",
    "        else:\n",
    "            if palindrome_list[s] != palindrome_list[e]:\n",
    "                return False\n",
    "        s+=1\n",
    "        e-=1\n",
    "    return True\n",
    "\n",
    "x = 121\n",
    "x = -12\n",
    "x = 10\n",
    "x = 1\n",
    "\n",
    "is_palindrome(x)\n",
    "\n",
    "# runtime: 68ms, faster than 87.67% of python3 submissions\n",
    "# memory usage: 13.8mb, less than 58.82%``"
   ]
  },
  {
   "cell_type": "markdown",
   "metadata": {},
   "source": [
    "# 13. Roman to integer"
   ]
  },
  {
   "cell_type": "code",
   "execution_count": null,
   "metadata": {},
   "outputs": [],
   "source": [
    "# 13. Roman to integer\n",
    "\"\"\"\n",
    "Roman numberals are represented by seven different sumbols: I, V, X, L, C, D, M\n",
    "I = 1\n",
    "V = 5\n",
    "X = 10\n",
    "L = 50\n",
    "C = 100\n",
    "D = 500\n",
    "M = 1000\n",
    "\n",
    "given a roman numeral, convert it to an integer\n",
    "\"\"\"\n",
    "\n",
    "def roman_to_int(string):\n",
    "    roman_dictionary = {'I': 1, 'V':5, 'X':10, 'L':50, 'C':100, 'D':500, 'M':1000}\n",
    "    total = 0\n",
    "    current = string[0]\n",
    "    prev = None\n",
    "    for roman_numeral in string[1:]:\n",
    "        prev = current\n",
    "        current = roman_numeral\n",
    "        if roman_dictionary[prev] < roman_dictionary[current]:\n",
    "            total -= roman_dictionary[prev]\n",
    "        else:\n",
    "            total += roman_dictionary[prev]\n",
    "    total += roman_dictionary[current]\n",
    "    return total\n",
    "        \n",
    "\n",
    "# string = 'III'\n",
    "# string = 'LVIII'\n",
    "# string = 'MCMXCIV'\n",
    "string= 'IXIXIX'\n",
    "\n",
    "roman_to_int(string)\n",
    "\n",
    "# runtime: 50ms, faster than 91:81% of python3 submissions\n",
    "# memory usage: 13.9 mb, less than 30.61%"
   ]
  },
  {
   "cell_type": "markdown",
   "metadata": {},
   "source": [
    "# 14. Longest common prefix\n",
    "Write a function to find the longest common prefix string amongst an array of strings.\n",
    "\n",
    "If there is no common prefix, return an empty string"
   ]
  },
  {
   "cell_type": "code",
   "execution_count": null,
   "metadata": {},
   "outputs": [],
   "source": [
    "# 14. Longest common prefix\n",
    "\n",
    "def longest_common_prefix(string):\n",
    "    e=0  # index of last common prefix\n",
    "    for i in range(len(string[0])):\n",
    "        letter = string[0][i] # loops through letters of first word\n",
    "        for word in string[1:]:\n",
    "            if (i == len(word)) or (word[i]) != letter: #\n",
    "                return string[0][0:e] \n",
    "        e += 1\n",
    "    return string[0][0:e]\n",
    "\n",
    "string = [\"flower\", \"flow\", \"flight\"]\n",
    "string = [\"dog\", \"racecar\", \"car\"]\n",
    "longest_common_prefix(string)\n",
    "        \n",
    "# Runtime: 51ms, faster than 83.69% of python3 submissions\n",
    "# memory usage: 14.1 mb, less than 88.15%"
   ]
  },
  {
   "cell_type": "markdown",
   "metadata": {},
   "source": [
    "# 20. Valid parentheses\n",
    "\n",
    "Given a string s containing just the characters () {} []. Determine if the input string is calid\n",
    "\n",
    "The input string is calid if:\n",
    "\n",
    "Open brackets must be closed by the same type of brackets\n",
    "\n",
    "Open brackets must be closed in the correct order"
   ]
  },
  {
   "cell_type": "code",
   "execution_count": null,
   "metadata": {},
   "outputs": [],
   "source": [
    "# 20. Valid parentheses\n",
    "\n",
    "def is_valid(string):\n",
    "    bracket_list = []\n",
    "    for bracket in string:\n",
    "        if bracket == \"{\":\n",
    "            bracket_list.append(\"}\")\n",
    "        elif bracket == \"[\":\n",
    "            bracket_list.append(\"]\")\n",
    "        elif bracket == \"(\":\n",
    "            bracket_list.append(\")\")\n",
    "        else:\n",
    "            if len(bracket_list) == 0 or bracket != bracket_list[-1]:\n",
    "                return False\n",
    "            else:\n",
    "                bracket_list.pop()\n",
    "    if len(bracket_list) == 0:\n",
    "        return True\n",
    "    return False\n",
    "\n",
    "\n",
    "string = \"({{[[(())]]}})\"\n",
    "\n",
    "is_valid(string)\n",
    "\n",
    "\n",
    "# runtime: faster than 88.65% of python3 submissions\n",
    "# memory usage: 13.9 mb, less than 24.32%"
   ]
  },
  {
   "cell_type": "markdown",
   "metadata": {},
   "source": [
    "# 21. Merge two sorted lists\n",
    "You are given the heads of two sorted linked lists list1 and list2.\n",
    "\n",
    "Merge the two lists in a one sorted list. The list should be made by splicing together the nodes of the first two lists.\n",
    "\n",
    "return the head of the merged linked list."
   ]
  },
  {
   "cell_type": "code",
   "execution_count": null,
   "metadata": {},
   "outputs": [],
   "source": [
    "# 21. Merge two sorted lists\n",
    "\n",
    "def merge_two_lists(list1, list2):\n",
    "    if list1 is None and list2 is None:return list1\n",
    "    if list1 is None and list2 is not None: return list2\n",
    "    if list1 is not None and list2 is None: return list1\n",
    "    head = None\n",
    "    if list.val <= list2.val:\n",
    "        head = list1\n",
    "        list1 = list1.next\n",
    "    elif list1.val > list2.val:\n",
    "        head = list2\n",
    "        list2 = list2.next\n",
    "    current = head\n",
    "    while list1 is not None and list2 is not None:\n",
    "        if list1.val <= list2.val:\n",
    "            current.next = list1\n",
    "            list1 = list1.next\n",
    "        elif list1.val > list2.val:\n",
    "            current.next = list2\n",
    "            list2 = list2.next\n",
    "        current = current.next\n",
    "    if list1 is not None:\n",
    "        current.next = list1\n",
    "    if list2 is not None:\n",
    "        current.next = list2\n",
    "    return head\n",
    "\n",
    "\n",
    "# runtime: 47ms, faster than 74.76% of python3 submissions\n",
    "# memory usage: 13.9 mb, less than 32.33% "
   ]
  },
  {
   "cell_type": "markdown",
   "metadata": {},
   "source": [
    "# 26. Remove duplicates from sorted array\n",
    "\n",
    "Given an integer array nums sorted in non-decreasing order, remove the duplicates in-place such that each unique element appears only once.\n",
    "\n",
    "The relative order of the elements should be kept the same."
   ]
  },
  {
   "cell_type": "code",
   "execution_count": null,
   "metadata": {},
   "outputs": [],
   "source": [
    "# 26. Remove duplicat es from sorted array\n",
    "\n",
    "def remove_duplicates(nums):\n",
    "    l=0\n",
    "    for i,n in enumerate(nums):\n",
    "        if i > 0 and n > nums[l]:\n",
    "            nums[l+1], nums[i] = n, nums[l+1]\n",
    "            l += 1\n",
    "        return l+1\n",
    "\n",
    "nums = [0,0,1,1,1,2,2,2,3,3,4,4,4,4]\n",
    "\n",
    "\n",
    "#runtime: 47ms, faster than 83.31% of python3 submissions\n",
    "#memory usage: 15.4 MB, less than 99.48%\n",
    "\n",
    "\n",
    "def removeDuplicates(nums):\n",
    "    leftIndex = 0\n",
    "    for rightIndex in range(len(nums)):\n",
    "        if rightIndex >= 1:\n",
    "            if nums[leftIndex] != nums[rightIndex]:\n",
    "                leftIndex += 1\n",
    "                if leftIndex != rightIndex:\n",
    "                    nums[leftIndex] = nums[rightIndex]\n",
    "    return leftIndex + 1\n",
    "\n",
    "# runtime: 92ms, faster than 90.81% of python3 submissions\n",
    "# memory usage: 15.5MB beast 66%"
   ]
  },
  {
   "cell_type": "markdown",
   "metadata": {},
   "source": [
    "# 27. Remove element\n",
    "\n",
    "Given an integer array nums and an integer val, remove all occurrences of val in nums in-place.\n",
    "\n",
    "The relative order of the elements may be changed"
   ]
  },
  {
   "cell_type": "code",
   "execution_count": null,
   "metadata": {},
   "outputs": [],
   "source": [
    "# 27. remove element\n",
    "\n",
    "def remove_element(nums, val):\n",
    "    ri = len(nums)-1\n",
    "    for i,n in enumerate(nums):\n",
    "        if n == val:\n",
    "            while i != ri:\n",
    "                if nums[ri] != val:\n",
    "                    nums[i],nums[ri]=nums[ri],nums[i]\n",
    "                    break\n",
    "                ri -= 1\n",
    "            else:\n",
    "                return i\n",
    "\n",
    "\n",
    "# runtime: 42ms, faster than 94.97% of python3 subsmissions\n",
    "# memory usage: 13.7mb, 99.84%\n"
   ]
  },
  {
   "cell_type": "markdown",
   "metadata": {},
   "source": [
    "# 28. Implement strStr()\n",
    "\n",
    "Given two strings needle and haystack, return the index of the first occurrence of needle in haystack. -1 if needle is not part of haystack."
   ]
  },
  {
   "cell_type": "code",
   "execution_count": null,
   "metadata": {},
   "outputs": [],
   "source": [
    "# 28. Implement strStr()\n",
    "\n",
    "def str_str(haystack, needle):\n",
    "    if needle == \"\":\n",
    "        return 0\n",
    "    ln=len(needle)\n",
    "    lh=len(haystack)\n",
    "    for i,n in enumerate(haystack):\n",
    "        if n == needle[0] and i+ln <= lh:\n",
    "            if needle == haystack[i:i+ln]:\n",
    "                return i\n",
    "    return -1\n",
    "\n",
    "\n",
    "#runtime: 29ms faster than 95.95% of python3 submissions\n",
    "#memory usage: 13.8 mb, less than 97.09%"
   ]
  },
  {
   "cell_type": "markdown",
   "metadata": {},
   "source": [
    "# 35. Search insert position\n",
    "\n",
    "Given a sorted array of distinct integers and a target value, return the index if the target is found.\n",
    "\n",
    "If not, return the index where it would be if it were inserted in order. You must write an algorithm with O(log n) runtime complexity"
   ]
  },
  {
   "cell_type": "code",
   "execution_count": null,
   "metadata": {},
   "outputs": [],
   "source": [
    "#35. Search insert position\n",
    "\n",
    "def search_insert(nums, target):\n",
    "    if target > nums[-1]:\n",
    "        return len(nums)\n",
    "    else:\n",
    "        l=0\n",
    "        r=len(nums)-1\n",
    "        while l < r:\n",
    "            m=(r + l) // 2\n",
    "            if nums[m] == target:\n",
    "                return m\n",
    "            elif nums[m] < target:\n",
    "                l += 1\n",
    "            elif nums[m] > target:\n",
    "                r -= 1\n",
    "        return l\n",
    "\n",
    "# Runtime: 55ms, faster than 87.38%\n",
    "# Memory Usage: 14.6mb, less than 82.82%"
   ]
  },
  {
   "cell_type": "markdown",
   "metadata": {},
   "source": [
    "# 58. Length of last word\n",
    "\n",
    "Given a string s consisting of words and spcaes, return the length of the last word in the string.\n",
    "\n",
    "A word is a maximal substring consisting of non-space characters only."
   ]
  },
  {
   "cell_type": "code",
   "execution_count": null,
   "metadata": {},
   "outputs": [],
   "source": [
    "# 58. Length of last word\n",
    "\n",
    "def length_of_last_word(string):\n",
    "    bool = False\n",
    "    if string[-1] != \" \":\n",
    "        bool = True\n",
    "    c = 0\n",
    "    for i in string[::-1]:\n",
    "        if i != \" \":\n",
    "            c += 1\n",
    "        else:\n",
    "            if bool:\n",
    "                return c\n",
    "            elif not(bool) and c > 0:\n",
    "                return c\n",
    "    \n",
    "\n",
    "\n",
    "input = \"Hello World\"\n",
    "input = \"luffy is still joyboy\"\n",
    "input = \"  fly me  to  the moon  \"\n",
    "\n",
    "\n",
    "length_of_last_word(input)\n",
    "        \n",
    "# Runtime: 36ms, faster than 81.05% of python3 submissions\n",
    "# Memory Usage: 13.9MB, less than 38.13%"
   ]
  },
  {
   "cell_type": "markdown",
   "metadata": {},
   "source": [
    "# 66. Plus one\n",
    "\n",
    "You are given a large integer represented as an integer array digits, where each digit[i] is the ith digit of the integer.\n",
    "\n",
    "The digits are orderedfrom most significant to least significant in the left-to-right order. The larger integer does not contain any leading zero's.\n",
    "\n",
    "Increment the larger integer by one and return the resulting array of digits."
   ]
  },
  {
   "cell_type": "code",
   "execution_count": null,
   "metadata": {},
   "outputs": [],
   "source": [
    "# 66. plus one\n",
    "\n",
    "def plus_one(digits):\n",
    "    # ds= \"\".join(str(x) for x in digits)\n",
    "    # ds = [x for x in str(int(ds) + 1)]\n",
    "    return [x for x in str(int(\"\".join(str(x) for x in digits)) + 1)]\n",
    "\n",
    "\n",
    "input = [1,2,3]\n",
    "input = [9]\n",
    "plus_one(input)\n",
    "\n",
    "# Runtime: 43 ms, faster than 69.92% of python3 submissions\n",
    "# memory usage: 13.8 mb, less than 58.40%"
   ]
  },
  {
   "cell_type": "markdown",
   "metadata": {},
   "source": [
    "# 67. Add binary\n",
    "\n",
    "Given two binary strings a and b. Return their sum as abinary string"
   ]
  },
  {
   "cell_type": "code",
   "execution_count": null,
   "metadata": {},
   "outputs": [],
   "source": [
    "# 67. Add binary\n",
    "\n",
    "def add_binary(a, b):\n",
    "    return bin(int(a,2)+int(b,2))[2:]\n",
    "    print(int(a,2), int(b,2))\n",
    "\n",
    "a = \"100\"\n",
    "b = \"10\"\n",
    "a = \"0\"\n",
    "b = \"1\"\n",
    "a = \"10\"\n",
    "b = \"00\"\n",
    "a = \"100\"\n",
    "b = \"010\"\n",
    "a = '1000'\n",
    "b = '1100'\n",
    "\n",
    "add_binary(a,b)\n",
    "\n",
    "# runtime: 53 ms, faster than 49.48% of python3 submissions\n",
    "# memory usage: 13.9 mb, less than 72.46%"
   ]
  },
  {
   "cell_type": "markdown",
   "metadata": {},
   "source": [
    "# 69. sqrt(X)\n",
    "\n",
    "Given a non-negative integer x, computer and return the square root of x"
   ]
  },
  {
   "cell_type": "code",
   "execution_count": null,
   "metadata": {},
   "outputs": [],
   "source": [
    "# 69 sqrt(X)\n",
    "\n",
    "def sqrt(x):\n",
    "    i = 1\n",
    "    ttl = 1 * 1\n",
    "    while x >= ttl:\n",
    "        if ttl == x:\n",
    "            return i\n",
    "        i += 1\n",
    "        ttl = i * i\n",
    "    return i-1\n",
    "\n",
    "\n",
    "input = 8281\n",
    "sqrt(input)\n",
    "    \n",
    "# runtime: 2941 ms, faster than 11.65% of python3 submissions\n",
    "# memory usage: 13.7 mb, less than 96.32%"
   ]
  },
  {
   "cell_type": "markdown",
   "metadata": {},
   "source": [
    "# 70 Climbing stairs\n",
    "\n",
    "You are climbing staircase, it takes n steps to reach the top. EAch time you can either climb 1 or 2 steps.\n",
    "\n",
    "In how many distinct ways can you climb to the top?"
   ]
  },
  {
   "cell_type": "code",
   "execution_count": null,
   "metadata": {},
   "outputs": [],
   "source": [
    "# 70 climbing stairs\n",
    "\n",
    "def climbing_stairs(n):\n",
    "    prev = 0\n",
    "    current = 1\n",
    "    iter = 0\n",
    "    while iter < n:\n",
    "        ttl = prev + current\n",
    "        prev = current\n",
    "        current = ttl\n",
    "        iter += 1\n",
    "        print(current)\n",
    "        \n",
    "    return current\n",
    "\n",
    "n = 10\n",
    "\n",
    "climbing_stairs(n)\n",
    "# runtime: 36 ms, faster than 80.15 of python3 online submissions\n",
    "# memory usage: 13.8 mb, less than 96.04%"
   ]
  },
  {
   "cell_type": "markdown",
   "metadata": {},
   "source": [
    "# 83. Remove duplicates from sorted list\n",
    "\n",
    "Given the head of a sorted list, delete all duplicates such that each element appears only once.\n",
    "\n",
    "Return the linked list sorted as well."
   ]
  },
  {
   "cell_type": "code",
   "execution_count": null,
   "metadata": {},
   "outputs": [],
   "source": [
    "# 83 remove duplicates from sorted list\n",
    "\n",
    "def delete_duplicates(head):\n",
    "    if head is None:\n",
    "        return head\n",
    "    current = head.next\n",
    "    prev = head\n",
    "    while current is not None:\n",
    "        if prev.val == current.val:\n",
    "            prev.next = current.next\n",
    "            current = current.next\n",
    "        else:\n",
    "            prev = prev.next\n",
    "            current = current.next\n",
    "    return head\n",
    "\n",
    "def delete_duplicates_2(head):\n",
    "    current = head\n",
    "    while current is not None and current.next is not None:\n",
    "        if current.val == current.next.val:\n",
    "            current.next = current.next.next\n",
    "        else:\n",
    "            current  = current.next\n",
    "    return head\n",
    "\n",
    "# runtime: ms, faster than 61.05% of python3 online submissions\n",
    "# memory usage: 13.8 mb, less than 97.70%"
   ]
  },
  {
   "cell_type": "markdown",
   "metadata": {},
   "source": [
    "# 88. Merge sorted array\n",
    "\n",
    "you are given two integer arrays nums1, and nums2, sorted in non-decreasing order, and two integers m and n, representing the number of elements in nums1 and nums2\n",
    "merge nums1 and nums2 into a single array sorted in non-decresing order\n",
    "the finnal sorted array should not be returned by the function, but instead be stored inside the array nums1. To accomodate this, nums1 has a length of m + n, where the first m elements denote the elements that should be merged,\n",
    "and the last n elements are set to 0 and should be ignored. nums2 has a length of n\n",
    "\n",
    "modify nums1 inplace, no extra space\n"
   ]
  },
  {
   "cell_type": "code",
   "execution_count": null,
   "metadata": {},
   "outputs": [],
   "source": [
    "# 88 Merge Sorted Array\n",
    "\n",
    "# you are given two integer arrays nums1, and nums2, sorted in non-decreasing order, and two integers m and n, representing the number of elements in nums1 and nums2\n",
    "# merge nums1 and nums2 into a single array sorted in non-decresing order\n",
    "# the finnal sorted array should not be returned by the function, but instead be stored inside the array nums1. To accomodate this, nums1 has a length of m + n, where the first m elements denote the elements that should be merged,\n",
    "# and the last n elements are set to 0 and should be ignored. nums2 has a length of n\n",
    "\n",
    "# modify nums1 inplace, no extra space\n",
    "\n",
    "\n",
    "class Solution:\n",
    "  def merge(self, nums1: List[int], m: int, nums2: List[int], n: int) -> None:\n",
    "    if n > 0:\n",
    "      c = m\n",
    "      for index in range(m + n):\n",
    "        if c == 0:\n",
    "          nums1[index] = nums2.pop(0)\n",
    "        else:\n",
    "          if nums1[index] > nums2[0]:\n",
    "            nums2[0], nums1[index] = nums1[index], nums2[0]\n",
    "            if n > 1 and nums2[0] > nums2[1]:\n",
    "              nums2.sort()\n",
    "          c -= 1\n",
    "\n",
    "# time complexity: O(n + m * log(n + m)), space O(n)\n",
    "# runtime: 45ms, beats 67%\n",
    "# memory: 13MB, beats 84%\n",
    "\n",
    "\n",
    "# time complexity: O(n + m), space O(1)\n",
    "class Solution:\n",
    "    def merge(self, nums1: List[int], m: int, nums2: List[int], n: int) -> None:\n",
    "        \"\"\"\n",
    "        Do not return anything, modify nums1 in-place instead.\n",
    "        \"\"\"\n",
    "        if n > 0:\n",
    "            p1 = m - 1\n",
    "            p2 = n - 1\n",
    "\n",
    "            for index in range(m + n - 1, -1, -1):\n",
    "                if p2 < 0:\n",
    "                    break\n",
    "                if p1 >= 0 and nums1[p1] > nums2[p2]:\n",
    "                    nums1[index] = nums1[p1]\n",
    "                    p1 -= 1\n",
    "                else:\n",
    "                    nums1[index] = nums2[p2]\n",
    "                    p2 -= 1\n",
    "\n",
    "# runtime: 44ms, beats 71%\n",
    "# memory: 14MB, beats 37%"
   ]
  },
  {
   "cell_type": "markdown",
   "metadata": {},
   "source": [
    "# 88 merge sorted array\n",
    "\n",
    "You are given two integer arrays nums1 and nums2, sorted in non-decreasing\n",
    "order, and two integers m and n, representing the number of elements in nums1 \n",
    "and nums2 respectively\n",
    "\n",
    "merge nums1 and nums2 into a single array sorted in non-decreasing order"
   ]
  },
  {
   "cell_type": "code",
   "execution_count": null,
   "metadata": {},
   "outputs": [],
   "source": [
    "# 88 merge sorted array\n",
    "\n",
    "def merge(nums1,m,nums2,n):\n",
    "    if n!=0:\n",
    "        i = 0\n",
    "        while i < len(nums1):\n",
    "            if nums1[i] == 0 and n > 0:\n",
    "                nums1[i] = nums2.pop()\n",
    "                n -= 1\n",
    "            i += 1\n",
    "        nums1.sort()\n",
    "    \n",
    "x = [4,5,6,0,0,0]\n",
    "y = [1,2,3]\n",
    "\n",
    "print(sorted(x[:-3]+y))\n",
    "    \n",
    "# runtime: 54ms, faster than 58.48% of python3 online submissions\n",
    "# memory usage: 13.9mb, less than 85.55%"
   ]
  },
  {
   "cell_type": "markdown",
   "metadata": {},
   "source": [
    "# 94 binary tree inorder traversal\n",
    "\n",
    "given the root of a binary tree, return the inorder traversal of its nodes' values"
   ]
  },
  {
   "cell_type": "code",
   "execution_count": null,
   "metadata": {},
   "outputs": [],
   "source": [
    "# 94 binary tree inorder traversal\n",
    "\n",
    "def inorder_traversal(root):\n",
    "    output = []\n",
    "    def inorder(head):\n",
    "        while head is not None:\n",
    "            inorder(head.left)\n",
    "            output.append(head.val)\n",
    "            inorder(head.right)\n",
    "            return output\n",
    "    \n",
    "    inorder(root)\n",
    "    return output\n",
    "\n",
    "# runtime: 34ms, faster than 87.30% of python3 submissions\n",
    "# memory usage: 13.8 mb, less than 59.35%"
   ]
  },
  {
   "cell_type": "markdown",
   "metadata": {},
   "source": [
    "# 100 same tree\n",
    "\n",
    "given the roots of two binary trees p and q, write a function to check if they\n",
    "are the same or not\n",
    "\n",
    "two binary trees are considered the same if they are\n",
    "structurally identical, and the nodes have the same values"
   ]
  },
  {
   "cell_type": "code",
   "execution_count": null,
   "metadata": {},
   "outputs": [],
   "source": [
    "# 100 same tree\n",
    "\n",
    "def are_the_same(p, q):\n",
    "    if p is None or q is None:\n",
    "        if p is None and q is None:\n",
    "            return True\n",
    "        else:\n",
    "            return False\n",
    "    a1 = [p]\n",
    "    a2 = [q]\n",
    "    while len(a1) > 0 and len(a2) > 0:\n",
    "        h1 = a1.pop()\n",
    "        h2 = a2.pop()\n",
    "        if h1.val != h2.val:\n",
    "            return False\n",
    "        if h1.left is not None and h2.left is not None:\n",
    "            a1.append(h1.left)\n",
    "            a2.append(h2.left)\n",
    "        if h1.right is not None and h2.right is not None:\n",
    "            a1.append(h1.right)\n",
    "            a2.append(h2.right)\n",
    "        if (h1.left is None and h2.left is not None) or (h1.left is not None and h2.left is None):\n",
    "            return False\n",
    "        if (h1.right is None and h2.right is not None) or (h2.right is not None and h2.right is None):\n",
    "            return False\n",
    "    \n",
    "\n",
    "\n",
    "# runtime: 26ms, faster than 98.55% of python3 submission\n",
    "# memory usage: 14.1mb, less than 75.45%"
   ]
  },
  {
   "cell_type": "markdown",
   "metadata": {},
   "source": [
    "# 101 symmetric tree\n",
    "\n",
    "Given the root of a binary tree, check whether it is a mirror \n",
    "of itself (symmetric around it's center)"
   ]
  },
  {
   "cell_type": "code",
   "execution_count": null,
   "metadata": {},
   "outputs": [],
   "source": [
    "# 101 symmetric tree\n",
    "\n",
    "def is_symmetric(root):\n",
    "    if root.left is None and root.right is None:\n",
    "        return True\n",
    "    elif (root.left is None and root.right is not None) or (root.left is not None and root.right is None):\n",
    "        return False\n",
    "    a1 = [root.left]\n",
    "    a2 = [root.right]\n",
    "    while len(a1) > 0 and len(a2) > 0:\n",
    "        n1 = a1.pop()\n",
    "        n2 = a2.pop()\n",
    "        if (n1 is None and n2 is not None) or (n1 is not None and n2 is None):\n",
    "            return False\n",
    "        elif n1 is not None and n2 is not None:\n",
    "            if n1.val != n2.val:\n",
    "                return False\n",
    "            a1.append(n1.left)\n",
    "            a1.append(n1.right)\n",
    "            a2.append(n2.right)\n",
    "            a2.append(n1.left)\n",
    "    if len(a1) + len(a2) > 0:\n",
    "        return False\n",
    "    return True\n",
    "\n",
    "# runtime: 31ms, faster than 97.72.% of python3 submissions\n",
    "# memory usage: 13.8mb, less than 94.14%"
   ]
  },
  {
   "cell_type": "markdown",
   "metadata": {},
   "source": [
    "# 104. Maximum depth of binary tree\n",
    "\n",
    "Given the root of a binary tree, return its maximum depth\n",
    "\n",
    "a binary tree's maximum depth is the number of nodes along the longest path\n",
    "from the root node down to the farthest leaf node"
   ]
  },
  {
   "cell_type": "code",
   "execution_count": null,
   "metadata": {},
   "outputs": [],
   "source": [
    "# 104. Maximum depth of binary tree\n",
    "\n",
    "def max_depth(root):\n",
    "    if root is None:\n",
    "        return 0\n",
    "    depth = 0\n",
    "    arr = [[root]]\n",
    "    while len(arr) > 0:\n",
    "        nodearr = arr.pop()\n",
    "        temp = []\n",
    "        for node in nodearr:\n",
    "            if node.left is not None:\n",
    "                temp.append(node.left)\n",
    "            if node.right is not None:\n",
    "                temp.append(node.right)\n",
    "        if len(temp) > 0:\n",
    "            arr.append(temp)\n",
    "        depth += 1\n",
    "    return depth\n",
    "\n",
    "\n",
    "# runtime: 55ms, faster than 71.41% of python3 online submissions\n",
    "# memory usage: 15.3 mb, less than 81.22%\n",
    "\n",
    "\n",
    "#solved using recursion\n",
    "def max_depth2(root):\n",
    "    if root is None:\n",
    "        return 0\n",
    "    def recur(root,d,l,r):\n",
    "        if root is not None:\n",
    "            if root.left is not None:\n",
    "                d = recur(root.left,d,l+1,r)\n",
    "            if root.right is not None:\n",
    "                d = recur(root.right,d,l,r+1)\n",
    "            return max(d,l+r)\n",
    "    return recur(root,0,0,0) + 1\n",
    "\n",
    "# runtime: 39 ms, faster than 97.47% of python3 submissions\n",
    "# memory usage: 16.4mb, less than 23.50"
   ]
  },
  {
   "cell_type": "markdown",
   "metadata": {},
   "source": [
    "# 108 convert sorted array to binary search tree\n",
    "\n",
    "Given an integer array nums where the elements are sorted in ascending order, convert it to a\n",
    "height-balanced binary search tree\n",
    "\n",
    "a height-balanced binary search tree is a binary search tree in which the depth of the two \n",
    "subtrees of every node never differs by  more than one"
   ]
  },
  {
   "cell_type": "code",
   "execution_count": null,
   "metadata": {},
   "outputs": [],
   "source": [
    "# 108 convert sorted array to binary search tree\n",
    "\n",
    "class Solution:\n",
    "  def sortedArraytoBST(self, nums: list[int]) -> optional[TreeNode]:\n",
    "    return self.makeBST(nums, 0, len(nums))\n",
    "  \n",
    "  def makeBST(self, nums, start, end):\n",
    "    if start >= end: return None\n",
    "    return TreeNode(\n",
    "      val = nums[ (start + end) //2],\n",
    "      left = self.makeBST(nums, start, (start + end) //2),\n",
    "      right = self.makeBST(nums, 1 + (start + end) //2, end)\n",
    "    )\n",
    "    \n",
    "\n",
    "# time complexity O(n log n)\n",
    "# space complexity O(n)\n",
    "\n",
    "class Solution:\n",
    "  def sortedArraytoBST(self, nums: list[int]) -> optional[TreeNode]:\n",
    "    total_nums = len(nums)\n",
    "    if not total_nums:\n",
    "      return None\n",
    "    \n",
    "    mid_node = total_nums // 2\n",
    "    return TreeNode(nums[mid_node],\n",
    "                    self.sortedArraytoBST(nums[:mid_node]),\n",
    "                    self.sortedArraytoBST(nums[mid_node + 1 :],))\n",
    "    \n",
    "# time complexity O(n log n)\n",
    "# space complexity O(n)\n",
    "\n",
    "\n",
    "# runtime: 123 ms, faster than 75.17% of python3 submissions\n",
    "# memory: 15.6 MB, less than 83.35%\n"
   ]
  },
  {
   "cell_type": "markdown",
   "metadata": {},
   "source": [
    "# 110 Balanced Binary search tree\n",
    "\n",
    "Given a binary search tree, determine if it is height balanced.\n",
    "\n",
    "for this problem, a height balanced binary search tree is defined as:\n",
    "a binary tree in which the left and right subtrees of every node differ in height \n",
    "by no more than 1.\n"
   ]
  },
  {
   "cell_type": "code",
   "execution_count": null,
   "metadata": {},
   "outputs": [],
   "source": [
    "# 110 Balanced Binary search tree\n",
    "\n",
    "\n",
    "class Solution:\n",
    "    def isBalanced(self, root: Optional[TreeNode]) -> bool:\n",
    "        if root is None:\n",
    "            return True\n",
    "\n",
    "        def check(node):\n",
    "            while node is not None:\n",
    "                height_left = check(node.left)\n",
    "                height_right = check(node.right)\n",
    "                if height_left is False or height_right is False:\n",
    "                    return False\n",
    "                elif abs(height_left - height_right) > 1:\n",
    "                    # print(\"in\")\n",
    "                    return False\n",
    "                else:\n",
    "                    temp_height = max(height_left, height_right)\n",
    "                    return temp_height + 1\n",
    "            if node is None:\n",
    "                return 0\n",
    "            return True\n",
    "        return check(root)\n",
    "\n",
    "# runtime: 45ms, beats 98%\n",
    "# memory usage: 18.6MB, beats 61%"
   ]
  },
  {
   "cell_type": "markdown",
   "metadata": {},
   "source": [
    "# 111 Minimum Depth of Binary tree\n",
    "\n",
    "Given a binary tree, find its minimum depth\n",
    "\n",
    "the minimum depth is the number of nodes alogn the shortest path from the root node\n",
    "down to the nearest leaf node\n"
   ]
  },
  {
   "cell_type": "code",
   "execution_count": null,
   "metadata": {},
   "outputs": [],
   "source": [
    "# 111 Minimum Depth of Binary tree\n",
    "\n",
    "def min_depth(root):\n",
    "    if root is None:\n",
    "        return 0\n",
    "    arr = [[root]]\n",
    "    d = 0\n",
    "    while len(arr) > 0:\n",
    "        d += 1\n",
    "        arr2 = arr.pop()\n",
    "        temp = []\n",
    "        for n in arr2:\n",
    "            if n.left is None and n.right is None:\n",
    "                return d\n",
    "            else:\n",
    "                if n.left is not None:\n",
    "                    temp.append(n.left)\n",
    "                if n.right is not None:\n",
    "                    temp.append(n.right)\n",
    "        if len(temp) > 0:\n",
    "            arr.append(temp)\n",
    "    return d\n",
    "\n",
    "# runtime: 935ms, faster than 35.91% of python3 online submissions\n",
    "# memory usage: 49.4 mb, less than 69.21%\n",
    "\n",
    "# recursive solution\n",
    "\n",
    "def min_depth2(root):\n",
    "    if root is None:\n",
    "        return 0\n",
    "    def recur(root,d,l,r):\n",
    "        if root is not None:\\\n",
    "            if l+r > d:\n",
    "                return l+r\n",
    "            elif root.left is None and root.right is None:\n",
    "                return l+r\n",
    "            else:\n",
    "                if root.left is not None:\n",
    "                    d = min(d,recur(root.left,d,l+1,r))\n",
    "                if root.right is not None:\n",
    "                    d = min(d,recur(root.right,d,l,r+1))\n",
    "                return d\n",
    "        return recur(root,10**5,0,0) + 1\n",
    "\n",
    "# runtime: 681ms, faster than 76.09% of python3 submissions\n",
    "# memory usage: 50.4mb, less than 61.70%"
   ]
  },
  {
   "cell_type": "markdown",
   "metadata": {},
   "source": [
    "# 112 path sum\n",
    "\n",
    "Given the root of a biinary tree and an integer targetSum, return true if \n",
    "the tree has a root-to-leaf path such that adding p all the values along the\n",
    "path equals targetSum\n",
    "\n",
    "a leaf is a node with no children\n"
   ]
  },
  {
   "cell_type": "code",
   "execution_count": null,
   "metadata": {},
   "outputs": [],
   "source": [
    "# 112 path sum\n",
    "\n",
    "def has_path_sum(root,target_sum):\n",
    "\n",
    "    def recur(root,target_sum,boo):\n",
    "        if root is not None:\n",
    "            target_sum -= root.val\n",
    "            if root.left is None and root.right is None:\n",
    "                if target_sum == ttl:\n",
    "                    return True\n",
    "            if root.left is not None:\n",
    "                boo = recur(root.left,target_sum,boo)\n",
    "            if root.right is not None:\n",
    "                boo = recur(root.right, target_sum,boo)\n",
    "            return boo\n",
    "    return recur(root,target_sum,False)\n",
    "            \n",
    "    \n",
    "#runtime: 46ms, faster than 90.87% of python3 submissions\n",
    "#memory usage: 15.1mb, less than 57.88%"
   ]
  },
  {
   "cell_type": "markdown",
   "metadata": {},
   "source": [
    "# 118 pascal's triangle\n",
    "\n",
    "Given an integer numRows, return the first numRows of pascal's triangle\n",
    "\n",
    "in Pascal's triangle, each number is the sum of the two numbers directly\n",
    "above it as shown"
   ]
  },
  {
   "cell_type": "code",
   "execution_count": null,
   "metadata": {},
   "outputs": [],
   "source": [
    "# 118 pascal's triangle\n",
    "\n",
    "def generate_triangle(numRows):\n",
    "    output = []\n",
    "    prev = None\n",
    "    for i in range(numRows):\n",
    "        temp = [1 for x in range(i+1) ]\n",
    "        if i+1 > 2:\n",
    "            for x in range(1,i):\n",
    "                temp[x] = prev[x]+prev[x-1]\n",
    "        prev = temp\n",
    "        output.append(prev)\n",
    "    return output\n",
    "\n",
    "# generate_triangle(2)\n",
    "\n",
    "# runtime: 34ms, faster than 88.31% of python3 submissions\n",
    "# memory usage: 13.8mb, less than 65.76%"
   ]
  },
  {
   "cell_type": "markdown",
   "metadata": {},
   "source": [
    "# 119 pascal's triangle\n",
    "\n",
    "Given an integer rowIndex, return the rowIndex row of the Pascal's trinagle\n"
   ]
  },
  {
   "cell_type": "code",
   "execution_count": null,
   "metadata": {},
   "outputs": [],
   "source": [
    "# 119 pascal's triangle\n",
    "\n",
    "def get_row_of_triangle(rowIndex):\n",
    "    output=[]\n",
    "    prev=None\n",
    "    for i in range(rowIndex+1):\n",
    "        temp = [1 for x in range(i+1)]\n",
    "        if i+1>2:\n",
    "            for x in range(1,i):\n",
    "                temp[x] = prev[x]+ prev[x-1]\n",
    "        prev = temp\n",
    "        output.append(prev)\n",
    "    return output[rowIndex]\n",
    "\n",
    "get_row_of_triangle(3)\n",
    "\n",
    "# runtime: 24ms, faster than 99.44% of python3 submissions\n",
    "# memory usage: 13.8 mb, less than 96.88%"
   ]
  },
  {
   "cell_type": "markdown",
   "metadata": {},
   "source": [
    "# 121. Best time to buy and sell stock\n",
    "\n",
    "You are given an array prices where price[i] is the price of a given stock on the ith day\n",
    "\n",
    "You want to maximize your profit choosing a single day to buy one stock and choosing a different day in the future to sell that stock.\n",
    "\n",
    "Return the maximum profit you can achieve from this transaction, if you cannot achieve any profit, return 0"
   ]
  },
  {
   "cell_type": "code",
   "execution_count": null,
   "metadata": {},
   "outputs": [],
   "source": [
    "# 121 best time to buy and sell stock\n",
    "\n",
    "def max_profit(prices):\n",
    "    # [7,1,5,3,6,4] max profit = 5\n",
    "    # buy at day 2 and sell at day 5\n",
    "\n",
    "    min = prices[0]\n",
    "    maxx = 0\n",
    "    for i,n in enumerate(prices[1:]):\n",
    "        if min > n:\n",
    "            min = n\n",
    "        elif min < n:\n",
    "            maxx = max(maxx,n - min)\n",
    "            print(maxx)\n",
    "    return maxx\n",
    "\n",
    "# runtime: faster than 43.69% of python3 submissions\n",
    "# memory usage: 24.6 mb, less than 96.62%\n",
    "\n",
    "def max_profit(prices):\n",
    "    mn=prices[0]\n",
    "    mx=0\n",
    "    for n in prices[1:]:\n",
    "        if mn > n:\n",
    "            mn = n\n",
    "        elif mn < n and (n-m) > mx:\n",
    "            mx = n-mn\n",
    "    return mx\n",
    "prices = [7,1,5,3,6,4]\n",
    "prices = [7,6,5,4,3]\n",
    "prices = [7,6,5,10,3,5,6,1,10,2,3,5,9,2,20]\n",
    "max_profit(prices)            \n",
    "\n",
    "# runtime: faster than 78.53% of python3 submissions\n",
    "# memory usage: 24.9 mb, less than 85.81%\n"
   ]
  },
  {
   "cell_type": "markdown",
   "metadata": {},
   "source": [
    "# 125 valid palindrome\n",
    "\n",
    "a phrase is a palindrome if, after converting all uppercase letters into lowercase letters\n",
    "and removing all non-alphanumeric characters, it read the same forward and backward. Alphanumeric\n",
    "characters include letters and numbers\n",
    "\n",
    "given a string s, return true if it is a palindrome, or false otherwise\n"
   ]
  },
  {
   "cell_type": "code",
   "execution_count": null,
   "metadata": {},
   "outputs": [],
   "source": [
    "# 125 valid palindrome\n",
    "\n",
    "def is_palindrome(string):\n",
    "    new_string = \"\"\n",
    "    for char in string:\n",
    "        if char.isalnum():\n",
    "            new_string+=char.lower()\n",
    "    l=0\n",
    "    r=len(new_string) - 1\n",
    "    while l < r:\n",
    "        if new_string[l] != new_string[r]:\n",
    "            return False\n",
    "        l+=1\n",
    "        r-=1\n",
    "    return True\n",
    "\n",
    "\n",
    "string = \"A man, a plan, a canal: Panama\"\n",
    "string = \"race a car\"\n",
    "string = \" \"\n",
    "is_palindrome(string)\n",
    "\n",
    "#runtime: 49ms, faster than 91.74% of python3 submissions\n",
    "# memory usage: 14.3 mb, less than 85.87%"
   ]
  },
  {
   "cell_type": "markdown",
   "metadata": {},
   "source": [
    "# 136 single number\n",
    "\n",
    "given a non-empty array of integers nums, every element appears twice except for one. Find that single one\n",
    "\n",
    "You must implement a solution with a linear runtime complexity and use only constant extra spacee"
   ]
  },
  {
   "cell_type": "code",
   "execution_count": null,
   "metadata": {},
   "outputs": [],
   "source": [
    "# 136 single number\n",
    "\n",
    "def single_number(nums):\n",
    "    nums.sort()\n",
    "    p=nums[0]\n",
    "    i=1\n",
    "    while i < len(nums):\n",
    "        if p != nums[i]:\n",
    "            return p\n",
    "        else:\n",
    "            p = nums[i+1]\n",
    "            i += 2\n",
    "    return p\n",
    "\n",
    "#runtime: 162 ms, faster, than 79.80% of python3 submissions\n",
    "#memory usage: 16.5mb, less than 93.66%"
   ]
  },
  {
   "cell_type": "markdown",
   "metadata": {},
   "source": [
    "# 141. Linked list cycle\n",
    "\n",
    "Given head, the head of a linked list, determine if the linked list has a cycle in it.\n",
    "\n",
    "there is a cucle in a linked list if there is some node in the list that can be reached again by continuously\n",
    "following the next pointer. Internally, pos is used to denote the index of the node that tail's next pointer\n",
    "is connected to. Note that pos is not passed as a parameter\n",
    "\n",
    "return true if there is a cycle in the linked list. Otherwise, return false"
   ]
  },
  {
   "cell_type": "code",
   "execution_count": null,
   "metadata": {},
   "outputs": [],
   "source": [
    "# 141. Linked list cycle\n",
    "\n",
    "def has_cycle(head):\n",
    "    if head is None:\n",
    "        return False\n",
    "    h1=head\n",
    "    h2=head\n",
    "    while h1.next.next is not None:\n",
    "        h1 = h1.next\n",
    "        if h1.next is not None:\n",
    "            h1 = h1.next\n",
    "            if h1 is h2:\n",
    "                return True\n",
    "            h2 = h2.next\n",
    "    return False\n",
    "\n",
    "# runtime: 66ms, faster than 81.95% of python3 submissions\n",
    "# memory usage: 17.1 mb, less than 99.11%"
   ]
  },
  {
   "cell_type": "markdown",
   "metadata": {},
   "source": [
    "# 144 Binary tree preorder traversal\n",
    "\n",
    "Given the root of a binary tree, return the preorder traversal of its nodes values"
   ]
  },
  {
   "cell_type": "code",
   "execution_count": null,
   "metadata": {},
   "outputs": [],
   "source": [
    "# 144 Binary tree preorder traversal\n",
    "\n",
    "def pre_order_traversal(root):\n",
    "    def recur(node,arr):\n",
    "        if node is not None:\n",
    "            arr.append(node.val)\n",
    "            if node.left is not None:\n",
    "                recur(node.left,arr)\n",
    "            if node.right is not None:\n",
    "                recur(node.right,arr)\n",
    "        return arr\n",
    "    return recur(root,[])\n",
    "\n",
    "# runtime: 39 ms faster than 75.52% of python3 submissions\n",
    "# memory usage: 13.9, less than 13.06% \n",
    "\n",
    "\n",
    "\"\"\"\n",
    "Complete iteratively\n",
    "\"\"\"\n",
    "\n",
    "def pre_order_traversal(root):\n",
    "    if root is None:\n",
    "        return []\n",
    "    output=[]\n",
    "    main_arr = [root]\n",
    "    while len(main_arr) > 0:\n",
    "        node = main_arr.pop()\n",
    "        output.append(node.val)\n",
    "        if node.right is not None:\n",
    "            main_arr.append(node.right)\n",
    "        if node.left is not None:\n",
    "            main_arr.append(node.left)\n",
    "    return output\n",
    "\n",
    "# runtime: 26ms, faster than 98.61% of python3 submissions\n",
    "# memory usage: 13.8 mb, less than 60.05%"
   ]
  },
  {
   "cell_type": "markdown",
   "metadata": {},
   "source": [
    "# 145. binary tree postorder traversal\n",
    "Given the root of a binary tree, return the postorder traversal of its nodes' values"
   ]
  },
  {
   "cell_type": "code",
   "execution_count": null,
   "metadata": {},
   "outputs": [],
   "source": [
    "# 145. binary tree postorder traversal\n",
    "\n",
    "def post_order_traversal(root):\n",
    "    def recur(node,arr):\n",
    "        if node is not None:\n",
    "            if node.left is not None:\n",
    "                recur(node.left,arr)\n",
    "            if node.right is not None:\n",
    "                recur(node.right,arr)\n",
    "            arr.append(node.val)\n",
    "        return arr\n",
    "    return recur(root,[])\n",
    "\n",
    "\n",
    "# runtime: 34ms, faster than 88.36% of python3 submissions\n",
    "# memory usage: 13.8 mb, less than 96.68%\n",
    "\n",
    "\"\"\"\n",
    "Complete iteratively\n",
    "\"\"\"\n",
    "\n",
    "def pre_order_traversal(root):\n",
    "    if root is None:\n",
    "        return []\n",
    "    output=[]\n",
    "    main_arr = [root]\n",
    "    while len(main_arr) > 0:\n",
    "        node = main_arr.pop()\n",
    "        output.append(node.val)\n",
    "        if node.left is not None:\n",
    "            main_arr.append(node.left)\n",
    "        if node.right is not None:\n",
    "            main_arr.append(node.right)\n",
    "    return output[::-1]\n",
    "# runtime: 34 ms, faster than 88.36% of python3 submissions\n",
    "# memory usage: 13.9 mb, less than 60.12%\n",
    "\n",
    "\"\"\"optimize some more\"\"\"\n",
    "\n",
    "def pre_order_traversal(root):\n",
    "    if root is not None:\n",
    "        return []\n",
    "    output=[]\n",
    "    main_arr = []\n",
    "    while len(main_arr) > 0:\n",
    "        node = main_arr.pop()\n",
    "        output = [node.val]+output\n",
    "        if node.left is not None:\n",
    "            main_arr.append(node.left)\n",
    "        if node.right is not None:\n",
    "            main_arr.append(node.right)\n",
    "    return output\n",
    "\n",
    "# runtime: 31 ms, faster than 93.89% of python3 submissions\n",
    "# memory usage: 13.8 mb, less than 96.68%"
   ]
  },
  {
   "cell_type": "markdown",
   "metadata": {},
   "source": [
    "# 160 Intersection of two linked lists\n",
    "Given the heads of two singly linked-lists headA and headB, return the node at which\n",
    "the two lists intersect. If the two linked lists have no intersection at all, return\n",
    "null\n",
    "\n",
    "The test cases are generated such that there are no cycles anywhere in the entire \n",
    "linked structure.\n",
    "\n",
    "The linked lists must retain their original structure after the function returns"
   ]
  },
  {
   "cell_type": "code",
   "execution_count": null,
   "metadata": {},
   "outputs": [],
   "source": [
    "# 160 Intersection of two linked lists\n",
    "\n",
    "# this solution only works if intersection is max 2 nodes apart\n",
    "def get_intersection_node(headA,headB):\n",
    "    if headA is not None and headB is not None:\n",
    "        arrA = []\n",
    "        arrB = []\n",
    "\n",
    "        while headA is not None or headB is not None:\n",
    "            prevA = None\n",
    "            prevB = None\n",
    "            if headA is not None:\n",
    "                arrA.append(headA)\n",
    "            if headB is not None:\n",
    "                arrB.append(headB)\n",
    "            if len(arrA)>1:\n",
    "                prevA = arrA[len(arrA)-2]\n",
    "            if len(arrB)>1:\n",
    "                prevB = arrB[len(arrB)-2]\n",
    "            nodeA = arrA[-1]\n",
    "            nodeB = arrB[-1]\n",
    "            if nodeA is nodeB:\n",
    "                return nodeA\n",
    "            if prevA is not None:\n",
    "                if prevA is nodeB:\n",
    "                    return prevA\n",
    "            if prevB is not None:\n",
    "                if prevB is nodeA:\n",
    "                    return prevB\n",
    "            if prevB is not None and prevA is not None:\n",
    "                if prevA is prevB:\n",
    "                    return prevA\n",
    "            headA = headA.next\n",
    "            headB = headB.next\n",
    "        return None\n",
    "    return None\n",
    "\n",
    "def get_intersection_node(headA,headB):\n",
    "    lA=0\n",
    "    lB=0\n",
    "    hA=headA\n",
    "    hB=headB\n",
    "    while hA is not None or hB is not None:\n",
    "        if hA is not None:\n",
    "            lA+=1\n",
    "            hA = hA.next\n",
    "        if hB is not None:\n",
    "            lB+=1\n",
    "            hB = hB.next\n",
    "    while lA > lB or lA < lB:\n",
    "        if lA > lB:\n",
    "            headA = headA.next\n",
    "            lA -= 1\n",
    "        elif lA < lB:\n",
    "            headB = headB.next\n",
    "            lB -= 1\n",
    "    while headA is not None and headB is not None:\n",
    "        if headA is headB:\n",
    "            return headA\n",
    "        headA = headA.next\n",
    "        headB = headB.next\n",
    "    return None\n",
    "\n",
    "# runtime: 255ms, faster than 43.36% of submissions\n",
    "# memory usage: 29.4mb, less than 94.15%\n",
    "\n",
    "\"\"\"optimize\"\"\"\n",
    "\n",
    "def get_intersection_node(headA,headB):\n",
    "    lA,lB=0,0\n",
    "    hA,hB=headA,headB\n",
    "    while hA is not None or hB is not None:\n",
    "        if hA is not None:\n",
    "            lA += 1\n",
    "            hA = hA.next\n",
    "        if hB is not None:\n",
    "            lB += 1\n",
    "            hB = hB.next\n",
    "        if lA > lB:\n",
    "            headA = headA.next\n",
    "            lA -= 1\n",
    "        elif lA < lB:\n",
    "            headB = headB.next\n",
    "            lB -= 1\n",
    "    while headA is not None and headB is not None:\n",
    "        if headA is headB:\n",
    "            return headA\n",
    "        headA = headA.next\n",
    "        headB = headB.next\n",
    "    return None\n",
    "\n",
    "# runtime: 157ms, faster than 97.48% of python3 submissions\n",
    "# memory usage: 29.5 mb, less than 94.15%"
   ]
  },
  {
   "cell_type": "markdown",
   "metadata": {},
   "source": [
    "# 168 excel sheet column title"
   ]
  },
  {
   "cell_type": "code",
   "execution_count": null,
   "metadata": {},
   "outputs": [],
   "source": [
    "# 168 excel sheet column title\n",
    "\n",
    "\n",
    "def test(cn):\n",
    "    alph =[\"A\",\"B\",\"C\",\"D\",\"E\",\"F\",\"G\",\"H\",\"I\",\"J\",\"K\",\"L\",\"M\",\"N\",\"O\",\"P\",\"Q\",\"R\",\"S\",\"T\",\"U\",\"V\",\"W\",\"X\",\"Y\",\"Z\"]\n",
    "    # c = 0\n",
    "    # tmp = 0\n",
    "    ans = [0]\n",
    "    while 0 < cn:\n",
    "        cn -= 1\n",
    "        ans[-1] += 1\n",
    "        if ans[-1] > 26:\n",
    "            for num in range(len(ans),0,-1):\n",
    "                if ans[num-1] == 27:\n",
    "                    if num-2 >= 0:\n",
    "                        ans[num-2] += 1\n",
    "                        ans[num-1] = 1\n",
    "                    else:\n",
    "                        ans = [1] + ans\n",
    "                        ans[num] = 1\n",
    "    answer = \"\"\n",
    "    for n in ans:\n",
    "        answer+=alph[n-1]\n",
    "    return answer\n",
    "\n",
    "def convert_to_title(columnNumber):\n",
    "    maps = {0:\"A\",1:\"B\",2:\"C\",3:\"D\",4:\"E\",5:\"F\",6:\"G\",7:\"H\",8:\"I\",9:\"J\",10:\"K\",11:\"L\",12:\"M\",13:\"N\",14:\"O\",15:\"P\",16:\"Q\",17:\"R\",18:\"S\",19:\"T\",20:\"U\",21:\"V\",22:\"W\",23:\"X\",24:\"Y\",25:\"Z\"}\n",
    "    answer = \"\"\n",
    "    while columnNumber > 0:\n",
    "        columnNumber -= 1\n",
    "        print(columnNumber, \"columnNumber subtract one\")\n",
    "        temp = columnNumber %26\n",
    "        print(temp, \"the remainder after dividing columnNumber by modulo\")\n",
    "        columnNumber = columnNumber // 26\n",
    "        print(columnNumber, 'the new columnNumber after divinging by 26 floor')\n",
    "        answer += maps[temp]\n",
    "    return answer[::-1]\n",
    "\n",
    "convert_to_title(100)\n",
    "\n",
    "# runtime: 42ms, faster than 66.01% of python3 submissions\n",
    "# memory usage: 14mb, less than 10.86%\n",
    "\n",
    "\n",
    "def convert_to_title(columnNumber):\n",
    "    maps = {0:\"A\",1:\"B\",2:\"C\",3:\"D\",4:\"E\",5:\"F\",6:\"G\",7:\"H\",8:\"I\",9:\"J\",10:\"K\",11:\"L\",12:\"M\",13:\"N\",14:\"O\",15:\"P\",16:\"Q\",17:\"R\",18:\"S\",19:\"T\",20:\"U\",21:\"V\",22:\"W\",23:\"X\",24:\"Y\",25:\"Z\"}\n",
    "    answer = \"\"\n",
    "    while columnNumber > 0:\n",
    "        columnNumber -= 1\n",
    "        answer = maps[columnNumber %26] + answer\n",
    "        columnNumber = columnNumber // 26\n",
    "    return answer\n",
    "\n",
    "# runtime: 29ms, faster than 94.76% of python3 submissions\n",
    "# memory usage: 13.8 mb, less than 57.96%"
   ]
  },
  {
   "cell_type": "markdown",
   "metadata": {},
   "source": [
    "# 171 Excel sheet column Number\n",
    "\n",
    "Givena  string  columntitle that represents the column title as appears in an \n",
    "excel sheet, return its corresponding column number"
   ]
  },
  {
   "cell_type": "code",
   "execution_count": null,
   "metadata": {},
   "outputs": [],
   "source": [
    "# 171 Excel sheet column Number\n",
    "\"\"\"\n",
    "Givena  string  columntitle that represents the column title as appears in an \n",
    "excel sheet, return its corresponding column number\n",
    "\"\"\"\n",
    "def title_to_number(columnTitle):\n",
    "    maps = {\"A\":0,\"B\":1,\"C\":2,\"D\":3,\"E\":4,\"F\":5,\"G\":6,\"H\":7,\"I\":8,\"J\":9,\"K\":10,\"L\":11,\"M\":12,\"N\":13,\"O\":14,\"P\":15,\"Q\":16,\"R\":17,\"S\":18,\"T\":19,\"U\":20,\"V\":21,\"W\":22,\"X\":23,\"Y\":24,\"Z\":25}\n",
    "    i = 1\n",
    "    ttl = 1\n",
    "    for char in columnTitle[::-1]:\n",
    "        if i == 1:\n",
    "            ttl = maps[char] + ttl\n",
    "            i += 1\n",
    "        elif i == 2:\n",
    "            ttl = ((maps[char]+1) * 26) + ttl\n",
    "            i += 1\n",
    "        elif i == 3:\n",
    "            # ttl += 26**i\n",
    "            ttl = ((maps[char]+1) * (26**(i-1))) + ttl\n",
    "            i += 1\n",
    "        elif i == 4:\n",
    "            ttl = ((maps[char]+1) * (26**(i-1))) + ttl\n",
    "            i += 1\n",
    "        elif i == 5:\n",
    "            ttl = ((maps[char]+1) * (26**(i-1))) + ttl\n",
    "            i += 1\n",
    "\n",
    "    return ttl\n",
    "\n",
    "# refactored my code from above, found pattern\"\n",
    "\n",
    "def title_to_number(columnTitle):\n",
    "    maps = {\"A\":0,\"B\":1,\"C\":2,\"D\":3,\"E\":4,\"F\":5,\"G\":6,\"H\":7,\"I\":8,\"J\":9,\"K\":10,\"L\":11,\"M\":12,\"N\":13,\"O\":14,\"P\":15,\"Q\":16,\"R\":17,\"S\":18,\"T\":19,\"U\":20,\"V\":21,\"W\":22,\"X\":23,\"Y\":24,\"Z\":25}    \n",
    "    i=1\n",
    "    ttl=1\n",
    "    for char in columnTitle[::-1]:\n",
    "        if i > 1:\n",
    "            ttl += (maps[char]+1)* (26**(i-1))\n",
    "            i += 1\n",
    "        else:\n",
    "            ttl = maps[char] + ttl\n",
    "            i += 1\n",
    "    return ttl\n",
    "\n",
    "title_to_number(\"ABD\")\n",
    "# runtime: 43 ms, faster than 73.54% of python3 submissions\n",
    "# memory usage: 13.8 mb, less than 55.30%"
   ]
  },
  {
   "cell_type": "markdown",
   "metadata": {},
   "source": [
    "# 169 Majority Element\n",
    "\n",
    "Given an array nums of size n, return the majority element\n",
    "\n",
    "The majority element is the element that appears more than n/2 times.\n",
    "you may assume that the majority element always exists in the array\n",
    "\n",
    "Can you solve the problem in linear time and O(1) space?"
   ]
  },
  {
   "cell_type": "code",
   "execution_count": null,
   "metadata": {},
   "outputs": [],
   "source": [
    "# 169 Majority Element\n",
    "\n",
    "\"\"\"\n",
    "Given an array nums of size n, return the majority element\n",
    "\n",
    "The majority element is the element that appears more than n/2 times.\n",
    "you may assume that the majority element always exists in the array\n",
    "\n",
    "Can you solve the problem in linear time and O(1) space?\n",
    "\"\"\"\n",
    "\n",
    "def majority_element(nums):\n",
    "    nums_length = len(nums)\n",
    "    nums.sort()\n",
    "    c=1\n",
    "    prev=nums[0]\n",
    "    for n in nums[1:]:\n",
    "        if n == prev:\n",
    "            c+=1\n",
    "            if c > (nums_length/2):\n",
    "                return n\n",
    "        else:\n",
    "            prev = n\n",
    "            c = 1\n",
    "    return prev\n",
    "\n",
    "# runtime: 181 ms, faster than 87.52% of python3 submissions\n",
    "# memory usage: 15.5mb, less than 86.47%\n",
    "    \n",
    "\n",
    "\n"
   ]
  },
  {
   "cell_type": "markdown",
   "metadata": {},
   "source": [
    "# 175 combine two tables\n",
    "\n",
    "write an sql query to report the first time, last name, city and state of each\n",
    "person in the person table. If the address of a personID is not present in the \n",
    "address table, report null instead.\n",
    "\n",
    "return the result table in any order"
   ]
  },
  {
   "cell_type": "code",
   "execution_count": null,
   "metadata": {},
   "outputs": [],
   "source": [
    "\n",
    "# select firstName, lastName, city, state\n",
    "# from Person\n",
    "# left join Address\n",
    "# on Person.personId = Address.personId\n",
    "\n",
    "# runtime: 565ms, faster than 40.19% of mysql submissions\n",
    "# memory usage 0b, less than 100%"
   ]
  },
  {
   "cell_type": "markdown",
   "metadata": {},
   "source": [
    "# 181 Employees earning more than their managers\n",
    "\n",
    "Write an sql query to find the employees who earn more than their managers\n",
    "return the result table in any order"
   ]
  },
  {
   "cell_type": "code",
   "execution_count": null,
   "metadata": {},
   "outputs": [],
   "source": [
    "#select name as 'Employee'\n",
    "#from Employee as emp1\n",
    "#where salary > (select salary from Employee where emp1.managerID = Employee.id)\n",
    "\n",
    "#runtime 1247 ms, faster than 5.67% of mysql submissions\n",
    "#memory usage: 0b, less than 100%\n",
    "\n",
    "\"\"\"optimize using self-join\"\"\"\n",
    "#select emp1.name as 'Employee'\n",
    "#from Employee as emp1, Employee as emp2\n",
    "#where emp1.managerId = emp2.id and emp1.salary > emp2.salary\n",
    "\n",
    "#runtime 318ms, faster than 93.64% of mysql submissions\n",
    "#memory usage: 0b, less than 100%"
   ]
  },
  {
   "cell_type": "markdown",
   "metadata": {},
   "source": [
    "# 182 duplicate emails\n",
    "\n",
    "write an sql query to report all the duplicate emails.\n",
    "\n",
    "return the result table in any order"
   ]
  },
  {
   "cell_type": "code",
   "execution_count": null,
   "metadata": {},
   "outputs": [],
   "source": [
    "# select email as 'Email'\n",
    "# from Person\n",
    "# group by email\n",
    "# Having count(email) > 1\n",
    "\n",
    "\n",
    "#runtime: 361, faster than 71.70% of mysql submissions\n",
    "#memory usage: 0b, less than 100%"
   ]
  },
  {
   "cell_type": "markdown",
   "metadata": {},
   "source": [
    "# 183 customers who never order\n",
    "\n",
    "write an sql query to report all cutomser who never order anything\n",
    "return the result table in any order"
   ]
  },
  {
   "cell_type": "code",
   "execution_count": null,
   "metadata": {},
   "outputs": [],
   "source": [
    "\n",
    "#select name as 'Customers'\n",
    "#from customers\n",
    "#where customers.id not in (select customerId from Orders)\n",
    "\n",
    "#runtime 386ms, faster than 97.10% of mysql submissions\n",
    "#memory usage: 0b, less than 100%"
   ]
  },
  {
   "cell_type": "markdown",
   "metadata": {},
   "source": [
    "# 190 reverse bits\n",
    "reverse bits of a given 32 bits unsigned integer"
   ]
  },
  {
   "cell_type": "code",
   "execution_count": null,
   "metadata": {},
   "outputs": [],
   "source": [
    "\n",
    "def reverse_bits(n):\n",
    "    res = 0\n",
    "    for i in range(32):\n",
    "        bit = (n>>i)&1\n",
    "        res=res|bit<<(31-i)\n",
    "    return res\n",
    "\n",
    "input = \"00000010100101000001111010011100\"\n",
    "\n",
    "reverse_bits(input)\n",
    "\n",
    "#runtime; 37ms, faster than 87.25% of python3 submissions\n",
    "#memory usage: 13.8mb, less than 49.90%\n"
   ]
  },
  {
   "cell_type": "markdown",
   "metadata": {},
   "source": [
    "# 191 number of 1 bits"
   ]
  },
  {
   "cell_type": "code",
   "execution_count": null,
   "metadata": {},
   "outputs": [],
   "source": [
    "\n",
    "def hamming_weight(n):\n",
    "    c=0\n",
    "    while n:\n",
    "        if n % 2 == 1:\n",
    "            c+=1\n",
    "        n = n >> 1\n",
    "    return c\n",
    "# runtime: 47ms, faster than 57.55% of submissions\n",
    "# memory usage: 13.9 mb, less than 50.89%\n",
    "\n",
    "def hamming_weight(n):\n",
    "    c = 0\n",
    "    while n:\n",
    "        c += 1\n",
    "        n = n & (n-1)\n",
    "    return cc\n",
    "\n",
    "# runtime: 25ms, faster than 99.27% of python3 submissions\n",
    "# memory usage: 13.8mb, less than 94.81%"
   ]
  },
  {
   "cell_type": "markdown",
   "metadata": {},
   "source": [
    "# 196 delete duplicate emails\n",
    "\n",
    "write an sql query to delete all the duplicate emails, keeping only one unique email with \n",
    "the smallest id. Note that you are supposed to write a delete statement anot a select statement\n",
    "\n",
    "after running your script, the answer shown is the person table"
   ]
  },
  {
   "cell_type": "code",
   "execution_count": null,
   "metadata": {},
   "outputs": [],
   "source": [
    "\n",
    "#delete p1 from Person as p1\n",
    "#inner join Person as p2\n",
    "#where p1.id > p2.id and p1.email = p2.email\n",
    "\n",
    "#runtime: 768ms, faster than 78.22% of mysql online submission\n",
    "#memory usage: oB, less than 100%\n"
   ]
  },
  {
   "cell_type": "markdown",
   "metadata": {},
   "source": [
    "# 197 rising temperature\n",
    "\n",
    "write an sql query to find alld aatess id with higher temperatures compared to tis previous dates\n",
    "(yesterday)\n",
    "\n",
    "return the table in any order"
   ]
  },
  {
   "cell_type": "code",
   "execution_count": null,
   "metadata": {},
   "outputs": [],
   "source": [
    "\n",
    "#select w2.id\n",
    "# from Weather as w1\n",
    "# inner join Weather as w2\n",
    "# where w1.temperature < w2.temperature and DATEDIFF(w2.recordDate,w1.recordDate) = 1\n",
    "\n",
    "# runtime: 505ms, faster than 62.84% of submissions\n",
    "# memory usage: 0b, less than 100%\n"
   ]
  },
  {
   "cell_type": "markdown",
   "metadata": {},
   "source": [
    "# 202 happy number\n",
    "\n",
    "write an algorithm to determine if a number is n happy\n",
    "a happy number is a number defined by the following process\n",
    "\n",
    "starting with any positive number, replace the number by the sum of th squares of its digits\n",
    "\n",
    "repeat the process until the number equals 1 (where it will stay), or it loops endlessly in a\n",
    "cycle which does not include 1\n",
    "\n",
    "those numbers fro which this process ends in 1 are happy.\n",
    "\n",
    "return true if n is a happy number, and false if not"
   ]
  },
  {
   "cell_type": "code",
   "execution_count": null,
   "metadata": {},
   "outputs": [],
   "source": [
    "\n",
    "def is_happy(n):\n",
    "    bag = set()\n",
    "    while n != 1:\n",
    "        a = 0\n",
    "        for i in str(n):\n",
    "            a+= int(i)**2\n",
    "        if a in bag:\n",
    "            return False\n",
    "        bag.add(a)\n",
    "        n=a\n",
    "    return False\n",
    "\n",
    "# runtime: 45ms, faster than 73.18% of python3 submissions\n",
    "# memory usage: 13.8 mb, less than 61.15%"
   ]
  },
  {
   "cell_type": "markdown",
   "metadata": {},
   "source": [
    "# 203 removed linked list elements\n",
    "\n",
    "Given the head of a linked list and an integer val, remove all the nodes of the linked list\n",
    "that has Node.val == val, and return the new head"
   ]
  },
  {
   "cell_type": "code",
   "execution_count": null,
   "metadata": {},
   "outputs": [],
   "source": [
    "\n",
    "def remove_elements(head,val):\n",
    "    h2=head\n",
    "    prev=None\n",
    "    while head is not None:\n",
    "        if head.val == val:\n",
    "            if prev is not None:\n",
    "                prev.next = head.next\n",
    "                head = head.next\n",
    "            else:\n",
    "                h2 = head.next\n",
    "                head = head.next\n",
    "        else:\n",
    "            prev = head\n",
    "            head = head.next\n",
    "    return h2\n",
    "\n",
    "#runtime: 64ms, faster than 98.62% of python3 online submissions\n",
    "#memory usage: 17.7 mb, less than 81.81%"
   ]
  },
  {
   "cell_type": "markdown",
   "metadata": {},
   "source": [
    "# 205 isomorphic strings\n",
    "\n",
    "Given two strings s and t, determine if they are isomorphic\n",
    "\n",
    "two strings s and t are isomorphic if the characters in s can be replaced to get t.\n",
    "\n",
    "all occurrences of a character must be replaced with another character while preserving the order of characters.\n",
    "no two characters may map to the same character, but a character may map to itself"
   ]
  },
  {
   "cell_type": "code",
   "execution_count": null,
   "metadata": {},
   "outputs": [],
   "source": [
    "\n",
    "def is_isomorphic(s,t):\n",
    "    print(set(zip(s,t)))\n",
    "    return len(set(s)) == len(set(t)) == len(set(zip(s,t)))\n",
    "\n",
    "#runtime: 54ms, faster than 73.49% of submissions\n",
    "#memory usage: 14.2, less than 89.22%\n",
    "\n",
    "\n",
    "is_isomorphic(\"bar\",\"foo\")"
   ]
  },
  {
   "cell_type": "markdown",
   "metadata": {},
   "source": [
    "# 206. Reverse a singly linked list\n",
    "Given the head of a singly linked list, reverse the list, and return the reversed list.\n"
   ]
  },
  {
   "cell_type": "code",
   "execution_count": null,
   "metadata": {},
   "outputs": [],
   "source": [
    "\n",
    "# Definition for singly-linked list.\n",
    "# class ListNode:\n",
    "#     def __init__(self, val=0, next=None):\n",
    "#         self.val = val\n",
    "#         self.next = next\n",
    "class Solution:\n",
    "    def reverseList(self, head: Optional[ListNode]) -> Optional[ListNode]:\n",
    "        prev_head = None\n",
    "        while head is not None:\n",
    "            temp_next = head.next\n",
    "            head.next = prev_head\n",
    "            prev_head = head\n",
    "            if temp_next is None:\n",
    "                return prev_head\n",
    "            head = temp_next\n",
    "        return head\n",
    "\n",
    "# runtime: 35ms, beats 95%\n",
    "# memory usage: 15.5MB, beats 27%"
   ]
  },
  {
   "cell_type": "markdown",
   "metadata": {},
   "source": [
    "# 217. Contains Duplicate\n",
    "Given an integer array nums, return true if any value appears at least twice\n",
    "in the array, and return false if every element is distinct"
   ]
  },
  {
   "cell_type": "code",
   "execution_count": null,
   "metadata": {},
   "outputs": [],
   "source": [
    "class Solution:\n",
    "  def contains_duplicate(self, nums: List[int]) -> bool:\n",
    "    return len(set(nums)) != len(nums)\n",
    "\n",
    "# runtime: 464 ms, beats 93%\n",
    "# memory usage: 26MB, beats 28%"
   ]
  },
  {
   "cell_type": "markdown",
   "metadata": {},
   "source": [
    "# 219. Contains Duplicate II\n",
    "\n",
    "Given an integer array nums and an integer k, return true \n",
    "if there are two distinct indices I and J in the array \n",
    "such that nums[I] == nums[J] and abs(i - j) <= K"
   ]
  },
  {
   "cell_type": "code",
   "execution_count": null,
   "metadata": {},
   "outputs": [],
   "source": [
    "\n",
    "\n",
    "class Solution:\n",
    "    def containsNearbyDuplicate(self, nums: List[int], k: int) -> bool:\n",
    "        dictionary = dict()\n",
    "        for index, number in enumerate(nums):\n",
    "            if number not in dictionary:\n",
    "                dictionary[number] = []\n",
    "\n",
    "            dictionary[number].append(index)\n",
    "\n",
    "            if len(dictionary[number]) >= 2:\n",
    "                temp_array = dictionary[number]\n",
    "                # print(temp_array)\n",
    "                i = 1\n",
    "                while i < len(temp_array):\n",
    "                    if abs(temp_array[i-1] - temp_array[i]) <= k:\n",
    "                        return True\n",
    "                    i += 1\n",
    "\n",
    "        return False\n",
    "      \n",
    "  # runtime: 1899ms, beats 8%\n",
    "  # memory: 33.4MB, beats 5%\n",
    "  \n",
    "# thought about the question in a different way, came up with below solution\n",
    "# added simple adjustment\n",
    "\n",
    "class Solution:\n",
    "    def containsNearbyDuplicate(self, nums: List[int], k: int) -> bool:\n",
    "        if len(set(nums)) == len(nums): # this line of code made all the difference\n",
    "            return False\n",
    "        dictionary = dict()\n",
    "        for index, number in enumerate(nums):\n",
    "            if number not in dictionary:\n",
    "                dictionary[number] = []\n",
    "\n",
    "            dictionary[number].append(index)\n",
    "\n",
    "            if len(dictionary[number]) >= 2:\n",
    "                temp_array = dictionary[number]\n",
    "                # print(temp_array)\n",
    "                i = 1\n",
    "                while i < len(temp_array):\n",
    "                    if abs(temp_array[i-1] - temp_array[i]) <= k:\n",
    "                        return True\n",
    "                    i += 1\n",
    "\n",
    "        return False\n",
    "  \n",
    "# runtime: 614ms, beats 97%\n",
    "# memory: 26.4MB, beats 85%\n",
    "# the single conditional statement improved runtime from 8% to 97%"
   ]
  },
  {
   "cell_type": "markdown",
   "metadata": {},
   "source": [
    "# 226. Invert Binary Tree\n",
    "Given the root of a binary tree, invert the tree, and return its root."
   ]
  },
  {
   "cell_type": "code",
   "execution_count": null,
   "metadata": {},
   "outputs": [],
   "source": [
    "\n",
    "class Solution:\n",
    "  def invertTree(self, root: Optional[TreeNode]) -> Optional[TreeNode]:\n",
    "    def helper(node):\n",
    "      while node is not None:\n",
    "        helper(node.left)\n",
    "        helper(node.right)\n",
    "        temp_left = node.left\n",
    "        temp_right = node.right\n",
    "        node.left = temp_right\n",
    "        node.right = temp_left\n",
    "        return node\n",
    "    return helper(root)\n",
    "  \n",
    "  \n",
    "  # Runtime: 50ms, beats 65%\n",
    "  # Memory: 13.9MB, beats 58%"
   ]
  },
  {
   "cell_type": "markdown",
   "metadata": {},
   "source": [
    "# 228. Summary Ranges\n",
    "you are given a sorted unique integer array nums\n",
    "a range [a,b] is the set of all integers from a to b (inclusive)\n",
    "Return the smallest sorted list of ranges that cover all number in the array exactly. that is, \n",
    "each element of nums is covered by exactly one of the ranges, and there is no integer x such that x is in\n",
    "one of the ranges but not in nums.a"
   ]
  },
  {
   "cell_type": "code",
   "execution_count": null,
   "metadata": {},
   "outputs": [],
   "source": [
    "class Solution:\n",
    "    def summaryRanges(self, nums: List[int]) -> List[str]:\n",
    "        if len(nums) > 0:\n",
    "            prev = nums[0]\n",
    "            current = nums[0]\n",
    "            output = []\n",
    "            temp_number = nums[0]\n",
    "\n",
    "            for number in nums[1:]:\n",
    "                temp_number += 1\n",
    "                if number != temp_number:\n",
    "                    if prev == current:\n",
    "                        output.append(str(prev))\n",
    "                        temp_number = number\n",
    "                        prev = current = number\n",
    "                    else:\n",
    "                        output.append(str(prev) + \"->\" + str(current))\n",
    "                        temp_number = number\n",
    "                        prev = current = number\n",
    "                else:\n",
    "                    current = number\n",
    "            if prev == current:\n",
    "                output.append(str(prev))\n",
    "            else:\n",
    "                output.append(str(prev) + \"->\" + str(current))\n",
    "            return output\n",
    "        return nums\n",
    "\n",
    "# runtime: 55ms, beats 45%\n",
    "# memory: 13.9MB, beats 71%"
   ]
  },
  {
   "cell_type": "markdown",
   "metadata": {},
   "source": [
    "# 321. Power of two\n",
    "given an integer n, return true if it is a power of two. otherwise, return false.\n",
    "an integer n is a power of two, if there exists an integer x such that n == n**2"
   ]
  },
  {
   "cell_type": "code",
   "execution_count": null,
   "metadata": {},
   "outputs": [],
   "source": [
    "\n",
    "class Solution:\n",
    "  def isPowerOfTwo(self, n: int) -> bool:\n",
    "    e = 0\n",
    "    ans = 1\n",
    "    while ans <= n:\n",
    "      if ans == n:\n",
    "        return True\n",
    "      e += 1\n",
    "      ans = 2 ** e\n",
    "    return False\n",
    "  \n",
    "  # runtime: 30ms, beats 95%\n",
    "  # memory: 13.9MB, beats 53%\n",
    "  "
   ]
  },
  {
   "cell_type": "markdown",
   "metadata": {},
   "source": [
    "# 234 Palindrome linked list\n"
   ]
  },
  {
   "cell_type": "code",
   "execution_count": null,
   "metadata": {},
   "outputs": [],
   "source": [
    "# Definition for singly-linked list.\n",
    "# class ListNode:\n",
    "#     def __init__(self, val=0, next=None):\n",
    "#         self.val = val\n",
    "#         self.next = next\n",
    "class Solution:\n",
    "    def isPalindrome(self, head: Optional[ListNode]) -> bool:\n",
    "        stack = []\n",
    "        while head is not None:\n",
    "            stack.append(head.val)\n",
    "            head = head.next\n",
    "        left_index = 0\n",
    "        right_index = len(stack) - 1\n",
    "        while left_index < right_index:\n",
    "            if stack[left_index] != stack[right_index]:\n",
    "                return False\n",
    "            left_index += 1\n",
    "            right_index -= 1\n",
    "        return True\n",
    "      \n",
    "  # runtime 1876ms, beats 43%\n",
    "  # memory: 46.7MB, beats 38%\n",
    "  # O(n) time, O(n) space\n",
    "  \n",
    "  \n",
    "  # solution below is O(n) time, O(1) space\n",
    "  \n",
    "def isPalindrome(head):\n",
    "    def reverse_linked_list(node):\n",
    "        prev = None\n",
    "        while node is not None:\n",
    "            temp_node = node.next\n",
    "            node.next = prev\n",
    "            prev = node\n",
    "            node = temp_node\n",
    "        return prev\n",
    "    def find_middle_node(node):\n",
    "        fast = node\n",
    "        slow = node\n",
    "        while slow.next is not None and fast.next.next is not None:\n",
    "            slow = slow.next\n",
    "            fast = fast.next.next\n",
    "        return slow\n",
    "    reversed_list = reverse_linked_list(find_middle_node(node).next)\n",
    "    while reversed_list is not None:\n",
    "        if reversed_list.val != node.val:\n",
    "            return False\n",
    "        else:\n",
    "            reversed_list = reversed_list.next\n",
    "            node = node.next\n",
    "    return True\n",
    "\n",
    "# runtime: 1097ms, beats 68%\n",
    "# memory: 39MB, beats 78%  "
   ]
  },
  {
   "cell_type": "markdown",
   "metadata": {},
   "source": [
    "# 242. Valid anagram\n",
    "Given two strings s and t, return true if t is an anagram of s, and false otherwise.\n",
    "An Anagram is a word or phrase formed by rearranging the letters of a different word or phrase, typically using all the original letters exactly once."
   ]
  },
  {
   "cell_type": "code",
   "execution_count": null,
   "metadata": {},
   "outputs": [],
   "source": [
    "class Solution:\n",
    "    def isAnagram(self, s: str, t: str) -> bool:\n",
    "        if len(s) != len(t):\n",
    "            return False\n",
    "        arr1 = []\n",
    "        arr2 = []\n",
    "        for i in range(len(s)):\n",
    "            arr1.append(s[i])\n",
    "            arr2.append(t[i])\n",
    "        arr1.sort()\n",
    "        arr2.sort()\n",
    "        for i in range(len(arr2)):\n",
    "            if arr1[i] != arr2[i]:\n",
    "                return False\n",
    "        return True\n",
    "# runtime: 65ms, beats 73.44%\n",
    "# memory: 15MB, beats 21%"
   ]
  },
  {
   "cell_type": "markdown",
   "metadata": {},
   "source": [
    "# 257 Binary tree paths\n",
    "\n",
    "given the root of a binary tree, return all root-to-leaf paths in any order. \n",
    "a leaf is a node with no children."
   ]
  },
  {
   "cell_type": "code",
   "execution_count": null,
   "metadata": {},
   "outputs": [],
   "source": [
    "\n",
    "class Solution:\n",
    "  def binaryTreePaths(self, root: Optional[TreeNode]) -> List[str]:\n",
    "    output = []\n",
    "    tree_subset = []\n",
    "    \n",
    "    def helper(node, tree_subset):\n",
    "      while node is not None:\n",
    "        tree_subset.append(str(node.val))\n",
    "        \n",
    "        if node.left is None and node.right is None:\n",
    "          tree_subset.append(node.val)\n",
    "          if len(tree_subset) == 1:\n",
    "            output.append(\"\".join(tree_subset))\n",
    "          else:\n",
    "            output.append(\"->\".join(tree_subset))\n",
    "          \n",
    "        if node.left is not None:\n",
    "          helper(node.left, tree_subset)\n",
    "          tree_subset.pop()\n",
    "        \n",
    "        if node.right is not None:\n",
    "          helper(node.right, tree_subset)\n",
    "          tree_subset.pop()\n",
    "          \n",
    "        return output\n",
    "      \n",
    "    return helper(root, tree_subset)\n",
    "  \n",
    "  # runtime: 50ms, beats 67%\n",
    "  # memory: 14MB, beats 31%"
   ]
  },
  {
   "cell_type": "markdown",
   "metadata": {},
   "source": [
    "# 258. add digit\n",
    "Given an integer num, repeatedly add all its digits until the result has only one digit, and return it."
   ]
  },
  {
   "cell_type": "code",
   "execution_count": null,
   "metadata": {},
   "outputs": [],
   "source": [
    "\n",
    "class Solution:\n",
    "    def addDigits(self, num: int) -> int:\n",
    "        if num < 10:\n",
    "            return num\n",
    "        \n",
    "        num = str(num)\n",
    "\n",
    "        while len(num) > 1:\n",
    "            arr = []\n",
    "            for number in num:\n",
    "                arr.append(int(number))\n",
    "            \n",
    "            total = 0\n",
    "            for number in arr:\n",
    "                total += number\n",
    "            num = str(total)\n",
    "        return int(num)\n",
    "\n",
    "# runtime: 43ms, beats 73% \n",
    "# memory: 13MB, beats 96%"
   ]
  },
  {
   "cell_type": "markdown",
   "metadata": {},
   "source": [
    "# 263. Ugly number\n",
    "An ugly number is a positive integer whose prime factors are limited to 2, 3, and 5.\n",
    "Given an integer n, return true if n is an ugly number."
   ]
  },
  {
   "cell_type": "code",
   "execution_count": null,
   "metadata": {},
   "outputs": [],
   "source": [
    "# 263. Ugly number\n",
    "\n",
    "class Solution:\n",
    "    def isUgly(self, n: int) -> bool:\n",
    "        if n == 0:\n",
    "            return False\n",
    "        while n != 1:\n",
    "            if n % 2 == 0:\n",
    "                n = n // 2\n",
    "            elif n % 3 == 0:\n",
    "                n = n // 3\n",
    "            elif n % 5 == 0:\n",
    "                n = n // 5\n",
    "            else:\n",
    "                return False\n",
    "        return True\n",
    "\n",
    "# runtime: 40ms, beats 80%\n",
    "# memory: 13MB, beats 12%"
   ]
  },
  {
   "cell_type": "markdown",
   "metadata": {},
   "source": [
    "# 268. Missing number\n",
    "Given an array nums containing n distinct numbers in the range [0, n], return the only number in the range that is missing from the array."
   ]
  },
  {
   "cell_type": "code",
   "execution_count": null,
   "metadata": {},
   "outputs": [],
   "source": [
    "# 268. Missing number\n",
    "\n",
    "class Solution:\n",
    "    def missingNumber(self, nums: List[int]) -> int:\n",
    "        set_nums = set(nums)\n",
    "        for number in range(len(set_nums) + 1):\n",
    "            if number not in set_nums:\n",
    "                return number\n",
    "              \n",
    "# runtime: 134ms, beats 95%\n",
    "# memory: 15MB, beats 8%"
   ]
  },
  {
   "cell_type": "markdown",
   "metadata": {},
   "source": []
  },
  {
   "cell_type": "code",
   "execution_count": null,
   "metadata": {},
   "outputs": [],
   "source": [
    "# 278. First Bad Version \n",
    "\"\"\"Need to solve \"\"\"\n",
    "\n",
    "# You are a product manager and currently leading a team to develop a new product. \n",
    "# Unfortunately, the latest version of your product fails the quality check.\n",
    "# Since each version is developed based on the previous version, all the versions after a bad version are also bad.\n",
    "\n",
    "# Suppose you have n versions [1, 2, ..., n] and you want to find out the first bad one, which causes all the following ones to be bad.\n",
    "\n",
    "# You are given an API bool isBadVersion(version) which returns whether version is bad.\n",
    "# Implement a function to find the first bad version. You should minimize the number of calls to the API.\n",
    "\n",
    "\n",
    "# we need to use binary search to find the first bad version.\n",
    "class Solution:\n",
    "    def firstBadVersion(self, n: int) -> int:\n",
    "        left = 1\n",
    "        right = n\n",
    "        while left < right:\n",
    "            middle = left + (right - left) // 2\n",
    "            if isBadVersion(middle):\n",
    "                if isBadVersion(middle - 1) == False:\n",
    "                    return middle\n",
    "                right = middle\n",
    "            else:\n",
    "                if isBadVersion(middle + 1):\n",
    "                    return middle + 1\n",
    "                left = middle + 1\n",
    "        return left\n",
    "\n",
    "# runtime: 29ms, beats 94%\n",
    "# memory: 13.7MB, beats 97%"
   ]
  },
  {
   "cell_type": "markdown",
   "metadata": {},
   "source": [
    "# .283 Move Zeroes\n",
    "Given an integer array nums, move all 0's to the end of it while maintaining the relative order of the non-zero elements.\n",
    "\n",
    "Note that you must do this in-place without making a copy of the array.\n"
   ]
  },
  {
   "cell_type": "code",
   "execution_count": null,
   "metadata": {},
   "outputs": [],
   "source": [
    "# .283 Move Zeroes\n",
    "\n",
    "def moveZeroes(self, nums: List[int]) -> None:\n",
    "    \"\"\"\n",
    "    Do not return anything, modify nums in-place instead.\n",
    "    \"\"\"\n",
    "    if len(nums) > 1:\n",
    "        index = 0\n",
    "        while index < len(nums):\n",
    "            if nums[index] == 0:\n",
    "                for replacement in range(index + 1, len(nums)):\n",
    "                    if nums[replacement] != 0:\n",
    "                        nums[index], nums[replacement] = nums[replacement], nums[index]\n",
    "                        break\n",
    "            index += 1\n",
    "                \n",
    "# really slow solution, will improve later\n",
    "# runtime: 3344ms, beats 5%\n",
    "# memory: 15.5MB, beats 95%\n",
    "\n",
    "\n",
    "def moveZeroes(self, nums: List[int]) -> None:\n",
    "    \"\"\"\n",
    "    Do not return anything, modify nums in-place instead.\n",
    "    \"\"\"\n",
    "    if len(nums) > 1:\n",
    "        index = -1\n",
    "        nums_len = len(nums)\n",
    "        while nums_len + index >= 0:\n",
    "            if nums[nums_len + index] == 0:\n",
    "                temp = nums.pop(nums_len + index)\n",
    "                nums.append(temp)\n",
    "            index -= 1\n",
    "\n",
    "# runtime: 183ms, beats 81%\n",
    "# memory: 15MB, beats 65%"
   ]
  },
  {
   "cell_type": "markdown",
   "metadata": {},
   "source": [
    "# 303. Range Sum Query - Immutable\n",
    "\n",
    "Given an integer array nums, handle multiple queries of the following type:\n",
    "\n",
    "Calculate the sum of the elements of nums between indices left and right inclusive where left <= right.\n",
    "Implement the NumArray class:\n",
    "\n",
    "NumArray(int[] nums) Initializes the object with the integer array nums.\n",
    "int sumRange(int left, int right)\n",
    "Returns the sum of the elements of nums between indices left and right inclusive (i.e. nums[left] + nums[left + 1] + ... + nums[right]).\n"
   ]
  },
  {
   "cell_type": "code",
   "execution_count": null,
   "metadata": {},
   "outputs": [],
   "source": [
    "# 303. Range Sum Query - Immutable\n",
    "\n",
    "class NumArray:\n",
    "    def __init__(self, nums: List[int]):\n",
    "        self.numArray = nums\n",
    "\n",
    "    def sumRange(self, left: int, right: int) -> int:\n",
    "        if left <= right:\n",
    "            return sum(self.numArray[left : right + 1])\n",
    "\n",
    "# runtime: 1171ms, beats 31%\n",
    "# memory: 17MB, beats 85%"
   ]
  },
  {
   "cell_type": "markdown",
   "metadata": {},
   "source": [
    "# 326. Power of Three\n",
    "\n",
    "Given an integer n, return true if it is a power of three. Otherwise, return false.\n",
    "\n",
    "An integer n is a power of three, if there exists an integer x such that n == 3x."
   ]
  },
  {
   "cell_type": "code",
   "execution_count": null,
   "metadata": {},
   "outputs": [],
   "source": [
    "# 326. Power of Three\n",
    "\n",
    "class Solution:\n",
    "  def isPowerOfThree(self, n: int) -> bool:\n",
    "    if n >= 1:\n",
    "      exponent = 0\n",
    "      while 3 ** exponent <= n:\n",
    "        if 3 ** exponent == n:\n",
    "          return True\n",
    "        exponent += 1\n",
    "      return False\n",
    "    return False\n",
    "# runtime: 182 ms, beats 38%\n",
    "# memory: 13MB, beats 59%\n",
    "\n",
    "\"\"\"will come up with O(log(n)) runtime solution\"\"\""
   ]
  },
  {
   "cell_type": "markdown",
   "metadata": {},
   "source": [
    "# 338. Counting Bits\n",
    "\n",
    "Given an integer n, return an array ans of length n + 1 such that for each i (0 <= i <= n)\n",
    "ans[i] is the number of 1's in the binary representation of i."
   ]
  },
  {
   "cell_type": "code",
   "execution_count": null,
   "metadata": {},
   "outputs": [],
   "source": [
    "# 338. Counting Bits\n",
    "\n",
    "class Solution:\n",
    "  def countBits(self, n: int) -> List[int]:\n",
    "    output = []\n",
    "    for number in range(n + 1):\n",
    "      count = 0\n",
    "      for binary in bin(number)[2:]:\n",
    "        if binary == \"1\":\n",
    "          count += 1\n",
    "      output.append(count)\n",
    "    return output \n",
    "\n",
    "# or \n",
    "\n",
    "class Solution:\n",
    "  def countBits(self, n: int) -> List[int]:\n",
    "    output = []\n",
    "    for number in range(n + 1):\n",
    "      output.append(int(bin(number)[2:].count(\"1\")))\n",
    "    return output \n",
    "\n",
    "# O(n^2)\n",
    "# runtime: 109ms, beats 76%\n",
    "# memory: 20MB, beast 77%"
   ]
  },
  {
   "cell_type": "markdown",
   "metadata": {},
   "source": [
    "# 344. Reverse string\n",
    "Write a function that reverses a string. The input string is given as an array of characters s.\n",
    "\n",
    "You must do this by modifying the input array in-place with O(1) extra memory."
   ]
  },
  {
   "cell_type": "code",
   "execution_count": null,
   "metadata": {},
   "outputs": [],
   "source": [
    "# 344. Reverse string\n",
    "class Solution:\n",
    "    def reverseString(self, s: List[str]) -> None:\n",
    "        \"\"\"\n",
    "        Do not return anything, modify s in-place instead.\n",
    "        \"\"\"\n",
    "        left = 0\n",
    "        right = len(s) - 1\n",
    "        while left < right:\n",
    "            s[left], s[right] = s[right], s[left]\n",
    "            left += 1\n",
    "            right -= 1\n",
    "\n",
    "\n",
    "# runtime: 203ms, beats 91%\n",
    "# memory: 18MB, beats 41%"
   ]
  },
  {
   "cell_type": "markdown",
   "metadata": {},
   "source": [
    "# 345. Reverse Vowels of a String\n",
    "Given a string s, reverse only all the vowels in the string and return it.\n",
    "The vowels are 'a', 'e', 'i', 'o', and 'u', and they can appear in both lower and upper cases, more than once."
   ]
  },
  {
   "cell_type": "code",
   "execution_count": null,
   "metadata": {},
   "outputs": [],
   "source": [
    "# 345. Reverse Vowels of a String\n",
    "\n",
    "class Solution:\n",
    "    def reverseVowels(self, s: str) -> str:\n",
    "        bag = {\"a\", \"e\", \"i\", \"o\", \"u\", \"A\", \"E\", \"I\", \"O\", \"U\"}\n",
    "        s = [*s]\n",
    "        left = 0\n",
    "        right = len(s) - 1\n",
    "\n",
    "        while left < right:\n",
    "            if s[left] in bag and s[right] in bag:\n",
    "                s[left], s[right] = s[right], s[left]\n",
    "                left += 1\n",
    "                right -= 1\n",
    "            else:\n",
    "                if s[left] in bag and s[right] not in bag:\n",
    "                    right -= 1\n",
    "                elif s[left] not in bag and s[right] in bag:\n",
    "                    left += 1\n",
    "                else:\n",
    "                    left += 1\n",
    "                    right -= 1\n",
    "        s = \"\".join(s)\n",
    "        return s\n",
    "\n",
    "# runtime: 48ms, beats 97%\n",
    "# memory: 15MB, beats 82%"
   ]
  },
  {
   "cell_type": "markdown",
   "metadata": {},
   "source": [
    "# 349. Intersection of two arrays\n",
    "Given two integer arrays nums1 and nums2, return an array of their intersection.\n",
    "Each element in the result must be unique and you may return the result in any order.\n"
   ]
  },
  {
   "cell_type": "code",
   "execution_count": null,
   "metadata": {},
   "outputs": [],
   "source": [
    "# 349. Intersection of two arrays\n",
    "\n",
    "class Solution:\n",
    "    def intersection(self, nums1: List[int], nums2: List[int]) -> List[int]:\n",
    "        return set(nums1) & set(nums2)\n",
    "      \n",
    "# runtime: 48ms, beasts 91%\n",
    "# memory: 14.1, beats 24%\n",
    "# O(n) runtime, O(1) being that "
   ]
  },
  {
   "cell_type": "markdown",
   "metadata": {},
   "source": [
    "# 367. Valid Perfect Square\n",
    "\n",
    "Given a positive integer num, return true if num is a perfect square or false otherwise.\n",
    "A perfect square is an integer that is the square of an integer. \n",
    "In other words, it is the product of some integer with itself.\n",
    "You must not use any built-in library function, such as sqrt."
   ]
  },
  {
   "cell_type": "code",
   "execution_count": null,
   "metadata": {},
   "outputs": [],
   "source": [
    "# 367. Valid Perfect Square\n",
    "\n",
    "class Solution:\n",
    "    def isPerfectSquare(self, num: int) -> bool:\n",
    "        if num <= 121:\n",
    "            for i in range(1, 13):\n",
    "                if i ** 2 == num:\n",
    "                    return i\n",
    "            return False\n",
    "        elif num <= 10000: \n",
    "            for i in range(13, 101):\n",
    "                if i ** 2 == num:\n",
    "                    return i\n",
    "\n",
    "            return False\n",
    "        elif num <= 1000000:\n",
    "            for i in range(13, 1001):\n",
    "                if i ** 2 == num: \n",
    "                    return i\n",
    "            return False\n",
    "        elif num <= 100000000:\n",
    "            for i in range(1001, 10001):\n",
    "                if i ** 2 == num: \n",
    "                    return i\n",
    "            return False\n",
    "        elif num <= 10000000000:\n",
    "            for i in range(10001, 100001):\n",
    "                if i ** 2 == num:\n",
    "                    return i\n",
    "            return False\n",
    "        else:\n",
    "            for i in range(100001, 100000000):\n",
    "                if i ** 2 == num:\n",
    "                    return i\n",
    "            return False\n",
    "  # runtime: 79ms, beats 12%\n",
    "  # memory: 13MB, beats 10%\n",
    "  \n",
    "  \n",
    "  # O(log(n)) time | O(1) space\n",
    "  \n",
    "class Solution:\n",
    "    def isPerfectSquare(self, num: int) -> bool:\n",
    "        if num == 1:\n",
    "            return True\n",
    "        left = 1\n",
    "        right = num\n",
    "        while left < right:\n",
    "            middle = left + (right - left) // 2\n",
    "\n",
    "            if middle ** 2 == num:\n",
    "                return middle\n",
    "            elif middle ** 2 > num:\n",
    "                right = middle\n",
    "            else:\n",
    "                left = middle + 1\n",
    "        return False\n",
    "\n",
    "# runtime: 27ms, beats 96%\n",
    "# memory: 13MB, beats 56%    "
   ]
  },
  {
   "cell_type": "markdown",
   "metadata": {},
   "source": [
    "# 412. FizzBuzz\n",
    "Given an integer n, return a string array answer (1-indexed) where:\n",
    "\n",
    "answer[i] == \"FizzBuzz\" if i is divisible by 3 and 5.\n",
    "answer[i] == \"Fizz\" if i is divisible by 3.\n",
    "answer[i] == \"Buzz\" if i is divisible by 5.\n",
    "answer[i] == i (as a string) if none of the above conditions are true."
   ]
  },
  {
   "cell_type": "code",
   "execution_count": null,
   "metadata": {},
   "outputs": [],
   "source": [
    "# 412. FizzBuzz\n",
    "\n",
    "class Solution:\n",
    "    def fizzBuzz(self, n: int) -> List[str]:\n",
    "        answer = []\n",
    "        for i in range(1, n+1):\n",
    "            if i % 3 == 0 and i % 5 == 0:\n",
    "                answer.append(\"FizzBuzz\")\n",
    "            elif i % 3 == 0:\n",
    "                answer.append(\"Fizz\")\n",
    "            elif i % 5 == 0:\n",
    "                answer.append(\"Buzz\")\n",
    "            else:\n",
    "                answer.append(str(i))\n",
    "        return answer\n",
    "\n",
    "# runtime: 44ms, beats 87%\n",
    "# memory: 15MB, beats 41%\n",
    "# O(N) time, O(N) space"
   ]
  },
  {
   "cell_type": "markdown",
   "metadata": {},
   "source": [
    "# 977. Squares of a Sorted Array\n",
    "\n",
    "Given an integer array nums sorted in non-decreasing order, return an array of the squares of each number sorted in non-decreasing order."
   ]
  },
  {
   "cell_type": "code",
   "execution_count": null,
   "metadata": {},
   "outputs": [],
   "source": [
    "# 977. Squares of a Sorted Array\n",
    "\n",
    "class Solution:\n",
    "    def sortedSquares(self, nums: List[int]) -> List[int]:\n",
    "        # use two pointers, one at index = 0 and index = n - 1\n",
    "        # compare each number:\n",
    "        # the greater number will be added and index will be subtracted or incremented\n",
    "        # until indexes cross\n",
    "\n",
    "        left = 0\n",
    "        right = len(nums) - 1\n",
    "        output = []\n",
    "        while left <= right:\n",
    "            if nums[right] ** 2 >= nums[left] ** 2:\n",
    "                output.append(nums[right] ** 2)\n",
    "                right -= 1\n",
    "            else:\n",
    "                output.append(nums[left] ** 2)\n",
    "                left += 1\n",
    "        return output[::-1]\n",
    "      \n",
    "      \n",
    "# time O(n), space O(n)\n",
    "\n",
    "#runtime: 286ms, beats 63%\n",
    "# memory: 16MB, beats 80%"
   ]
  },
  {
   "cell_type": "markdown",
   "metadata": {},
   "source": [
    "# 243. Shortest Word Distance\n",
    "Given an array of strings wordsDict and two different strings that already exist in the array word1 and word2, return the shortest distance between these two words in the list."
   ]
  },
  {
   "cell_type": "code",
   "execution_count": null,
   "metadata": {},
   "outputs": [],
   "source": [
    "# 243. Shortest Word Distance\n",
    "\n",
    "class Solution:\n",
    "    def shortestDistance(self, wordsDict: List[str], word1: str, word2: str) -> int:\n",
    "        left = None\n",
    "        left_index = None\n",
    "        output = len(wordsDict)\n",
    "        for i in range(len(wordsDict)):\n",
    "            if wordsDict[i] == word1 or wordsDict[i] == word2:\n",
    "                if left is None:\n",
    "                    left = wordsDict[i]\n",
    "                    left_index = i\n",
    "                else:\n",
    "                    if wordsDict[i] != left:\n",
    "                        output = min(output, abs(i - left_index))\n",
    "                        if output <= 1:\n",
    "                            return 1\n",
    "                        left = wordsDict[i]\n",
    "                        left_index = i\n",
    "                    else:\n",
    "                        left_index = i\n",
    "        return output\n",
    "      \n",
    "# Time O(N), Space O(1)\n",
    "# runtime: 66ms, beats 90% of submissions"
   ]
  },
  {
   "cell_type": "markdown",
   "metadata": {},
   "source": [
    "# 252. Meeting Rooms\n",
    "Given an array of meeting time intervals where intervals[i] = [starti, endi], determine if a person could attend all meetings."
   ]
  },
  {
   "cell_type": "code",
   "execution_count": null,
   "metadata": {},
   "outputs": [],
   "source": [
    "# 252. Meeting Rooms\n",
    "class Solution:\n",
    "    def canAttendMeetings(self, intervals: List[List[int]]) -> bool:\n",
    "        if len(intervals) > 1:\n",
    "            intervals.sort(key=lambda x:x[0])\n",
    "            print(intervals)\n",
    "            minimum = intervals[0][0]\n",
    "            maximum = intervals[0][1]\n",
    "            for interval in intervals[1:]:\n",
    "                if minimum > interval[0]:\n",
    "                    return False\n",
    "                if maximum > interval[0]:\n",
    "                    return False\n",
    "                minimum = interval[0]\n",
    "                maximum = interval[1]\n",
    "            return True\n",
    "        return True\n",
    "      \n",
    "# Time O(log(n) * N), Space (1)\n",
    "# runtime: 96ms, beats 52%\n",
    "\n",
    "class Solution:\n",
    "    def canAttendMeetings(self, intervals: List[List[int]]) -> bool:\n",
    "        if len(intervals) > 1:\n",
    "            intervals.sort(key=lambda x:x[0])\n",
    "            maximum = intervals[0][1]\n",
    "            for interval in intervals[1:]:\n",
    "                if maximum > interval[0]:\n",
    "                    return False\n",
    "                maximum = interval[1]\n",
    "            return True\n",
    "        return True\n",
    "      \n",
    "# Time O(N log(N)), Space O(1)\n",
    "# runtime: 76ms, beats 90%\n",
    "\n",
    "class Solution:\n",
    "    def canAttendMeetings(self, intervals: List[List[int]]) -> bool:\n",
    "        intervals.sort()\n",
    "        for i in range(len(intervals) - 1):\n",
    "            if intervals[i][1] > intervals[i + 1][0]:\n",
    "                return False\n",
    "        return True\n",
    "# Time O(N log(N)) Space O(1)"
   ]
  },
  {
   "cell_type": "markdown",
   "metadata": {},
   "source": [
    "# 266. Palindrome Permutation\n",
    "Given a string s, return true if a permutation of the string could form a \n",
    "palindrome and false otherwise."
   ]
  },
  {
   "cell_type": "code",
   "execution_count": null,
   "metadata": {},
   "outputs": [],
   "source": [
    "# 266. Palindrome Permutation\n",
    "class Solution:\n",
    "    def canPermutePalindrome(self, s: str) -> bool:\n",
    "        bag = set()\n",
    "        for ltr in s:\n",
    "            if ltr not in bag:\n",
    "                bag.add(ltr)\n",
    "            else:\n",
    "                bag.remove(ltr)\n",
    "        if len(bag) < 2:\n",
    "            return True\n",
    "        return False\n",
    "\n",
    "# Time O(N) # Space O(N)"
   ]
  },
  {
   "cell_type": "markdown",
   "metadata": {},
   "source": [
    "# 270. Closest Binary Search Tree Value\n",
    "\n",
    "Given the root of a binary search tree and a target value, return the value in the BST that is closest to the target.\n",
    "\n",
    "Definition for a binary tree node.\n",
    "class TreeNode:\n",
    "    def __init__(self, val=0, left=None, right=None):\n",
    "        self.val = val\n",
    "        self.left = left\n",
    "        self.right = right"
   ]
  },
  {
   "cell_type": "code",
   "execution_count": null,
   "metadata": {},
   "outputs": [],
   "source": [
    "# 270. Closest Binary Search Tree Value\n",
    "\n",
    "class Solution:\n",
    "    def closestValue(self, root: Optional[TreeNode], target: float) -> int:\n",
    "        if root is not None:\n",
    "            stack = [root]\n",
    "            difference = root.val + target\n",
    "            output = root.val\n",
    "            while stack != []:\n",
    "                node = stack.pop(0)\n",
    "                if abs(node.val - target) < difference:\n",
    "                    difference = abs(node.val - target)\n",
    "                    output = node.val\n",
    "                if node.left is not None:\n",
    "                    stack.append(node.left)\n",
    "                if node.right is not None:\n",
    "                    stack.append(node.right)\n",
    "            return output\n",
    "          \n",
    "  # Time O(N), Space(1)"
   ]
  },
  {
   "cell_type": "markdown",
   "metadata": {},
   "source": [
    "# 346. Moving Average ffrom Data Stream\n",
    "\n",
    "given a stream of integers and a window size, calculate the moving average of all integers in the sliding window\n",
    "implement the MovingAverage class:\n",
    "\n",
    "MovingAverage(int size) Initializes the object with the size of the window size.\n",
    "double next(int val) Returns the moving average of the last size values of the stream.\n"
   ]
  },
  {
   "cell_type": "code",
   "execution_count": null,
   "metadata": {},
   "outputs": [],
   "source": [
    "# 346. Moving Average ffrom Data Stream\n",
    "\n",
    "class MovingAverage:\n",
    "  def __init__(self, size: int):\n",
    "    self.arr = []\n",
    "    self.size = size\n",
    "    self.current_size = 0\n",
    "  def next(self, val:int) -> float:\n",
    "    self.arr.append(val)\n",
    "    self.current_size += 1\n",
    "    if self.current_size > self.size:\n",
    "      return sum(self.arr[self.current_size - self.size:]) / self.size\n",
    "    else: \n",
    "      return sum(self.arr) / self.current_size\n",
    "    \n",
    "    \n",
    "# Time O(N), Space O(N)"
   ]
  },
  {
   "cell_type": "markdown",
   "metadata": {},
   "source": [
    "# 422. Valid Word Square\n",
    " Given an array of strings words, return True if it forms a valid word square a sequence of strings froms a valid word square if the kth row and column read the same string, where 0 <= k < max(rows, columns)"
   ]
  },
  {
   "cell_type": "code",
   "execution_count": null,
   "metadata": {},
   "outputs": [],
   "source": [
    "# 422. Valid Word Square\n",
    "\n",
    "class Solution:\n",
    "  def validWordSquare(self, words: List[str]) -> bool:\n",
    "    arr_len = len(words)\n",
    "    for row in range(len(words)):\n",
    "      for col in range(len(words[row])):\n",
    "        if col >= arr_len or row >= len(words[col]) or words[row][col] != words[col][row]:\n",
    "          return False\n",
    "    return True\n",
    "  \n",
    "  # Time O(N M), Space O(1)"
   ]
  },
  {
   "cell_type": "markdown",
   "metadata": {},
   "source": [
    "# 1929. Concateantion of array\n",
    "\n",
    "given an integer array nums of length n, you want to craete an array ans of length 2n\n",
    "where ans[i] == nums[i] and ans[i + n] == nums[i] for 0 <= i < n (0-indexed)\n",
    "specifically, ans is the concatenation of two nums arrays.a\n",
    "return the array ans"
   ]
  },
  {
   "cell_type": "code",
   "execution_count": null,
   "metadata": {},
   "outputs": [],
   "source": [
    "# 1929. Concateantion of array\n",
    "\n",
    "class Solution:\n",
    "  def getConcatenation(self, nums:List[int]) -> List[int]:\n",
    "    return nums * 2\n",
    "\n",
    "# Time O(N), Space O(1)\n",
    "# runtime: 84ms, beats 90%"
   ]
  },
  {
   "cell_type": "markdown",
   "metadata": {},
   "source": [
    "# .1920 Build Array from Permutation\n",
    "\n",
    "Given a zero-based permutation nums (0-indexed), build an array ans of the same length where ans[i] = nums[nums[i]] for each 0 <= i < nums.length and return it.\n",
    "\n",
    "A zero-based permutation nums is an array of distinct integers from 0 to nums.length - 1 (inclusive)."
   ]
  },
  {
   "cell_type": "code",
   "execution_count": null,
   "metadata": {},
   "outputs": [],
   "source": [
    "# .1920 Build Array from Permutation\n",
    "\n",
    "class Solution:\n",
    "  def buildArray(self, nums: List[int]) -> List[int]:\n",
    "    output = []\n",
    "    for i in range(len(nums)):\n",
    "      output.append(nums[nums[i]])\n",
    "    return output"
   ]
  },
  {
   "cell_type": "markdown",
   "metadata": {},
   "source": [
    "# 1119. Remove Vowels from string\n",
    "\n",
    "Given a string s, remove the vowels from it, and return the string"
   ]
  },
  {
   "cell_type": "code",
   "execution_count": null,
   "metadata": {},
   "outputs": [],
   "source": [
    "# 1119. Remove Vowels from string\n",
    "\n",
    "class Solution:\n",
    "  def removeVowels(self, s: str) -> str:\n",
    "    bag = {'a','e','i','o','u'}\n",
    "    output = []\n",
    "    for char in s:\n",
    "      if char not in bag:\n",
    "        output.append(char)\n",
    "    return \"\".join(output)\n",
    "# Time O(N), Space O(1)"
   ]
  },
  {
   "cell_type": "markdown",
   "metadata": {},
   "source": [
    "# 2535. Difference between element sum and digit sum of an array\n",
    "You are given a positive integer array nums.\n",
    "\n",
    "The element sum is the sum of all the elements in nums.\n",
    "The digit sum is the sum of all the digits (not necessarily distinct) that appear in nums.\n",
    "Return the absolute difference between the element sum and digit sum of nums.\n",
    "\n",
    "Note that the absolute difference between two integers x and y is defined as |x - y|."
   ]
  },
  {
   "cell_type": "code",
   "execution_count": null,
   "metadata": {},
   "outputs": [],
   "source": [
    "# 2535. Difference between element sum and digit sum of an array\n",
    "\n",
    "class Solution:\n",
    "  def difference(self, nums: List[int]) -> int:\n",
    "    string = []\n",
    "    for n in nums:\n",
    "      string.append(str(n))\n",
    "      \n",
    "    temp = \"\".join(string)\n",
    "    digit = 0\n",
    "    for i in temp:\n",
    "      digit += int(i)\n",
    "      \n",
    "    return abs(sum(nums) - digit)"
   ]
  },
  {
   "cell_type": "markdown",
   "metadata": {},
   "source": [
    "# 1108. Defanging an IP address"
   ]
  },
  {
   "cell_type": "code",
   "execution_count": null,
   "metadata": {},
   "outputs": [],
   "source": [
    "# .1108 Defanging an IP address\n",
    "class Solution:\n",
    "  def defangIpaddr(self, address: str) -> str:\n",
    "    output = []\n",
    "    for char in address:\n",
    "      if char == \".\":\n",
    "        output.append(\"[\")\n",
    "        output.append(char)\n",
    "        output.append(\"]\")\n",
    "    return \"\".join(output)\n",
    "# Time O(N), Space O(1)"
   ]
  },
  {
   "cell_type": "markdown",
   "metadata": {},
   "source": [
    "# 2235. Add two integers"
   ]
  },
  {
   "cell_type": "code",
   "execution_count": null,
   "metadata": {},
   "outputs": [],
   "source": [
    "# 2235. Add two integers\n",
    "class Solution:\n",
    "  def sum(self, num1: int, num2: int) -> int:\n",
    "    return num1 + num2\n",
    "# Time O(1), Space O(1)"
   ]
  },
  {
   "cell_type": "markdown",
   "metadata": {},
   "source": [
    "# 2011. Final Value of Variable After performing Operations\n",
    "There is a programming language with only four operations and one variable X:\n",
    "\n",
    "++X and X++ increments the value of the variable X by 1.\n",
    "\n",
    "--X and X-- decrements the value of the variable X by 1.\n",
    "\n",
    "Initially, the value of X is 0.\n",
    "\n",
    "Given an array of strings operations containing a list of operations, return the final value of X after performing all the operations.\n"
   ]
  },
  {
   "cell_type": "code",
   "execution_count": null,
   "metadata": {},
   "outputs": [],
   "source": [
    "# 2011. Final Value of Variable After performing Operations\n",
    "\n",
    "class Solution:\n",
    "  def finalValueAfterOperations(self, operations: List[str]) -> int:\n",
    "    op = 0\n",
    "    for char in operations:\n",
    "      if char == \"--X\" or char == \"X--\":\n",
    "        op -= 1\n",
    "      elif char == \"++X\" or char == \"X++\":\n",
    "        op += 1\n",
    "    return op\n",
    "  \n",
    "# Time O(N), space O(1)"
   ]
  },
  {
   "cell_type": "markdown",
   "metadata": {},
   "source": [
    "# 1480. Running Sum of 1d array\n",
    "\n",
    "Given an array nums. We define a running sum of an array as runningSum[i] = sum(nums[0]...nums[i]).\n",
    "\n",
    "return the running sum of nums"
   ]
  },
  {
   "cell_type": "code",
   "execution_count": null,
   "metadata": {},
   "outputs": [],
   "source": [
    "# 1480. Running Sum of 1d array\n",
    "\n",
    "class Solution:\n",
    "  def runningSum(self, nums: List[int]) -> List[int]:\n",
    "    for i in range(1,len(nums)):\n",
    "      nums[i] += nums[i-1]\n",
    "    return nums\n",
    "# Time O(N), Space O(1)"
   ]
  },
  {
   "cell_type": "markdown",
   "metadata": {},
   "source": [
    "# 1470. Shuffle the array"
   ]
  },
  {
   "cell_type": "code",
   "execution_count": null,
   "metadata": {},
   "outputs": [],
   "source": [
    "# 1470. Shuffle the array\n",
    "class Solution:\n",
    "  def shuffle(self, nums: List[int]) -> list[int]:\n",
    "    left = 1\n",
    "    for i in range(n,len(nums)):\n",
    "      temp = left\n",
    "      while left != i:\n",
    "        nums[i], nums[temp] = nums[temp], nums[i]\n",
    "        temp += 1\n",
    "      left += 2\n",
    "    return nums\n",
    "  \n",
    "# Time O(N^2), Space O(1)\n",
    "\n",
    "class Solution:\n",
    "  def shuffle(self, nums: List[int]) -> List[int]:\n",
    "    op = []\n",
    "    for i in range(n, len(nums)):\n",
    "      op.append(nums[i-n])\n",
    "      op.append(nums[i])\n",
    "    return op\n",
    "\n",
    "# Time O(N), Space O(N)\n",
    "# Runtime: 56ms, beats 97%"
   ]
  },
  {
   "cell_type": "markdown",
   "metadata": {},
   "source": [
    "# 1512. Number of Good pairs\n",
    "\n",
    "Given an array of integers nums, return the number of good pairs.\n",
    "\n",
    "A pair (i, j) is called good if nums[i] == nums[j] and i < j.\n"
   ]
  },
  {
   "cell_type": "code",
   "execution_count": null,
   "metadata": {},
   "outputs": [],
   "source": [
    "# 1512. Number of Good pairs\n",
    "\n",
    "class SOlution:\n",
    "  def numIdenticalPairs(self, nums: List[int]) -> int:\n",
    "    op = 0\n",
    "    for i in range(len(nums)):\n",
    "      for j in range( i+1, len(nums)):\n",
    "        if nums[i] == nums[j]:\n",
    "          op += 1\n",
    "    return op\n",
    "# Time O(N^2), Space O(1)"
   ]
  },
  {
   "cell_type": "markdown",
   "metadata": {},
   "source": [
    "# 771. Jewels and Stones"
   ]
  },
  {
   "cell_type": "code",
   "execution_count": null,
   "metadata": {},
   "outputs": [],
   "source": [
    "# 771. Jewels and Stones\n",
    "\n",
    "class Solution:\n",
    "  def numJewelsInStones(self, jewels: str, stones: str) -> int:\n",
    "    cache = dict()\n",
    "    for jewel in jewels:\n",
    "      if jewel not in cache:\n",
    "        cache[jewel] = 0\n",
    "      \n",
    "    for stone in stones:\n",
    "      if stone in cache:\n",
    "        cache[stone] += 1\n",
    "    \n",
    "    return sum(cache.values())\n",
    "\n",
    "# Time O(N), Space O(N) number of distinct jewels\n",
    "# Runtime: 32ms, beats 81%"
   ]
  },
  {
   "cell_type": "markdown",
   "metadata": {},
   "source": [
    "# 1672. Richest Customer Wealth"
   ]
  },
  {
   "cell_type": "code",
   "execution_count": null,
   "metadata": {},
   "outputs": [],
   "source": [
    "# 1672. Richest Customer Wealth\n",
    "\n",
    "class Solution:\n",
    "  def maximumWealth(self, accounts: List[List[int]]) -> int:\n",
    "    op = 0\n",
    "    for i in range(len(accounts)):\n",
    "      op = max(sum(accounts[i]),op)\n",
    "    return op\n",
    "  \n",
    "# Time O(N), Space O(1)"
   ]
  },
  {
   "cell_type": "markdown",
   "metadata": {},
   "source": [
    "# 1603. Design Parking System"
   ]
  },
  {
   "cell_type": "code",
   "execution_count": null,
   "metadata": {},
   "outputs": [],
   "source": [
    "# 1603. Design Parking System\n",
    "\n",
    "class ParkingSystem:\n",
    "  def __init__(self, big: int, medium: int, small: int):\n",
    "    self.big = big\n",
    "    self.medium = medium\n",
    "    self.small = small\n",
    "    \n",
    "  def addCar(self, catType: int) -> bool:\n",
    "    if carType == 1:\n",
    "      if self.big > 0:\n",
    "        self.big -= 1\n",
    "        return True\n",
    "      return False\n",
    "    elif carType == 2:\n",
    "      if self.medium > 0:\n",
    "        self.medium -= 1\n",
    "        return True\n",
    "      return False\n",
    "    else:\n",
    "      if self.small > 0:\n",
    "        self.small -= 1\n",
    "        return True\n",
    "      return False\n",
    "    \n",
    "# Time O(N), Space O(1)"
   ]
  },
  {
   "cell_type": "markdown",
   "metadata": {},
   "source": [
    "# 2114. maximum Number of Words Found in Sentences"
   ]
  },
  {
   "cell_type": "code",
   "execution_count": null,
   "metadata": {},
   "outputs": [],
   "source": [
    "# 2114. maximum Number of Words Found in Sentences\n",
    "\n",
    "class Solution:\n",
    "  def mostWordsFound(self, sentences: List[str]) -> int:\n",
    "    op = 0\n",
    "    for sentence in sentences:\n",
    "      temp = sentences.split(\" \")\n",
    "      op = max(op, len(temp))\n",
    "    return op\n",
    "  \n",
    "# Time O(N), Space O(1)"
   ]
  },
  {
   "cell_type": "markdown",
   "metadata": {},
   "source": [
    "# 2413. Smallest Even Multiple"
   ]
  },
  {
   "cell_type": "code",
   "execution_count": null,
   "metadata": {},
   "outputs": [],
   "source": [
    "# 2413. Smallest Even Multiple\n",
    "\n",
    "class Solution:\n",
    "  def smallestEvenMultiple(self, n: int) -> int:\n",
    "    if n % 2 == 1:\n",
    "      while n % 2 == 1:\n",
    "        n = n * 2\n",
    "      return n\n",
    "    return n\n",
    "\n",
    "# Time O(log(N)), Space O(1)"
   ]
  },
  {
   "cell_type": "markdown",
   "metadata": {},
   "source": [
    "# 2160. Minimum Sum of Four digit Number After Splitting Digits"
   ]
  },
  {
   "cell_type": "code",
   "execution_count": null,
   "metadata": {},
   "outputs": [],
   "source": [
    "# 2160. Minimum Sum of Four digit Number After Splitting Digits\n",
    "\n",
    "class Solution:\n",
    "  def minimumSum(self, num: int) -> int:\n",
    "    arr = []\n",
    "    for n in str(num):\n",
    "      arr.append(int(n))\n",
    "    arr.sort()\n",
    "    return int(str(arr[0])+str(arr[-1]) + int(str(arr[1])+str(arr[-2])))\n",
    "\n",
    "# Time O(N*log(N)), Space O(1)"
   ]
  },
  {
   "cell_type": "markdown",
   "metadata": {},
   "source": [
    "# 1431. Kids With the Greatest Number of Candies"
   ]
  },
  {
   "cell_type": "code",
   "execution_count": null,
   "metadata": {},
   "outputs": [],
   "source": [
    "# 1431. Kids With the Greatest Number of Candies\n",
    "\n",
    "class Solution:\n",
    "  def kidsWithCandies(self, candies: List[int], extraCandies: int) -> List[bool]:\n",
    "    m = max(candies)\n",
    "    op = []\n",
    "    for n in candies:\n",
    "      if n + extraCandies >= m:\n",
    "        op.append(True)\n",
    "      else:\n",
    "        op.append(False)\n",
    "    return op\n",
    "\n",
    "# Time O(N), Space O(1)\n",
    "# Runtime: 35ms, beats 93%"
   ]
  },
  {
   "cell_type": "markdown",
   "metadata": {},
   "source": [
    "# 1379. Find a Corresponding Node of a Binary Tree in a clone of that tree"
   ]
  },
  {
   "cell_type": "code",
   "execution_count": null,
   "metadata": {},
   "outputs": [],
   "source": [
    "# 1379. Find a Corresponding Node of a Binary Tree in a clone of that tree\n",
    "\n",
    "class Solution:\n",
    "  def getTargetCopy(self, original: TreeNode, cloned: TreeNode, target: TreeNode) -> TreeNode:\n",
    "    def helper(node):\n",
    "      if node is not None:\n",
    "        if node.val == target.val:\n",
    "          return node\n",
    "        \n",
    "        return helper(node.left) or helper(node.right)\n",
    "      return False\n",
    "    return helper(cloned)\n",
    "\n",
    "# Time O(N), Space O(N)\n",
    "\n",
    "class Solution:\n",
    "  def getTargetCopy(self, original: TreeNode, cloned: TreeNode, target: TreeNode) -> TreeNode:\n",
    "    stack = [cloned]\n",
    "    while stack != []:\n",
    "      node = stack.pop()\n",
    "      if node.val == target.val:\n",
    "        return node\n",
    "      if node.left is not None:\n",
    "        stack.append(node.left)\n",
    "      if node.right is not None:\n",
    "        stack.append(node.right)\n",
    "# Time O(N), Space O(1)\n",
    "# Runtime: 598ms, beats 90%"
   ]
  },
  {
   "cell_type": "markdown",
   "metadata": {},
   "source": [
    "# 1281. Subtract the Product and sum of digits of an integer"
   ]
  },
  {
   "cell_type": "code",
   "execution_count": null,
   "metadata": {},
   "outputs": [],
   "source": [
    "# 1281. Subtract the Product and sum of digits of an integer\n",
    "class Solution:\n",
    "  def subtractProductAndSum(self, n: int) -> int:\n",
    "    pr = 1\n",
    "    sm = 0\n",
    "    for i in str(n):\n",
    "      sm += int(i)\n",
    "      pr *= int(i)\n",
    "    return pr - sm\n",
    "  \n",
    "# Time O(N), Space O(1)"
   ]
  },
  {
   "cell_type": "markdown",
   "metadata": {},
   "source": [
    "# 1365. How many numbers are smaller than the current Number"
   ]
  },
  {
   "cell_type": "code",
   "execution_count": null,
   "metadata": {},
   "outputs": [],
   "source": [
    "# 1365. How many numbers are smaller than the current Number\n",
    "class Solution:\n",
    "  def smallerNumbersThanCurrent(self, nums: List[int]) -> List[int]:\n",
    "    arr = [0 for i in range(101)]\n",
    "    op = []\n",
    "    for i in nums:\n",
    "      arr[i] += 1\n",
    "    for i in nums:\n",
    "      op.append(sum(arr[:i]))\n",
    "    return op\n",
    "  \n",
    "# Time O(N), Space O(1)"
   ]
  },
  {
   "cell_type": "markdown",
   "metadata": {},
   "source": [
    "# 1165. Single-Row Keyboard"
   ]
  },
  {
   "cell_type": "code",
   "execution_count": null,
   "metadata": {},
   "outputs": [],
   "source": [
    "# 1165. Single-Row Keyboard\n",
    "class Solution:\n",
    "  def calculateTime(self, keyboard: str, word: str) -> int:\n",
    "    op = 0\n",
    "    for char in word:\n",
    "      for key in range(len(keyboard)):\n",
    "        if char == keyboard[key]:\n",
    "          op += abs(op - key )\n",
    "    return op"
   ]
  },
  {
   "cell_type": "markdown",
   "metadata": {},
   "source": [
    "# 1165. Single-Row keyboard"
   ]
  },
  {
   "cell_type": "code",
   "execution_count": null,
   "metadata": {},
   "outputs": [],
   "source": [
    "# 1165. Single-Row keyboard\n",
    "\n",
    "class Solution:\n",
    "  def calculateTime(self, keyboard: str, word: str) -> int:\n",
    "    tp = 0\n",
    "    op = 0\n",
    "    cache = dict()\n",
    "    for char in word:\n",
    "      if char in cache:\n",
    "        tp = abs(tp - cache[char])\n",
    "        op += tp\n",
    "        tp = cache[char]\n",
    "      else:\n",
    "        cache[char] = None\n",
    "        for key in range(len(keyboard)):\n",
    "          if char == keyboard[key]:\n",
    "            cache[char] = key\n",
    "            tp = abs(tp - key)\n",
    "            op += tp\n",
    "            tp = key\n",
    "            break\n",
    "    return op\n",
    "\n",
    "# O(N), Space(1)"
   ]
  },
  {
   "cell_type": "markdown",
   "metadata": {},
   "source": [
    "# 1678. Goal Parser Interpretation"
   ]
  },
  {
   "cell_type": "code",
   "execution_count": null,
   "metadata": {},
   "outputs": [],
   "source": [
    "# 1678. Goal Parser Interpretation\n",
    "class Solution:\n",
    "  def interpret(self, command: str) -> str:\n",
    "    op = []\n",
    "    i = 0\n",
    "    while i < len(command):\n",
    "      if command[i] == \"G\":\n",
    "        op.append(command[i])\n",
    "      else:\n",
    "        if command[i] == \"(\":\n",
    "          temp = i\n",
    "          while command[temp] != \")\" and i < len(command):\n",
    "            temp += 1\n",
    "          if command[i:temp + 1] == \"()\":\n",
    "            op.append(\"o\")\n",
    "          else:\n",
    "            op.append(\"al\")\n",
    "        i = temp\n",
    "      i += 1\n",
    "    return \"\".join(op)\n",
    "# Time O(N), Space O(1)"
   ]
  },
  {
   "cell_type": "markdown",
   "metadata": {},
   "source": [
    "# 2236. Root Equals Sum of Children"
   ]
  },
  {
   "cell_type": "code",
   "execution_count": null,
   "metadata": {},
   "outputs": [],
   "source": [
    "# 2236. Root Equals Sum of Children\n",
    "\n",
    "class Solution:\n",
    "  def checktree(self, root: Optional[TreeNode]) -> bool:\n",
    "    return root.val == (root.left.val == root.right.val)\n",
    "  \n",
    "  # Time O(1), Space O(1)"
   ]
  },
  {
   "cell_type": "markdown",
   "metadata": {},
   "source": [
    "# 1720. Decode XOred Array"
   ]
  },
  {
   "cell_type": "code",
   "execution_count": null,
   "metadata": {},
   "outputs": [],
   "source": [
    "# 1720. Decode XOred Array\n",
    "class Solution:\n",
    "  def decode(self, encoded: List[int], first: int) -> List[int]:\n",
    "    op = [first]\n",
    "    for n in encoded:\n",
    "      first ^= n\n",
    "      op.append(first)\n",
    "    return op\n",
    "  \n",
    "# Time O(N), space O(1)"
   ]
  },
  {
   "cell_type": "markdown",
   "metadata": {},
   "source": [
    "# 938. Range Sum of BST"
   ]
  },
  {
   "cell_type": "code",
   "execution_count": null,
   "metadata": {},
   "outputs": [],
   "source": [
    "# 938. Range Sum of BST\n",
    "\n",
    "class Solution:\n",
    "  def rangeSumBST(self, root: Optional[TreeNode], low: int, high: int) -> int:\n",
    "    def helper(node):\n",
    "      if node is not None:\n",
    "        if low <= node.val <= high:\n",
    "          o[0] += node.val\n",
    "          \n",
    "        if node.left is not None:\n",
    "          helper(node.left)\n",
    "        if node.right is not None:\n",
    "          helper(node.right)\n",
    "      o = [0]\n",
    "      helper(root)\n",
    "      return o[0]\n",
    "# Time O(N), Space O(N)"
   ]
  },
  {
   "cell_type": "markdown",
   "metadata": {},
   "source": [
    "# 1389. Create Target Array in the given order"
   ]
  },
  {
   "cell_type": "code",
   "execution_count": null,
   "metadata": {},
   "outputs": [],
   "source": [
    "# 1389. Create Target Array in the given order\n",
    "\n",
    "class Solution:\n",
    "  def createTargetarray(self, nums: List[int], index: List[int]) -> List[int]:\n",
    "    target = []\n",
    "    for i in range(len(nums)):\n",
    "      target.insert(index[i], nums[i])\n",
    "    return target\n",
    "# Time O(N), Space O(1)\n",
    "# Runtime: 27ms beats 98%"
   ]
  },
  {
   "cell_type": "markdown",
   "metadata": {},
   "source": [
    "# 1313. Decompress Run-Length Encoded List"
   ]
  },
  {
   "cell_type": "code",
   "execution_count": null,
   "metadata": {},
   "outputs": [],
   "source": [
    "# 1313. Decompress Run-Length Encoded List\n",
    "\n",
    "class Solution:\n",
    "  def decompressRLElist(self, nums: List[int]) -> List[int]:\n",
    "    op = []\n",
    "    for i in range(0, len(nums), 2):\n",
    "      op += [nums[i + 1]] * nums[i]\n",
    "    return op\n",
    "\n",
    "# Time O(N), Space O(1)"
   ]
  },
  {
   "cell_type": "markdown",
   "metadata": {},
   "source": [
    "# 1528. Shuffle String"
   ]
  },
  {
   "cell_type": "code",
   "execution_count": null,
   "metadata": {},
   "outputs": [],
   "source": [
    "# 1528. Shuffle String\n",
    "\n",
    "class Solution:\n",
    "  def restoreString(self, s: str, indices: List[int]) -> str:\n",
    "    op = [0] * len(indices)\n",
    "    for i in range(len(indices)):\n",
    "      op[indices[i]] = s[i]\n",
    "    return ''.join(op)\n",
    "\n",
    "# Time O(N), Space O(1)"
   ]
  },
  {
   "cell_type": "markdown",
   "metadata": {},
   "source": [
    "# 2194. Cells in a Range on an Excel Sheet"
   ]
  },
  {
   "cell_type": "code",
   "execution_count": null,
   "metadata": {},
   "outputs": [],
   "source": [
    "# 2194. Cells in a Range on an Excel Sheet\n",
    "class Solution:\n",
    "  def cellsInRange(self, s: str) -> List[str]:\n",
    "    alph = ['A','B','C','D','E','F','G','H','I','J','K','L','M','N','O','P','Q','R','S','T','U','V','W','X','Y','Z']\n",
    "    n = int(s[-1])\n",
    "    b = int(s[1]) - 1\n",
    "    op = []\n",
    "    start = alph.index(s[0])\n",
    "    end = alph.index(s[-2]) + 1\n",
    "    for c in alph[start:]:\n",
    "        if end < len(alph) and c == alph[end]:\n",
    "            break\n",
    "        else:\n",
    "            tmp = b\n",
    "            while tmp < n:\n",
    "                tmp += 1\n",
    "                op.append(c+str(tmp))\n",
    "    return op\n",
    "  \n",
    "# Time O(N), Space O(1)"
   ]
  },
  {
   "cell_type": "markdown",
   "metadata": {},
   "source": [
    "# 1342. Number of steps to reduce a number to zero"
   ]
  },
  {
   "cell_type": "code",
   "execution_count": null,
   "metadata": {},
   "outputs": [],
   "source": [
    "# 1342. Number of steps to reduce a number to zero\n",
    "\n",
    "class Solution:\n",
    "  def numberOfSteps(self, num:int) -> int:\n",
    "    c = 0\n",
    "    while num != 0:\n",
    "      if num % 2 == 1:\n",
    "        num -= 1\n",
    "        c += 1\n",
    "      else:\n",
    "        num = num / 2\n",
    "        c += 1\n",
    "    return c\n",
    "  \n",
    "# Time O(N), Space O(1)"
   ]
  },
  {
   "cell_type": "markdown",
   "metadata": {},
   "source": [
    "# 1221. Split a String in Balanced Strings"
   ]
  },
  {
   "cell_type": "code",
   "execution_count": null,
   "metadata": {},
   "outputs": [],
   "source": [
    "# 1221. Split a String in Balanced Strings\n",
    "\n",
    "class Solution:\n",
    "  def balancedStringSplit(self, s: str) -> int:\n",
    "    c = 0\n",
    "    op = 0\n",
    "    for i in s:\n",
    "      if i == \"R\":\n",
    "        c += 1\n",
    "      else:\n",
    "        c -= 1\n",
    "      if c == 0:\n",
    "        op += 1\n",
    "    return op\n",
    "# Time O(N), Space O(1)"
   ]
  },
  {
   "cell_type": "markdown",
   "metadata": {},
   "source": [
    "# 1207. Unique Number of Occurrences"
   ]
  },
  {
   "cell_type": "code",
   "execution_count": null,
   "metadata": {},
   "outputs": [],
   "source": [
    "# 1207. Unique Number of Occurrences\n",
    "class Solution:\n",
    "  def uniqueOccurrences(self, arr: List[int]) -> bool:\n",
    "    cache = dict()\n",
    "    for n in arr:\n",
    "      if n not in cache:\n",
    "        cache[n] = 0\n",
    "      cache[n] += 1\n",
    "    temp = sorted(cache.values(), key=lambda x: x)\n",
    "    p = temp[0]\n",
    "    for n in temp[1:]:\n",
    "      if n == p:\n",
    "        return False\n",
    "      p = n\n",
    "    return True\n",
    "  \n",
    "  # Time O(N * log(N)), Space (N)"
   ]
  },
  {
   "cell_type": "markdown",
   "metadata": {},
   "source": [
    "# 1523. Count Odd Numbers in an interval Range"
   ]
  },
  {
   "cell_type": "code",
   "execution_count": null,
   "metadata": {},
   "outputs": [],
   "source": [
    "# 1523. Count Odd Numbers in an interval Range\n",
    "class Solution:\n",
    "  def countOdds(self, low: int, high:int) -> int:\n",
    "    c = 0\n",
    "    for i in range(low, high + 1):\n",
    "      if i % 2 == 1:\n",
    "        c += 1\n",
    "    return c"
   ]
  },
  {
   "cell_type": "markdown",
   "metadata": {},
   "source": [
    "# 1523. Count Odd Numbers in an interval range"
   ]
  },
  {
   "cell_type": "code",
   "execution_count": null,
   "metadata": {},
   "outputs": [],
   "source": [
    "# 1523. Count Odd Numbers in an interval range\n",
    "\n",
    "class Solution:\n",
    "  def countOdds(self, low: int, high: int) -> int:\n",
    "    if low % 2 == 0 and high % 2 == 0:\n",
    "      return (high - low) // 2\n",
    "    return ((high - low) // 2) + 1\n",
    "  \n",
    "# Time O(1), Space O(1)s "
   ]
  },
  {
   "cell_type": "markdown",
   "metadata": {},
   "source": [
    "# 1047. Remove all adjacent duplicates in string"
   ]
  },
  {
   "cell_type": "code",
   "execution_count": null,
   "metadata": {},
   "outputs": [],
   "source": [
    "# 1047. Remove all adjacent duplicates in string\n",
    "\n",
    "class Solution:\n",
    "  def removeDuplicates(self, s:str) -> str:\n",
    "    stk = [s[0]]\n",
    "    for c in s[1:]:\n",
    "      if stk != []:\n",
    "        if c == stk[-1]:\n",
    "          stk.pop()\n",
    "        else:\n",
    "          stk.append(c)\n",
    "      else:\n",
    "        stk.append(c)\n",
    "    return ''.join(stk)\n",
    "  \n",
    "# Time O(N), Space O(1)"
   ]
  },
  {
   "cell_type": "markdown",
   "metadata": {},
   "source": [
    "# 1323. Maximum 69 number"
   ]
  },
  {
   "cell_type": "code",
   "execution_count": null,
   "metadata": {},
   "outputs": [],
   "source": [
    "# 1323. Maximum 69 number\n",
    "\n",
    "class Solution:\n",
    "  def maximum69Number (self, num: int) -> int:\n",
    "    o = []\n",
    "    num = str(num)\n",
    "    for i in range(len(num)):\n",
    "      if num[i] == '6':\n",
    "        o.append('9')\n",
    "        o.append(num[i+1:])\n",
    "        break\n",
    "      else:\n",
    "        o.append(num[i])\n",
    "    return int(''.join(o))\n",
    "  \n",
    "  # Time O(N), Space O(N)\n",
    "# Runtime: 20ms, beats 99.48%"
   ]
  },
  {
   "cell_type": "markdown",
   "metadata": {},
   "source": [
    "# 1009. Complement of Base 10 integer"
   ]
  },
  {
   "cell_type": "code",
   "execution_count": null,
   "metadata": {},
   "outputs": [],
   "source": [
    "# 1009. Complement of Base 10 integer\n",
    "\n",
    "class Solution:\n",
    "  def bitwise(self, n:int) -> int:\n",
    "    if n == 0:\n",
    "      return 1\n",
    "    bitwise = n\n",
    "    bitwise |= 1 << bitwise\n",
    "    bitwise |= 2 << bitwise\n",
    "    bitwise |= 4 << bitwise\n",
    "    bitwise |= 8 << bitwise\n",
    "    bitwise |= 16 << bitwise\n",
    "    return bitwise ^ n\n",
    "  \n",
    "  # Time O(1), Space O(1)\n",
    "    "
   ]
  },
  {
   "cell_type": "markdown",
   "metadata": {},
   "source": [
    "# 2520. Count the Digits that divide a number"
   ]
  },
  {
   "cell_type": "code",
   "execution_count": null,
   "metadata": {},
   "outputs": [],
   "source": [
    "# 2520. Count the Digits that divide a number\n",
    "\n",
    "class Solution:\n",
    "  def countDigits(self, num: int) -> int:\n",
    "    output = 0\n",
    "    for i in str(num):\n",
    "      if num % int(i) == 0:\n",
    "        output += 1\n",
    "    return output\n",
    "  \n",
    "# Time O(N), Space(1)"
   ]
  },
  {
   "cell_type": "markdown",
   "metadata": {},
   "source": [
    "# 1486. Xor operation in an Array"
   ]
  },
  {
   "cell_type": "code",
   "execution_count": null,
   "metadata": {},
   "outputs": [],
   "source": [
    "# 1486. Xor operation in an Array\n",
    "\n",
    "class Solution:\n",
    "  def xorOperation(self, n:int, start:int) -> int:\n",
    "    ans = 0\n",
    "    for i in range(n):\n",
    "      ans ^= start + 2 * i\n",
    "    return ans\n",
    "  \n",
    "# Time O(N), Space(1)"
   ]
  },
  {
   "cell_type": "markdown",
   "metadata": {},
   "source": [
    "# 290. Word Pattern\n",
    "Given a pattern and a string s, find if s follows the same pattern.\n",
    "\n",
    "Here follow means a full match, such that there is a bijection between a letter in pattern and a non-empty word in s."
   ]
  },
  {
   "cell_type": "code",
   "execution_count": null,
   "metadata": {},
   "outputs": [],
   "source": [
    "# 290. Word Pattern\n",
    "\n",
    "class Solution:\n",
    "    def wordPattern(self, pattern: str, s: str) -> bool:\n",
    "        tempS = s.split(' ')\n",
    "        print(tempS)\n",
    "        if len(pattern) < len(tempS) or len(pattern) > len(tempS):\n",
    "            return False\n",
    "        else:               \n",
    "            bag = set()\n",
    "            cache = dict()\n",
    "            for ltr, word in zip(pattern, s.split(' ')):\n",
    "                if ltr in cache and cache[ltr] != word:\n",
    "                    return False\n",
    "\n",
    "                if ltr not in cache:\n",
    "                    if word in bag:\n",
    "                        return False\n",
    "                    cache[ltr] = word\n",
    "                    bag.add(word)\n",
    "            return True\n",
    "\n",
    "# Time O(N), Space O(N)"
   ]
  },
  {
   "cell_type": "markdown",
   "metadata": {},
   "source": [
    "# 389. Find the Difference\n",
    "You are given two strings s and t.\n",
    "\n",
    "String t is generated by random shuffling string s and then add one more letter at a random position.\n",
    "\n",
    "Return the letter that was added to t."
   ]
  },
  {
   "cell_type": "code",
   "execution_count": null,
   "metadata": {},
   "outputs": [],
   "source": [
    "# 389. Find the Difference\n",
    "\n",
    "class Solution:\n",
    "    def findTheDifference(self, s: str, t: str) -> str:\n",
    "        cache = dict()\n",
    "        for l in t:\n",
    "            if l not in cache:\n",
    "                cache[l] = 0\n",
    "            cache[l] += 1\n",
    "        for l in s:\n",
    "            if l in cache:\n",
    "                cache[l] -= 1\n",
    "                if cache[l] == 0:\n",
    "                    del cache[l]\n",
    "        temp = [i for i in cache.keys()]\n",
    "        return temp[0]\n",
    "      \n",
    "# Time O(N), Space O(N)"
   ]
  },
  {
   "cell_type": "markdown",
   "metadata": {},
   "source": [
    "# 392. Is Subsequence\n",
    "Given two strings s and t, return true if s is a subsequence of t, or false otherwise.\n",
    "\n",
    "A subsequence of a string is a new string that is formed from the original string by deleting some (can be none) of the characters without disturbing the relative positions of the remaining characters. (i.e., \"ace\" is a subsequence of \"abcde\" while \"aec\" is not).\n"
   ]
  },
  {
   "cell_type": "code",
   "execution_count": null,
   "metadata": {},
   "outputs": [],
   "source": [
    "# 392. Is Subsequence\n",
    "\n",
    "class Solution:\n",
    "    def isSubsequence(self, s: str, t: str) -> bool:\n",
    "        if len(s) > len(t):\n",
    "            return False\n",
    "        i = 0\n",
    "        for j in t:\n",
    "            if i == len(s):\n",
    "                return True\n",
    "            if j == s[i]:\n",
    "                i += 1\n",
    "        if i != len(s):\n",
    "            return False\n",
    "        return True\n",
    "# Time O(n), Space O(1)"
   ]
  },
  {
   "cell_type": "markdown",
   "metadata": {},
   "source": [
    "# 414. Third Maximum Number\n",
    "Given an integer array nums, return the third distinct maximum number in this array. If the third maximum does not exist, return the maximum number."
   ]
  },
  {
   "cell_type": "code",
   "execution_count": null,
   "metadata": {},
   "outputs": [],
   "source": [
    "# 414. Third Maximum Number\n",
    "\n",
    "class Solution:\n",
    "    def thirdMax(self, nums: List[int]) -> int:\n",
    "        n = [*set(nums)]\n",
    "        n.sort()\n",
    "        if len(n) < 3:\n",
    "            return n[-1]\n",
    "        return n[-3]\n",
    "      \n",
    "# Time O(nlogn), Space O(n)"
   ]
  },
  {
   "cell_type": "markdown",
   "metadata": {},
   "source": [
    "# 409. Longest Palindrome\n",
    "\n",
    "Given a string which consists of lowercase or uppercase letters, return the length of the longest palindrome that can be built with those letters.\n",
    "\n",
    "Letters are case sensitive, for example, \"Aa\" is not considered a palindrome here."
   ]
  },
  {
   "cell_type": "code",
   "execution_count": null,
   "metadata": {},
   "outputs": [],
   "source": [
    "# 409. Longest Palindrome\n",
    "\n",
    "class Solution:\n",
    "    def longestPalindrome(self, s: str) -> int:\n",
    "        cache = dict()\n",
    "        for char in s:\n",
    "            if char not in cache:\n",
    "                cache[char] = 0\n",
    "            cache[char] += 1\n",
    "        \n",
    "        longestPalindrome = 0\n",
    "        one = 0\n",
    "\n",
    "        for key, value in cache.items():\n",
    "            if value == 1:\n",
    "                if one == 0:\n",
    "                    one = 1\n",
    "            else:\n",
    "                if value % 2 == 0:\n",
    "                    longestPalindrome += value\n",
    "                else:\n",
    "                    if one == 0:\n",
    "                        one = 1\n",
    "                    longestPalindrome += (value - 1)\n",
    "        return longestPalindrome + one\n",
    "      \n",
    "# Time O(N), Space O(N)\n"
   ]
  },
  {
   "cell_type": "markdown",
   "metadata": {},
   "source": [
    "# 563. Binary Tree Tilt\n",
    "\n",
    "Given the root of a binary tree, return the sum of every tree node's tilt.\n",
    "\n",
    "The tilt of a tree node is the absolute difference between the sum of all left subtree node values and all right subtree node values.\n",
    "\n",
    "if a node does not have a left child, then the sum of the left subtree node values is treated as 0. The rule is similar if the node does not have a right child."
   ]
  },
  {
   "cell_type": "code",
   "execution_count": null,
   "metadata": {},
   "outputs": [],
   "source": [
    "# 563. Binary Tree Tilt\n",
    "\n",
    "class Solution:\n",
    "    def findTilt(self, root: Optional[TreeNode]) -> int:\n",
    "        tilt = []\n",
    "        def helper(node):\n",
    "            if node is not None:\n",
    "                left = helper(node.left)\n",
    "                right = helper(node.right)\n",
    "                tilt.append((abs(left - right)))\n",
    "                return node.val + left + right\n",
    "            return 0\n",
    "        helper(root)\n",
    "        return sum(tilt)"
   ]
  },
  {
   "cell_type": "markdown",
   "metadata": {},
   "source": [
    "# 404. Sum of Left Leaves"
   ]
  },
  {
   "cell_type": "code",
   "execution_count": null,
   "metadata": {},
   "outputs": [],
   "source": [
    "# 404. Sum of Left Leaves\n",
    "\n",
    "class Solution:\n",
    "    def sumOfLeftLeaves(self, root: Optional[TreeNode]) -> int:\n",
    "        ttl = [0]\n",
    "        def helper(node, direc = None):\n",
    "            if node is not None:\n",
    "                if node.left is not None:\n",
    "                    helper(node.left, 'l')\n",
    "                if node.right is not None:\n",
    "                    helper(node.right, 'r')\n",
    "                if node.left is None and node.right is None and direc == 'l':\n",
    "                    ttl[0] += node.val\n",
    "        helper(root)\n",
    "        return ttl[0]\n",
    "\n",
    "# Time O(N), Space O(N)"
   ]
  },
  {
   "cell_type": "markdown",
   "metadata": {},
   "source": [
    "# 14. Longest Common Prefix\n",
    "\n",
    "Write a function to find the longest common prefix string amongst an array of strings.\n",
    "\n",
    "If there is no common prefix, return an empty string"
   ]
  },
  {
   "cell_type": "code",
   "execution_count": null,
   "metadata": {},
   "outputs": [],
   "source": [
    "#14. Longest Common Prefix\n",
    "\n",
    "class Solution:\n",
    "    def longestCommonPrefix(self, strs: List[str]) -> str:\n",
    "      ans = [c for c in strs[0]]\n",
    "      for c in strs[1:]:        \n",
    "        if len(ans) > len(c):\n",
    "          ans = ans[:len(c)]\n",
    "        for c2 in range(len(ans)):\n",
    "          if c[c2] != ans[c2]:\n",
    "            ans = ans[:c2]\n",
    "            break\n",
    "      return \"\".join(ans)"
   ]
  },
  {
   "cell_type": "markdown",
   "metadata": {},
   "source": []
  },
  {
   "cell_type": "markdown",
   "metadata": {},
   "source": [
    "# 1275. Find Winner on a Tic Tac Toe Game\n",
    "\n",
    "Tic-tac-toe is played by two players A and B on a 3 x 3 grid. The rules of Tic-Tac-Toe are:\n",
    "\n",
    "Players take turns placing characters into empty squares ' '.\n",
    "\n",
    "The first player A always places 'X' characters, while the second player B always places 'O' characters.\n",
    "\n",
    "'X' and 'O' characters are always placed into empty squares, never on filled ones.\n",
    "\n",
    "The game ends when there are three of the same (non-empty) character filling any row, column, or diagonal.\n",
    "\n",
    "The game also ends if all squares are non-empty.\n",
    "\n",
    "No more moves can be played if the game is over.\n",
    "\n",
    "Given a 2D integer array moves where moves[i] = [rowi, coli] indicates that the ith move will be played on grid[rowi][coli]. \n",
    "Return the winner of the game if it exists (A or B). In case the game ends in a draw return \"Draw\". If there are still movements to play return \"Pending\".\n",
    "\n",
    "You can assume that moves is valid (i.e., it follows the rules of Tic-Tac-Toe), the grid is initially empty, and A will play first.\n"
   ]
  },
  {
   "cell_type": "code",
   "execution_count": null,
   "metadata": {},
   "outputs": [],
   "source": [
    "# 1275. Find Winner on a Tic Tac Toe Game\n",
    "\n",
    "class Solution:\n",
    "    def tictactoe(self, moves: List[List[int]]) -> str:\n",
    "        \"\"\"\n",
    "            tictactoe will iterate over all moves in the moves array and return one of four outputs ('A', 'B', 'Draw', 'Pending')\n",
    "\n",
    "            args: \n",
    "                moves (int array): indices of where the player chose to mark his turn [[0,1],...]\n",
    "            return:\n",
    "                output (str): 'A' or 'B' or 'Draw' or 'Pending'\n",
    "        \"\"\"\n",
    "        # size of matrix\n",
    "        n = 3\n",
    "        # only need to track current row and col\n",
    "        rows, cols = [0] * 3, [0] * 3\n",
    "        # if on diag or anti-diag, then add to them\n",
    "        diag, antiDiag = 0,0\n",
    "        player = 1\n",
    "\n",
    "        # rows [1,0,0]\n",
    "        # cols [1,0,0]\n",
    "        # diag     = 1\n",
    "        # antiDiag = 0\n",
    "\n",
    "        for row, col in moves:\n",
    "            # update the row and col value on the rows, cols array\n",
    "            rows[row] += player\n",
    "            cols[col] += player\n",
    "\n",
    "            # check if row, col is on diag or anti-diag\n",
    "            if row == col:\n",
    "                diag += player\n",
    "            if row + col == n - 1:\n",
    "                antiDiag += player\n",
    "            \n",
    "            # check if this move meets any of the winning conditions\n",
    "            if any(abs(line) == n for line in (rows[row], cols[col], diag, antiDiag)):\n",
    "                return 'A' if player == 1 else 'B'\n",
    "            \n",
    "            # if no one wins so far, change to the other player alternatively\n",
    "            # from 1 to -1 or -1 to 1\n",
    "            player *= -1\n",
    "        # if all moves have been exhausted and there is still no result, we shall check if\n",
    "        # the grid is full or not. If so, the game ends with a draw, otherwise the game is pending\n",
    "        return 'Draw' if len(moves) == n * n else 'Pending'"
   ]
  },
  {
   "cell_type": "markdown",
   "metadata": {},
   "source": [
    "# 1572. Matrix Diagonal Sum\n",
    "\n",
    "Given a square matrix mat, return the sum of the matrix diagonals.\n",
    "\n",
    "Only include the sum of all the elements on the primary diagonal and all the elements on the secondary diagonal that are not part of the primary diagonal."
   ]
  },
  {
   "cell_type": "code",
   "execution_count": null,
   "metadata": {},
   "outputs": [],
   "source": [
    "class Solution:\n",
    "    def diagonalSum(self, mat: List[List[int]]) -> int:\n",
    "        output = 0\n",
    "        l = len(mat)\n",
    "        for i in range(l):\n",
    "            output += mat[i][i]\n",
    "            output += mat[i][l-i-1] if i != (l-i-1) else 0\n",
    "        return output"
   ]
  },
  {
   "cell_type": "markdown",
   "metadata": {},
   "source": []
  },
  {
   "cell_type": "code",
   "execution_count": null,
   "metadata": {},
   "outputs": [],
   "source": [
    "matrix = [[1,2,3],[4,5,6],[7,8,9]]\n",
    "l_col = 0\n",
    "r_col = len(matrix[0])\n",
    "l_row = 0\n",
    "r_row = len(matrix)\n",
    "output = []\n",
    "\n",
    "ttl_nums = r_col * r_row\n",
    "\n",
    "cycle = 0\n",
    "while len(output) < ttl_nums:\n",
    "    cur_l_row = l_row + cycle\n",
    "    cur_r_row = r_row - cycle\n",
    "\n",
    "    cur_r_col = r_col - cycle\n",
    "    cur_l_col = l_col + cycle\n",
    "\n",
    "    for i in range(cur_l_row, cur_r_col -1):\n",
    "        output.append(matrix[cur_l_row][i])\n",
    "        print(matrix[cur_l_row][i])\n",
    "        if len(output) >= ttl_nums:\n",
    "            break\n",
    "    if len(output) >= ttl_nums:\n",
    "        break\n",
    "    print()\n",
    "    for i in range(cur_l_row, cur_r_row - 1):\n",
    "        output.append(matrix[i][cur_r_col -1 - cycle])\n",
    "        print(matrix[i][cur_r_col - 1 - cycle])\n",
    "    print()\n",
    "    for i in range(cur_r_col -1, cur_l_col + cycle, -1):\n",
    "        output.append(matrix[cur_r_row - 1][i])\n",
    "        print(matrix[cur_r_row - 1][i])\n",
    "    # output.pop()\n",
    "    print()\n",
    "    for i in range(cur_r_row -1, cur_l_row + cycle, -1):\n",
    "        output.append(matrix[i][cur_l_col])\n",
    "        print(matrix[i][cur_l_col])\n",
    "    cycle += 1\n",
    "    if len(output) >= ttl_nums:\n",
    "        break\n",
    "    \n",
    "print(output)        \n",
    "    # break\n"
   ]
  },
  {
   "cell_type": "markdown",
   "metadata": {},
   "source": [
    "# 1523. Count Odd Numbers in an Interval Range"
   ]
  },
  {
   "cell_type": "code",
   "execution_count": null,
   "metadata": {},
   "outputs": [],
   "source": [
    "class Solution:\n",
    "    def countOdds(self, low: int, high: int) -> int:\n",
    "        if low % 2 == 0 and high % 2 == 0:\n",
    "            return (high - low) // 2\n",
    "        return ((high - low) // 2) + 1"
   ]
  }
 ],
 "metadata": {
  "kernelspec": {
   "display_name": "base",
   "language": "python",
   "name": "python3"
  },
  "language_info": {
   "codemirror_mode": {
    "name": "ipython",
    "version": 3
   },
   "file_extension": ".py",
   "mimetype": "text/x-python",
   "name": "python",
   "nbconvert_exporter": "python",
   "pygments_lexer": "ipython3",
   "version": "3.9.13"
  },
  "orig_nbformat": 4,
  "vscode": {
   "interpreter": {
    "hash": "40d3a090f54c6569ab1632332b64b2c03c39dcf918b08424e98f38b5ae0af88f"
   }
  }
 },
 "nbformat": 4,
 "nbformat_minor": 2
}
