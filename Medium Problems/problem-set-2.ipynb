{
 "cells": [
  {
   "cell_type": "markdown",
   "metadata": {},
   "source": [
    "# 43. Multiply Strings\n",
    "\n",
    "Given two non-negative integers num1 and num2 represented as strings, return the product of num1 and num2, also represented as a string.\n",
    "\n",
    "Note: You must not use any built-in BigInteger library or convert the inputs to integer directly.\n",
    "\n",
    "<img src=\"problem-set-2-img/43.png\" style='height: 400px; width: auto;'>"
   ]
  },
  {
   "cell_type": "code",
   "execution_count": null,
   "metadata": {},
   "outputs": [],
   "source": [
    "class Solution:\n",
    "    def multiply(self, num1: str, num2: str) -> str:\n",
    "        return str(int(num1) * int(num2))"
   ]
  },
  {
   "cell_type": "code",
   "execution_count": null,
   "metadata": {},
   "outputs": [],
   "source": [
    "class Solution:\n",
    "    def multiply(self, num1: str, num2: str) -> str:\n",
    "        if num1 == \"0\" or num2 == \"0\":\n",
    "            return \"0\"\n",
    "        \n",
    "        # Initialize answer as a string of zeros of length N.\n",
    "        N = len(num1) + len(num2)\n",
    "        answer = [0] * N\n",
    "        \n",
    "        # Reverse num1 and num2\n",
    "        first_number = num1[::-1]\n",
    "        second_number = num2[::-1]\n",
    "        \n",
    "        for place2, digit2 in enumerate(second_number):\n",
    "            # For each digit in second_number multiply the digit by all digits in first_number.\n",
    "            for place1, digit1 in enumerate(first_number):\n",
    "                # The number of zeros from multiplying to digits depends on the place\n",
    "                # of digit2 in second_number and the place of the digit1 in first_number.\n",
    "                num_zeros = place1 + place2\n",
    "                \n",
    "                # The digit currently at position numZeros in the answer string\n",
    "                # is carried over and summed with the current result.\n",
    "                carry = answer[num_zeros]\n",
    "                multiplication = int(digit1) * int(digit2) + carry\n",
    "                \n",
    "                # Set the ones place of the multiplication result.\n",
    "                answer[num_zeros] = multiplication % 10\n",
    "                \n",
    "                # Carry the tens place of the multiplication result by \n",
    "                # adding it to the next position in the answer array.\n",
    "                answer[num_zeros + 1] += multiplication // 10\n",
    "        \n",
    "        # Pop the excess 0 from the end of answer.\n",
    "        if answer[-1] == 0:\n",
    "            answer.pop()\n",
    "            \n",
    "        return ''.join(str(digit) for digit in reversed(answer))"
   ]
  },
  {
   "cell_type": "code",
   "execution_count": null,
   "metadata": {},
   "outputs": [],
   "source": []
  },
  {
   "cell_type": "code",
   "execution_count": null,
   "metadata": {},
   "outputs": [],
   "source": []
  },
  {
   "cell_type": "code",
   "execution_count": null,
   "metadata": {},
   "outputs": [],
   "source": []
  },
  {
   "cell_type": "code",
   "execution_count": null,
   "metadata": {},
   "outputs": [],
   "source": []
  },
  {
   "cell_type": "code",
   "execution_count": null,
   "metadata": {},
   "outputs": [],
   "source": []
  },
  {
   "cell_type": "code",
   "execution_count": null,
   "metadata": {},
   "outputs": [],
   "source": []
  }
 ],
 "metadata": {
  "language_info": {
   "name": "python"
  }
 },
 "nbformat": 4,
 "nbformat_minor": 2
}
