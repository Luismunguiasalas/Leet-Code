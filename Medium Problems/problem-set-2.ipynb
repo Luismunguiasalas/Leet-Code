{
 "cells": [
  {
   "cell_type": "markdown",
   "metadata": {},
   "source": [
    "# 43. Multiply Strings\n",
    "\n",
    "Given two non-negative integers num1 and num2 represented as strings, return the product of num1 and num2, also represented as a string.\n",
    "\n",
    "Note: You must not use any built-in BigInteger library or convert the inputs to integer directly.\n",
    "\n",
    "<img src=\"problem-set-2-img/43.png\" style='height: 400px; width: auto;'>"
   ]
  },
  {
   "cell_type": "code",
   "execution_count": null,
   "metadata": {},
   "outputs": [],
   "source": [
    "class Solution:\n",
    "    def multiply(self, num1: str, num2: str) -> str:\n",
    "        return str(int(num1) * int(num2))"
   ]
  },
  {
   "cell_type": "code",
   "execution_count": null,
   "metadata": {},
   "outputs": [],
   "source": [
    "class Solution:\n",
    "    def multiply(self, num1: str, num2: str) -> str:\n",
    "        if num1 == \"0\" or num2 == \"0\":\n",
    "            return \"0\"\n",
    "        \n",
    "        # Initialize answer as a string of zeros of length N.\n",
    "        N = len(num1) + len(num2)\n",
    "        answer = [0] * N\n",
    "        \n",
    "        # Reverse num1 and num2\n",
    "        first_number = num1[::-1]\n",
    "        second_number = num2[::-1]\n",
    "        \n",
    "        for place2, digit2 in enumerate(second_number):\n",
    "            # For each digit in second_number multiply the digit by all digits in first_number.\n",
    "            for place1, digit1 in enumerate(first_number):\n",
    "                # The number of zeros from multiplying to digits depends on the place\n",
    "                # of digit2 in second_number and the place of the digit1 in first_number.\n",
    "                num_zeros = place1 + place2\n",
    "                \n",
    "                # The digit currently at position numZeros in the answer string\n",
    "                # is carried over and summed with the current result.\n",
    "                carry = answer[num_zeros]\n",
    "                multiplication = int(digit1) * int(digit2) + carry\n",
    "                \n",
    "                # Set the ones place of the multiplication result.\n",
    "                answer[num_zeros] = multiplication % 10\n",
    "                \n",
    "                # Carry the tens place of the multiplication result by \n",
    "                # adding it to the next position in the answer array.\n",
    "                answer[num_zeros + 1] += multiplication // 10\n",
    "        \n",
    "        # Pop the excess 0 from the end of answer.\n",
    "        if answer[-1] == 0:\n",
    "            answer.pop()\n",
    "            \n",
    "        return ''.join(str(digit) for digit in reversed(answer))"
   ]
  },
  {
   "cell_type": "markdown",
   "metadata": {},
   "source": [
    "# 50. Pow(x, n)\n",
    "\n",
    "Implement pow(x, n), which calculates x raised to the power n (i.e., xn).\n",
    "\n",
    "<img src=\"problem-set-2-img/50.png\" style='height: 400px; width: auto;'>"
   ]
  },
  {
   "cell_type": "code",
   "execution_count": null,
   "metadata": {},
   "outputs": [],
   "source": [
    "class Solution:\n",
    "    def myPow(self, x: float, n: int) -> float:\n",
    "        return x**n"
   ]
  },
  {
   "cell_type": "markdown",
   "metadata": {},
   "source": [
    "# 807. Max Increase to Keep City Skyline\n",
    "\n",
    "There is a city composed of n x n blocks, where each block contains a single building shaped like a vertical square prism. You are given a 0-indexed n x n integer matrix grid where grid[r][c] represents the height of the building located in the block at row r and column c.\n",
    "\n",
    "A city's skyline is the outer contour formed by all the building when viewing the side of the city from a distance. The skyline from each cardinal direction north, east, south, and west may be different.\n",
    "\n",
    "We are allowed to increase the height of any number of buildings by any amount (the amount can be different per building). The height of a 0-height building can also be increased. However, increasing the height of a building should not affect the city's skyline from any cardinal direction.\n",
    "\n",
    "Return the maximum total sum that the height of the buildings can be increased by without changing the city's skyline from any cardinal direction.\n",
    "\n",
    "<img src=\"problem-set-2-img/807.png\" style='height: 400px; width: auto;'>"
   ]
  },
  {
   "cell_type": "code",
   "execution_count": null,
   "metadata": {},
   "outputs": [],
   "source": [
    "class Solution:\n",
    "    def maxIncreaseKeepingSkyline(self, grid: List[List[int]]) -> int:\n",
    "        max_rows=[max(row) for row in grid]\n",
    "        max_cols=[max(col) for col in zip(*grid)]\n",
    "        count=0\n",
    "        n=len(grid)\n",
    "        for j in range(n):\n",
    "            for i in range(n):\n",
    "                current_height = grid[j][i]\n",
    "                count += min(max_rows[j], max_cols[i]) - current_height\n",
    "        return count"
   ]
  },
  {
   "cell_type": "markdown",
   "metadata": {},
   "source": [
    "# 1769. Minimum Number of Operations to Move All Balls to Each Box\n",
    "\n",
    "You have n boxes. You are given a binary string boxes of length n, where boxes[i] is '0' if the ith box is empty, and '1' if it contains one ball.\n",
    "\n",
    "In one operation, you can move one ball from a box to an adjacent box. Box i is adjacent to box j if abs(i - j) == 1. Note that after doing so, there may be more than one ball in some boxes.\n",
    "\n",
    "Return an array answer of size n, where answer[i] is the minimum number of operations needed to move all the balls to the ith box.\n",
    "\n",
    "Each answer[i] is calculated considering the initial state of the boxes.\n",
    "\n",
    "<img src=\"problem-set-2-img/1769.png\" style='height: 400px; width: auto;'>"
   ]
  },
  {
   "cell_type": "code",
   "execution_count": null,
   "metadata": {},
   "outputs": [],
   "source": []
  },
  {
   "cell_type": "markdown",
   "metadata": {},
   "source": [
    "# 654. Maximum Binary Tree\n",
    "\n",
    "You are given an integer array nums with no duplicates. A maximum binary tree can be built recursively from nums using the following algorithm:\n",
    "\n",
    "Create a root node whose value is the maximum value in nums.\n",
    "\n",
    "Recursively build the left subtree on the subarray prefix to the left of the maximum value.\n",
    "\n",
    "Recursively build the right subtree on the subarray suffix to the right of the maximum value.\n",
    "\n",
    "Return the maximum binary tree built from nums.\n",
    "\n",
    "# <img src=\"problem-set-2-img/654.png\" style='height: 400px; width: auto;'>"
   ]
  },
  {
   "cell_type": "code",
   "execution_count": null,
   "metadata": {},
   "outputs": [],
   "source": [
    "# Definition for a binary tree node.\n",
    "# class TreeNode:\n",
    "#     def __init__(self, val=0, left=None, right=None):\n",
    "#         self.val = val\n",
    "#         self.left = left\n",
    "#         self.right = right\n",
    "class Solution:\n",
    "    def constructMaximumBinaryTree(self, nums: List[int]) -> Optional[TreeNode]:\n",
    "        if not nums:\n",
    "            return\n",
    "        val = max(nums)\n",
    "        i = nums.index(val)\n",
    "        node = TreeNode(val)\n",
    "        left = nums[:i]\n",
    "        right = nums[i+1:]\n",
    "        node.left = self.constructMaximumBinaryTree(left)\n",
    "        node.right = self.constructMaximumBinaryTree(right)\n",
    "        return node"
   ]
  },
  {
   "cell_type": "markdown",
   "metadata": {},
   "source": [
    "# 2545. Sort the Students by Their Kth Score\n",
    "\n",
    "There is a class with m students and n exams. You are given a 0-indexed m x n integer matrix score, where each row represents one student and score[i][j] denotes the score the ith student got in the jth exam. The matrix score contains distinct integers only.\n",
    "\n",
    "You are also given an integer k. Sort the students (i.e., the rows of the matrix) by their scores in the kth (0-indexed) exam from the highest to the lowest.\n",
    "\n",
    "Return the matrix after sorting it.\n",
    "\n",
    "<img src=\"problem-set-2-img/2545.png\" style='height: 400px; width: auto;'>"
   ]
  },
  {
   "cell_type": "code",
   "execution_count": null,
   "metadata": {},
   "outputs": [],
   "source": [
    "class Solution:\n",
    "    def sortTheStudents(self, score: List[List[int]], k: int) -> List[List[int]]:\n",
    "        temp = []\n",
    "        for i in range(len(score)):\n",
    "            temp.append([score[i][k], i])\n",
    "        temp = sorted(temp, key=lambda x: x[0], reverse=True)\n",
    "        output = []\n",
    "        for arr in temp:\n",
    "            output.append(score[arr[1]])\n",
    "        return output"
   ]
  },
  {
   "cell_type": "code",
   "execution_count": null,
   "metadata": {},
   "outputs": [],
   "source": [
    "class Solution:\n",
    "    def sortTheStudents(self, score: List[List[int]], k: int) -> List[List[int]]:\n",
    "        for j in range(1,len(score)):\n",
    "\n",
    "            i = j - 1\n",
    "\n",
    "            while i >= 0:\n",
    "                prev = score[i][k]\n",
    "                curr = score[j][k]\n",
    "                if prev < curr:\n",
    "                    score[i],score[j]=score[j],score[i]\n",
    "                j -= 1\n",
    "                i -= 1\n",
    "\n",
    "        return score"
   ]
  },
  {
   "cell_type": "markdown",
   "metadata": {},
   "source": [
    "# 2482. Difference Between Ones and Zeros in Row and Column\n",
    "\n",
    "You are given a 0-indexed m x n binary matrix grid.\n",
    "\n",
    "A 0-indexed m x n difference matrix diff is created with the following procedure:\n",
    "\n",
    "Let the number of ones in the ith row be onesRowi.\n",
    "\n",
    "Let the number of ones in the jth column be onesColj.\n",
    "\n",
    "Let the number of zeros in the ith row be zerosRowi.\n",
    "\n",
    "Let the number of zeros in the jth column be zerosColj.\n",
    "\n",
    "diff[i][j] = onesRowi + onesColj - zerosRowi - zerosColj\n",
    "\n",
    "Return the difference matrix diff.\n",
    "\n",
    "<img src=\"problem-set-2-img/2482.png\" style='height: 400px; width: auto;'>"
   ]
  },
  {
   "cell_type": "code",
   "execution_count": null,
   "metadata": {},
   "outputs": [],
   "source": [
    "class Solution:\n",
    "    def onesMinusZeros(self, grid: List[List[int]]) -> List[List[int]]:\n",
    "        rows = len(grid)\n",
    "        cols = len(grid[0])\n",
    "        r_ones=[]\n",
    "        r_zeros=[]\n",
    "        c_ones=[]\n",
    "        c_zeros=[]\n",
    "        output=[]\n",
    "        for row in range(rows):\n",
    "            c0=grid[row].count(0)\n",
    "            c1=cols-c0\n",
    "            r_ones.append(c1)\n",
    "            r_zeros.append(c0)\n",
    "        for col in range(cols):\n",
    "            c0=0\n",
    "            c1=0\n",
    "            for row in range(rows):\n",
    "                digit=grid[row][col]\n",
    "                if digit:\n",
    "                    c1+=1\n",
    "                else:\n",
    "                    c0+=1\n",
    "            c_ones.append(c1)\n",
    "            c_zeros.append(c0)\n",
    "        for i in range(rows):\n",
    "            t=[]\n",
    "            for j in range(cols):\n",
    "                # print(f\"{r_ones[i]} + {c_ones[j]} - {r_zeros[i]} - {c_zeros[j]}\")\n",
    "                digit=(r_ones[i]+c_ones[j])-(r_zeros[i]+c_zeros[j])\n",
    "                t.append(digit)\n",
    "            output.append(t)\n",
    "        return output"
   ]
  },
  {
   "cell_type": "markdown",
   "metadata": {},
   "source": [
    "# 2161. Partition Array According to Given Pivot\n",
    "\n",
    "You are given a 0-indexed integer array nums and an integer pivot. Rearrange nums such that the following conditions are satisfied:\n",
    "\n",
    "Every element less than pivot appears before every element greater than pivot.\n",
    "\n",
    "Every element equal to pivot appears in between the elements less than and greater than pivot.\n",
    "\n",
    "The relative order of the elements less than pivot and the elements greater than pivot is maintained.\n",
    "\n",
    "More formally, consider every pi, pj where pi is the new position of the ith element and pj is the new position of the jth element.\n",
    "\n",
    "For elements less than pivot, if i < j and nums[i] < pivot and nums[j] < pivot, then pi < pj.\n",
    "\n",
    "Similarly for elements greater than pivot, if i < j and nums[i] > pivot and nums[j] > pivot, then pi < pj.\n",
    "\n",
    "Return nums after the rearrangement.\n",
    "\n",
    "<img src=\"problem-set-2-img/2161.png\" style='height: 400px; width: auto;'>"
   ]
  },
  {
   "cell_type": "code",
   "execution_count": null,
   "metadata": {},
   "outputs": [],
   "source": [
    "class Solution:\n",
    "    def pivotArray(self, nums: List[int], pivot: int) -> List[int]:\n",
    "        l=[]\n",
    "        r=[]\n",
    "        m=[]\n",
    "        for n in nums:\n",
    "            if n < pivot:\n",
    "                l.append(n)\n",
    "            elif n > pivot:\n",
    "                r.append(n)\n",
    "            else:\n",
    "                m.append(n)\n",
    "        return l+m+r"
   ]
  },
  {
   "cell_type": "markdown",
   "metadata": {},
   "source": [
    "# 1561. Maximum Number of Coins You Can Get\n",
    "\n",
    "There are 3n piles of coins of varying size, you and your friends will take piles of coins as follows:\n",
    "\n",
    "In each step, you will choose any 3 piles of coins (not necessarily consecutive).\n",
    "\n",
    "Of your choice, Alice will pick the pile with the maximum number of coins.\n",
    "\n",
    "You will pick the next pile with the maximum number of coins.\n",
    "\n",
    "Your friend Bob will pick the last pile.\n",
    "\n",
    "Repeat until there are no more piles of coins.\n",
    "\n",
    "Given an array of integers piles where piles[i] is the number of coins in the ith pile.\n",
    "\n",
    "Return the maximum number of coins that you can have.\n",
    "\n",
    "<img src=\"problem-set-2-img/1561.png\" style='height: 400px; width: auto;'>"
   ]
  },
  {
   "cell_type": "code",
   "execution_count": null,
   "metadata": {},
   "outputs": [],
   "source": [
    "class Solution:\n",
    "    def maxCoins(self, piles: List[int]) -> int:\n",
    "        piles.sort()\n",
    "        l=0\n",
    "        r=len(piles)-2\n",
    "        c=0\n",
    "        while l < r:\n",
    "            c+=piles[r]\n",
    "            l+=1\n",
    "            r-=2\n",
    "        return c"
   ]
  },
  {
   "cell_type": "code",
   "execution_count": null,
   "metadata": {},
   "outputs": [],
   "source": [
    "# <img src=\"problem-set-2-img/2545.png\" style='height: 400px; width: auto;'>"
   ]
  }
 ],
 "metadata": {
  "kernelspec": {
   "display_name": "Python 3",
   "language": "python",
   "name": "python3"
  },
  "language_info": {
   "codemirror_mode": {
    "name": "ipython",
    "version": 3
   },
   "file_extension": ".py",
   "mimetype": "text/x-python",
   "name": "python",
   "nbconvert_exporter": "python",
   "pygments_lexer": "ipython3",
   "version": "3.12.1"
  }
 },
 "nbformat": 4,
 "nbformat_minor": 2
}
