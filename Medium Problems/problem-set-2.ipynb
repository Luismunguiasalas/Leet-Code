{
 "cells": [
  {
   "cell_type": "markdown",
   "metadata": {},
   "source": [
    "# 43. Multiply Strings\n",
    "\n",
    "Given two non-negative integers num1 and num2 represented as strings, return the product of num1 and num2, also represented as a string.\n",
    "\n",
    "Note: You must not use any built-in BigInteger library or convert the inputs to integer directly.\n",
    "\n",
    "<img src=\"problem-set-2-img/43.png\" style='height: 400px; width: auto;'>"
   ]
  },
  {
   "cell_type": "code",
   "execution_count": null,
   "metadata": {},
   "outputs": [],
   "source": [
    "class Solution:\n",
    "    def multiply(self, num1: str, num2: str) -> str:\n",
    "        return str(int(num1) * int(num2))"
   ]
  },
  {
   "cell_type": "code",
   "execution_count": null,
   "metadata": {},
   "outputs": [],
   "source": [
    "class Solution:\n",
    "    def multiply(self, num1: str, num2: str) -> str:\n",
    "        if num1 == \"0\" or num2 == \"0\":\n",
    "            return \"0\"\n",
    "        \n",
    "        # Initialize answer as a string of zeros of length N.\n",
    "        N = len(num1) + len(num2)\n",
    "        answer = [0] * N\n",
    "        \n",
    "        # Reverse num1 and num2\n",
    "        first_number = num1[::-1]\n",
    "        second_number = num2[::-1]\n",
    "        \n",
    "        for place2, digit2 in enumerate(second_number):\n",
    "            # For each digit in second_number multiply the digit by all digits in first_number.\n",
    "            for place1, digit1 in enumerate(first_number):\n",
    "                # The number of zeros from multiplying to digits depends on the place\n",
    "                # of digit2 in second_number and the place of the digit1 in first_number.\n",
    "                num_zeros = place1 + place2\n",
    "                \n",
    "                # The digit currently at position numZeros in the answer string\n",
    "                # is carried over and summed with the current result.\n",
    "                carry = answer[num_zeros]\n",
    "                multiplication = int(digit1) * int(digit2) + carry\n",
    "                \n",
    "                # Set the ones place of the multiplication result.\n",
    "                answer[num_zeros] = multiplication % 10\n",
    "                \n",
    "                # Carry the tens place of the multiplication result by \n",
    "                # adding it to the next position in the answer array.\n",
    "                answer[num_zeros + 1] += multiplication // 10\n",
    "        \n",
    "        # Pop the excess 0 from the end of answer.\n",
    "        if answer[-1] == 0:\n",
    "            answer.pop()\n",
    "            \n",
    "        return ''.join(str(digit) for digit in reversed(answer))"
   ]
  },
  {
   "cell_type": "markdown",
   "metadata": {},
   "source": [
    "# 50. Pow(x, n)\n",
    "\n",
    "Implement pow(x, n), which calculates x raised to the power n (i.e., xn).\n",
    "\n",
    "<img src=\"problem-set-2-img/50.png\" style='height: 400px; width: auto;'>"
   ]
  },
  {
   "cell_type": "code",
   "execution_count": null,
   "metadata": {},
   "outputs": [],
   "source": [
    "class Solution:\n",
    "    def myPow(self, x: float, n: int) -> float:\n",
    "        return x**n"
   ]
  },
  {
   "cell_type": "markdown",
   "metadata": {},
   "source": [
    "# 807. Max Increase to Keep City Skyline\n",
    "\n",
    "There is a city composed of n x n blocks, where each block contains a single building shaped like a vertical square prism. You are given a 0-indexed n x n integer matrix grid where grid[r][c] represents the height of the building located in the block at row r and column c.\n",
    "\n",
    "A city's skyline is the outer contour formed by all the building when viewing the side of the city from a distance. The skyline from each cardinal direction north, east, south, and west may be different.\n",
    "\n",
    "We are allowed to increase the height of any number of buildings by any amount (the amount can be different per building). The height of a 0-height building can also be increased. However, increasing the height of a building should not affect the city's skyline from any cardinal direction.\n",
    "\n",
    "Return the maximum total sum that the height of the buildings can be increased by without changing the city's skyline from any cardinal direction.\n",
    "\n",
    "<img src=\"problem-set-2-img/807.png\" style='height: 400px; width: auto;'>"
   ]
  },
  {
   "cell_type": "code",
   "execution_count": null,
   "metadata": {},
   "outputs": [],
   "source": [
    "class Solution:\n",
    "    def maxIncreaseKeepingSkyline(self, grid: List[List[int]]) -> int:\n",
    "        max_rows=[max(row) for row in grid]\n",
    "        max_cols=[max(col) for col in zip(*grid)]\n",
    "        count=0\n",
    "        n=len(grid)\n",
    "        for j in range(n):\n",
    "            for i in range(n):\n",
    "                current_height = grid[j][i]\n",
    "                count += min(max_rows[j], max_cols[i]) - current_height\n",
    "        return count"
   ]
  },
  {
   "cell_type": "code",
   "execution_count": null,
   "metadata": {},
   "outputs": [],
   "source": [
    "# <img src=\"problem-set-2-img/50.png\" style='height: 400px; width: auto;'>"
   ]
  },
  {
   "cell_type": "code",
   "execution_count": null,
   "metadata": {},
   "outputs": [],
   "source": []
  }
 ],
 "metadata": {
  "language_info": {
   "name": "python"
  }
 },
 "nbformat": 4,
 "nbformat_minor": 2
}
